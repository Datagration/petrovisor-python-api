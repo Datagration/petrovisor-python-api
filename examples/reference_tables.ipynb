{
 "cells": [
  {
   "cell_type": "code",
   "execution_count": 1,
   "id": "80634b27",
   "metadata": {
    "ExecuteTime": {
     "end_time": "2023-11-22T07:27:46.205800Z",
     "start_time": "2023-11-22T07:27:45.414239Z"
    }
   },
   "outputs": [],
   "source": [
    "import petrovisor as pv\n",
    "from petrovisor import ItemType, RefTableColumnType"
   ]
  },
  {
   "cell_type": "code",
   "execution_count": 2,
   "id": "f1715bc5",
   "metadata": {
    "ExecuteTime": {
     "end_time": "2023-11-22T07:27:47.297741Z",
     "start_time": "2023-11-22T07:27:47.287247Z"
    }
   },
   "outputs": [],
   "source": [
    "import os\n",
    "import time\n",
    "import psutil\n",
    "import pandas as pd\n",
    "import numpy as np"
   ]
  },
  {
   "cell_type": "markdown",
   "id": "b8c50659",
   "metadata": {},
   "source": [
    "# Authorization"
   ]
  },
  {
   "cell_type": "code",
   "execution_count": 3,
   "id": "12845a9f",
   "metadata": {
    "ExecuteTime": {
     "end_time": "2023-11-22T07:27:50.758019Z",
     "start_time": "2023-11-22T07:27:50.199212Z"
    }
   },
   "outputs": [
    {
     "name": "stdout",
     "output_type": "stream",
     "text": [
      "https://api-latest.eu1.petrovisor.com\n"
     ]
    }
   ],
   "source": [
    "# url\n",
    "# discovery_url = r'https://identity.eu1.petrovisor.com'\n",
    "discovery_url = r'https://identity.us1.petrovisor.com'\n",
    "\n",
    "# workspace\n",
    "workspace = 'Workspace Name'\n",
    "\n",
    "# generate access key (only for the first time, comment the line afterwards)\n",
    "key = pv.PetroVisor.generate_credentials_key()\n",
    "# print(f\"key : '{key}'\")\n",
    "# save key for later to reuse\n",
    "# key = ''\n",
    "\n",
    "api = pv.PetroVisor(workspace = workspace, discovery_url = discovery_url, key = key)\n",
    "print(api.Api)"
   ]
  },
  {
   "cell_type": "markdown",
   "id": "f887680e",
   "metadata": {},
   "source": [
    "# PetroVisor API Swagger"
   ]
  },
  {
   "cell_type": "markdown",
   "id": "8702860e",
   "metadata": {},
   "source": [
    "https://api.eu1.petrovisor.com/index.html"
   ]
  },
  {
   "cell_type": "markdown",
   "id": "68f78ac0",
   "metadata": {},
   "source": [
    "https://api.us1.petrovisor.com/index.html"
   ]
  },
  {
   "cell_type": "markdown",
   "id": "462e64b8-0f24-4a31-9adf-8ba168536092",
   "metadata": {},
   "source": [
    "# Examples: RefTables"
   ]
  },
  {
   "cell_type": "markdown",
   "id": "a0847660-f0fb-4250-bf3b-48a467af6291",
   "metadata": {},
   "source": [
    "#### Create DataFrame"
   ]
  },
  {
   "cell_type": "code",
   "execution_count": 4,
   "id": "366179c8-a4c9-4bd4-81ac-f19e25c84f1c",
   "metadata": {},
   "outputs": [],
   "source": [
    "# get dataframe size\n",
    "def dataframe_size(df):\n",
    "    return df.memory_usage(deep=True).sum()/1024/1024 # MB\n",
    "\n",
    "# get memory size used by process\n",
    "def process_size():\n",
    "    process = psutil.Process(os.getpid())\n",
    "    return process.memory_info().rss/1024/1024 # MB"
   ]
  },
  {
   "cell_type": "code",
   "execution_count": 5,
   "id": "1f38bdd4-da70-45b3-b737-431f1290f33e",
   "metadata": {},
   "outputs": [
    {
     "name": "stdout",
     "output_type": "stream",
     "text": [
      "Memory used: 115.765625 MB\n",
      "DataFrame Shape: (100, 9)\n"
     ]
    },
    {
     "data": {
      "text/html": [
       "<div>\n",
       "<style scoped>\n",
       "    .dataframe tbody tr th:only-of-type {\n",
       "        vertical-align: middle;\n",
       "    }\n",
       "\n",
       "    .dataframe tbody tr th {\n",
       "        vertical-align: top;\n",
       "    }\n",
       "\n",
       "    .dataframe thead th {\n",
       "        text-align: right;\n",
       "    }\n",
       "</style>\n",
       "<table border=\"1\" class=\"dataframe\">\n",
       "  <thead>\n",
       "    <tr style=\"text-align: right;\">\n",
       "      <th></th>\n",
       "      <th>Entity</th>\n",
       "      <th>Time</th>\n",
       "      <th>Key</th>\n",
       "      <th>A</th>\n",
       "      <th>B</th>\n",
       "      <th>C</th>\n",
       "      <th>D</th>\n",
       "      <th>E</th>\n",
       "      <th>F</th>\n",
       "    </tr>\n",
       "  </thead>\n",
       "  <tbody>\n",
       "    <tr>\n",
       "      <th>0</th>\n",
       "      <td>Well 001</td>\n",
       "      <td>None</td>\n",
       "      <td>0</td>\n",
       "      <td>0.865291</td>\n",
       "      <td>0.101145</td>\n",
       "      <td>0.024983</td>\n",
       "      <td>0.321104</td>\n",
       "      <td>0.602491</td>\n",
       "      <td>0.950114</td>\n",
       "    </tr>\n",
       "    <tr>\n",
       "      <th>1</th>\n",
       "      <td>Well 001</td>\n",
       "      <td>None</td>\n",
       "      <td>1</td>\n",
       "      <td>0.644955</td>\n",
       "      <td>0.726658</td>\n",
       "      <td>0.776576</td>\n",
       "      <td>0.839482</td>\n",
       "      <td>0.599664</td>\n",
       "      <td>0.371566</td>\n",
       "    </tr>\n",
       "    <tr>\n",
       "      <th>2</th>\n",
       "      <td>Well 001</td>\n",
       "      <td>None</td>\n",
       "      <td>2</td>\n",
       "      <td>0.129020</td>\n",
       "      <td>0.524276</td>\n",
       "      <td>0.920349</td>\n",
       "      <td>0.211082</td>\n",
       "      <td>0.390712</td>\n",
       "      <td>0.553114</td>\n",
       "    </tr>\n",
       "    <tr>\n",
       "      <th>3</th>\n",
       "      <td>Well 001</td>\n",
       "      <td>None</td>\n",
       "      <td>3</td>\n",
       "      <td>0.953477</td>\n",
       "      <td>0.551805</td>\n",
       "      <td>0.827254</td>\n",
       "      <td>0.922899</td>\n",
       "      <td>0.821126</td>\n",
       "      <td>0.509512</td>\n",
       "    </tr>\n",
       "    <tr>\n",
       "      <th>4</th>\n",
       "      <td>Well 001</td>\n",
       "      <td>None</td>\n",
       "      <td>4</td>\n",
       "      <td>0.633325</td>\n",
       "      <td>0.691348</td>\n",
       "      <td>0.756830</td>\n",
       "      <td>0.127926</td>\n",
       "      <td>0.962552</td>\n",
       "      <td>0.423052</td>\n",
       "    </tr>\n",
       "  </tbody>\n",
       "</table>\n",
       "</div>"
      ],
      "text/plain": [
       "     Entity  Time Key         A         B         C         D         E  \\\n",
       "0  Well 001  None   0  0.865291  0.101145  0.024983  0.321104  0.602491   \n",
       "1  Well 001  None   1  0.644955  0.726658  0.776576  0.839482  0.599664   \n",
       "2  Well 001  None   2  0.129020  0.524276  0.920349  0.211082  0.390712   \n",
       "3  Well 001  None   3  0.953477  0.551805  0.827254  0.922899  0.821126   \n",
       "4  Well 001  None   4  0.633325  0.691348  0.756830  0.127926  0.962552   \n",
       "\n",
       "          F  \n",
       "0  0.950114  \n",
       "1  0.371566  \n",
       "2  0.553114  \n",
       "3  0.509512  \n",
       "4  0.423052  "
      ]
     },
     "execution_count": 5,
     "metadata": {},
     "output_type": "execute_result"
    }
   ],
   "source": [
    "num_rows = int(100)\n",
    "# num_rows = int(1000)\n",
    "# num_rows = int(1e6)\n",
    "columns = list('ABCDEF')\n",
    "df = pd.DataFrame(np.random.uniform(0,1,size=(num_rows, len(columns))), columns=columns)\n",
    "df_size = dataframe_size(df)\n",
    "memory_size = process_size()\n",
    "\n",
    "df['Entity'] = None\n",
    "df.loc[:num_rows//2, 'Entity'] = 'Well 001'\n",
    "df['Time'] = None\n",
    "df['Key'] = [str(i) for i in range(0,len(df))]\n",
    "\n",
    "df = df[['Entity','Time','Key',*columns]]\n",
    "df['Key'] = df['Key'].values.astype(str)\n",
    "\n",
    "print(f\"Memory used: {memory_size} MB\")\n",
    "print(f\"DataFrame Shape: {df.shape}\")\n",
    "df.head()"
   ]
  },
  {
   "cell_type": "markdown",
   "id": "1630eaf7-584f-4823-8b38-68d6e43b1e35",
   "metadata": {},
   "source": [
    "## Add RefTable"
   ]
  },
  {
   "cell_type": "code",
   "execution_count": 6,
   "id": "b0176a40-4a14-45db-a0a5-b549847b0264",
   "metadata": {},
   "outputs": [],
   "source": [
    "name = 'Py Test New Table'"
   ]
  },
  {
   "cell_type": "code",
   "execution_count": 7,
   "id": "ba5694fe-2b12-4e5a-9793-a71359e98505",
   "metadata": {},
   "outputs": [
    {
     "data": {
      "text/plain": [
       "<Response [200]>"
      ]
     },
     "execution_count": 7,
     "metadata": {},
     "output_type": "execute_result"
    }
   ],
   "source": [
    "# delete if exists\n",
    "api.delete_ref_table(name)"
   ]
  },
  {
   "cell_type": "code",
   "execution_count": 8,
   "id": "8cad340f-0c0f-464c-9c2f-fd30c4bbad0e",
   "metadata": {},
   "outputs": [
    {
     "name": "stdout",
     "output_type": "stream",
     "text": [
      "Elapsed time: 0.017015397548675537\n"
     ]
    }
   ],
   "source": [
    "# add new table\n",
    "\n",
    "start_time = time.time()\n",
    "\n",
    "api.add_ref_table(name, df, description = 'Testing API from Python')\n",
    "\n",
    "end_time = time.time()\n",
    "print(f\"Elapsed time: {(end_time-start_time)/60}\")"
   ]
  },
  {
   "cell_type": "code",
   "execution_count": 9,
   "id": "cb308452-28b1-4445-a067-cf7a16ef12cc",
   "metadata": {},
   "outputs": [
    {
     "name": "stdout",
     "output_type": "stream",
     "text": [
      "Elapsed time: 0.013286117712656658\n"
     ]
    }
   ],
   "source": [
    "# add data to already existing table\n",
    "\n",
    "start_time = time.time()\n",
    "\n",
    "api.add_ref_table(name, df, description = 'Testing API from Python')\n",
    "\n",
    "end_time = time.time()\n",
    "print(f\"Elapsed time: {(end_time-start_time)/60}\")"
   ]
  },
  {
   "cell_type": "code",
   "execution_count": 10,
   "id": "6589e721-eae2-418c-a7e1-c0dac2717ab5",
   "metadata": {},
   "outputs": [
    {
     "data": {
      "text/plain": [
       "{'Key': {'ColumnType': 'String', 'UnitName': ' ', 'Name': 'Key'},\n",
       " 'Values': [{'ColumnType': 'Numeric', 'UnitName': ' ', 'Name': 'A'},\n",
       "  {'ColumnType': 'Numeric', 'UnitName': ' ', 'Name': 'B'},\n",
       "  {'ColumnType': 'Numeric', 'UnitName': ' ', 'Name': 'C'},\n",
       "  {'ColumnType': 'Numeric', 'UnitName': ' ', 'Name': 'D'},\n",
       "  {'ColumnType': 'Numeric', 'UnitName': ' ', 'Name': 'E'},\n",
       "  {'ColumnType': 'Numeric', 'UnitName': ' ', 'Name': 'F'}],\n",
       " 'Modified': '2024-02-14T15:26:51.2950096Z',\n",
       " 'Created': '2024-02-14T15:26:51.2950097Z',\n",
       " 'Description': 'Testing API from Python',\n",
       " 'Labels': [],\n",
       " 'Name': 'Py Test New Table'}"
      ]
     },
     "execution_count": 10,
     "metadata": {},
     "output_type": "execute_result"
    }
   ],
   "source": [
    "# get data info\n",
    "api.get_ref_table_data_info(name)"
   ]
  },
  {
   "cell_type": "markdown",
   "id": "ef312dae-86db-443e-87bd-4b320604fb89",
   "metadata": {},
   "source": [
    "## Save RefTable Data"
   ]
  },
  {
   "cell_type": "code",
   "execution_count": 11,
   "id": "19652982-0998-4d64-bdc7-28de8d1a8d29",
   "metadata": {},
   "outputs": [
    {
     "name": "stdout",
     "output_type": "stream",
     "text": [
      "Elapsed time: 0.005513131618499756\n"
     ]
    }
   ],
   "source": [
    "# save data and overwrite existing data, meaning that rows with the same 'Entity', 'Timestamp/Date/Time', 'Key' will be overwritten\n",
    "\n",
    "start_time = time.time()\n",
    "\n",
    "api.save_ref_table_data(name, df, skip_existing_data = False)\n",
    "\n",
    "end_time = time.time()\n",
    "print(f\"Elapsed time: {(end_time-start_time)/60}\")"
   ]
  },
  {
   "cell_type": "code",
   "execution_count": 12,
   "id": "cb26d177-81b2-4087-ae32-33395ecd0c62",
   "metadata": {},
   "outputs": [
    {
     "name": "stdout",
     "output_type": "stream",
     "text": [
      "Elapsed time: 0.0059435486793518065\n"
     ]
    }
   ],
   "source": [
    "# save data but keep existing data, meaning that rows with the same 'Entity', 'Timestamp/Date/Time', 'Key' will be not overwritten\n",
    "\n",
    "start_time = time.time()\n",
    "\n",
    "api.save_ref_table_data(name, df, skip_existing_data = True)\n",
    "\n",
    "end_time = time.time()\n",
    "print(f\"Elapsed time: {(end_time-start_time)/60}\")"
   ]
  },
  {
   "cell_type": "markdown",
   "id": "2ae81481-42b1-4fc5-8ab0-2910e31c4c75",
   "metadata": {},
   "source": [
    "## Load RefTable Data"
   ]
  },
  {
   "cell_type": "code",
   "execution_count": 13,
   "id": "fa388c54-c714-45f4-bb7a-aaf2e1f74393",
   "metadata": {},
   "outputs": [
    {
     "name": "stdout",
     "output_type": "stream",
     "text": [
      "Elapsed time: 0.007588982582092285\n"
     ]
    },
    {
     "data": {
      "text/html": [
       "<div>\n",
       "<style scoped>\n",
       "    .dataframe tbody tr th:only-of-type {\n",
       "        vertical-align: middle;\n",
       "    }\n",
       "\n",
       "    .dataframe tbody tr th {\n",
       "        vertical-align: top;\n",
       "    }\n",
       "\n",
       "    .dataframe thead th {\n",
       "        text-align: right;\n",
       "    }\n",
       "</style>\n",
       "<table border=\"1\" class=\"dataframe\">\n",
       "  <thead>\n",
       "    <tr style=\"text-align: right;\">\n",
       "      <th></th>\n",
       "      <th>Entity</th>\n",
       "      <th>Date</th>\n",
       "      <th>Key [ ]</th>\n",
       "      <th>A [ ]</th>\n",
       "      <th>B [ ]</th>\n",
       "      <th>C [ ]</th>\n",
       "      <th>D [ ]</th>\n",
       "      <th>E [ ]</th>\n",
       "      <th>F [ ]</th>\n",
       "    </tr>\n",
       "  </thead>\n",
       "  <tbody>\n",
       "    <tr>\n",
       "      <th>0</th>\n",
       "      <td>Well 001</td>\n",
       "      <td>None</td>\n",
       "      <td>0</td>\n",
       "      <td>0.865291</td>\n",
       "      <td>0.101145</td>\n",
       "      <td>0.024983</td>\n",
       "      <td>0.321104</td>\n",
       "      <td>0.602491</td>\n",
       "      <td>0.950114</td>\n",
       "    </tr>\n",
       "    <tr>\n",
       "      <th>1</th>\n",
       "      <td>Well 001</td>\n",
       "      <td>None</td>\n",
       "      <td>1</td>\n",
       "      <td>0.644955</td>\n",
       "      <td>0.726658</td>\n",
       "      <td>0.776576</td>\n",
       "      <td>0.839482</td>\n",
       "      <td>0.599664</td>\n",
       "      <td>0.371566</td>\n",
       "    </tr>\n",
       "    <tr>\n",
       "      <th>2</th>\n",
       "      <td>Well 001</td>\n",
       "      <td>None</td>\n",
       "      <td>2</td>\n",
       "      <td>0.129020</td>\n",
       "      <td>0.524276</td>\n",
       "      <td>0.920349</td>\n",
       "      <td>0.211082</td>\n",
       "      <td>0.390712</td>\n",
       "      <td>0.553114</td>\n",
       "    </tr>\n",
       "    <tr>\n",
       "      <th>3</th>\n",
       "      <td>Well 001</td>\n",
       "      <td>None</td>\n",
       "      <td>3</td>\n",
       "      <td>0.953477</td>\n",
       "      <td>0.551805</td>\n",
       "      <td>0.827254</td>\n",
       "      <td>0.922899</td>\n",
       "      <td>0.821126</td>\n",
       "      <td>0.509512</td>\n",
       "    </tr>\n",
       "    <tr>\n",
       "      <th>4</th>\n",
       "      <td>Well 001</td>\n",
       "      <td>None</td>\n",
       "      <td>4</td>\n",
       "      <td>0.633325</td>\n",
       "      <td>0.691348</td>\n",
       "      <td>0.756830</td>\n",
       "      <td>0.127926</td>\n",
       "      <td>0.962552</td>\n",
       "      <td>0.423052</td>\n",
       "    </tr>\n",
       "    <tr>\n",
       "      <th>...</th>\n",
       "      <td>...</td>\n",
       "      <td>...</td>\n",
       "      <td>...</td>\n",
       "      <td>...</td>\n",
       "      <td>...</td>\n",
       "      <td>...</td>\n",
       "      <td>...</td>\n",
       "      <td>...</td>\n",
       "      <td>...</td>\n",
       "    </tr>\n",
       "    <tr>\n",
       "      <th>95</th>\n",
       "      <td>None</td>\n",
       "      <td>None</td>\n",
       "      <td>95</td>\n",
       "      <td>0.037831</td>\n",
       "      <td>0.051062</td>\n",
       "      <td>0.898218</td>\n",
       "      <td>0.803915</td>\n",
       "      <td>0.668444</td>\n",
       "      <td>0.136398</td>\n",
       "    </tr>\n",
       "    <tr>\n",
       "      <th>96</th>\n",
       "      <td>None</td>\n",
       "      <td>None</td>\n",
       "      <td>96</td>\n",
       "      <td>0.093827</td>\n",
       "      <td>0.305742</td>\n",
       "      <td>0.737167</td>\n",
       "      <td>0.251420</td>\n",
       "      <td>0.955462</td>\n",
       "      <td>0.573619</td>\n",
       "    </tr>\n",
       "    <tr>\n",
       "      <th>97</th>\n",
       "      <td>None</td>\n",
       "      <td>None</td>\n",
       "      <td>97</td>\n",
       "      <td>0.924104</td>\n",
       "      <td>0.670228</td>\n",
       "      <td>0.860875</td>\n",
       "      <td>0.491014</td>\n",
       "      <td>0.339187</td>\n",
       "      <td>0.561251</td>\n",
       "    </tr>\n",
       "    <tr>\n",
       "      <th>98</th>\n",
       "      <td>None</td>\n",
       "      <td>None</td>\n",
       "      <td>98</td>\n",
       "      <td>0.053995</td>\n",
       "      <td>0.568543</td>\n",
       "      <td>0.876069</td>\n",
       "      <td>0.796048</td>\n",
       "      <td>0.725472</td>\n",
       "      <td>0.109247</td>\n",
       "    </tr>\n",
       "    <tr>\n",
       "      <th>99</th>\n",
       "      <td>None</td>\n",
       "      <td>None</td>\n",
       "      <td>99</td>\n",
       "      <td>0.656382</td>\n",
       "      <td>0.017141</td>\n",
       "      <td>0.398754</td>\n",
       "      <td>0.996238</td>\n",
       "      <td>0.902488</td>\n",
       "      <td>0.253061</td>\n",
       "    </tr>\n",
       "  </tbody>\n",
       "</table>\n",
       "<p>100 rows × 9 columns</p>\n",
       "</div>"
      ],
      "text/plain": [
       "      Entity  Date Key [ ]     A [ ]     B [ ]     C [ ]     D [ ]     E [ ]  \\\n",
       "0   Well 001  None       0  0.865291  0.101145  0.024983  0.321104  0.602491   \n",
       "1   Well 001  None       1  0.644955  0.726658  0.776576  0.839482  0.599664   \n",
       "2   Well 001  None       2  0.129020  0.524276  0.920349  0.211082  0.390712   \n",
       "3   Well 001  None       3  0.953477  0.551805  0.827254  0.922899  0.821126   \n",
       "4   Well 001  None       4  0.633325  0.691348  0.756830  0.127926  0.962552   \n",
       "..       ...   ...     ...       ...       ...       ...       ...       ...   \n",
       "95      None  None      95  0.037831  0.051062  0.898218  0.803915  0.668444   \n",
       "96      None  None      96  0.093827  0.305742  0.737167  0.251420  0.955462   \n",
       "97      None  None      97  0.924104  0.670228  0.860875  0.491014  0.339187   \n",
       "98      None  None      98  0.053995  0.568543  0.876069  0.796048  0.725472   \n",
       "99      None  None      99  0.656382  0.017141  0.398754  0.996238  0.902488   \n",
       "\n",
       "       F [ ]  \n",
       "0   0.950114  \n",
       "1   0.371566  \n",
       "2   0.553114  \n",
       "3   0.509512  \n",
       "4   0.423052  \n",
       "..       ...  \n",
       "95  0.136398  \n",
       "96  0.573619  \n",
       "97  0.561251  \n",
       "98  0.109247  \n",
       "99  0.253061  \n",
       "\n",
       "[100 rows x 9 columns]"
      ]
     },
     "execution_count": 13,
     "metadata": {},
     "output_type": "execute_result"
    }
   ],
   "source": [
    "start_time = time.time()\n",
    "\n",
    "df = api.load_ref_table_data(name)\n",
    "\n",
    "end_time = time.time()\n",
    "print(f\"Elapsed time: {(end_time-start_time)/60}\")\n",
    "\n",
    "df"
   ]
  },
  {
   "cell_type": "markdown",
   "id": "b69a245c-90d1-4083-b096-36474deacea9",
   "metadata": {},
   "source": [
    "## Delete RefTable Data"
   ]
  },
  {
   "cell_type": "code",
   "execution_count": 14,
   "id": "0cb2292c-f6bf-4e8d-97c0-2057e2ccca27",
   "metadata": {},
   "outputs": [
    {
     "data": {
      "text/plain": [
       "<Response [200]>"
      ]
     },
     "execution_count": 14,
     "metadata": {},
     "output_type": "execute_result"
    }
   ],
   "source": [
    "api.delete_ref_table_data(name)"
   ]
  },
  {
   "cell_type": "code",
   "execution_count": null,
   "id": "b7477bb0-3a2f-48d4-bb69-208a503f07ad",
   "metadata": {},
   "outputs": [],
   "source": []
  }
 ],
 "metadata": {
  "kernelspec": {
   "display_name": "petrovisor-api",
   "language": "python",
   "name": "petrovisor-api"
  },
  "language_info": {
   "codemirror_mode": {
    "name": "ipython",
    "version": 3
   },
   "file_extension": ".py",
   "mimetype": "text/x-python",
   "name": "python",
   "nbconvert_exporter": "python",
   "pygments_lexer": "ipython3",
   "version": "3.11.6"
  }
 },
 "nbformat": 4,
 "nbformat_minor": 5
}
