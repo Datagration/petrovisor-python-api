{
 "cells": [
  {
   "cell_type": "code",
   "execution_count": 1,
   "id": "80634b27",
   "metadata": {},
   "outputs": [],
   "source": [
    "import petrovisor as pv"
   ]
  },
  {
   "cell_type": "code",
   "execution_count": 2,
   "id": "f1715bc5",
   "metadata": {},
   "outputs": [],
   "source": [
    "import pandas as pd\n",
    "import numpy as np"
   ]
  },
  {
   "cell_type": "markdown",
   "id": "b8c50659",
   "metadata": {},
   "source": [
    "# Authorization"
   ]
  },
  {
   "cell_type": "code",
   "execution_count": null,
   "id": "12845a9f",
   "metadata": {},
   "outputs": [],
   "source": [
    "# url\n",
    "# discovery_url = r'https://identity.eu1.petrovisor.com'\n",
    "discovery_url = r'https://identity.us1.petrovisor.com'\n",
    "\n",
    "# workspace\n",
    "workspace = 'Workspace Name'\n",
    "\n",
    "# generate access key (only for the first time, comment the line afterwards)\n",
    "key = pv.PetroVisor.generate_credentials_key()\n",
    "# print(f\"key : '{key}'\")\n",
    "# save key for later to reuse\n",
    "# key = ''\n",
    "\n",
    "pv_api = pv.PetroVisor(workspace = workspace, discovery_url = discovery_url, key = key)\n",
    "print(pv_api.Api)"
   ]
  },
  {
   "cell_type": "markdown",
   "id": "f887680e",
   "metadata": {},
   "source": [
    "# PetroVisor API Swagger"
   ]
  },
  {
   "cell_type": "markdown",
   "id": "8702860e",
   "metadata": {},
   "source": [
    "https://api.eu1.petrovisor.com/index.html"
   ]
  },
  {
   "cell_type": "markdown",
   "id": "68f78ac0",
   "metadata": {},
   "source": [
    "https://api.us1.petrovisor.com/index.html"
   ]
  },
  {
   "cell_type": "markdown",
   "id": "6a765f52",
   "metadata": {},
   "source": [
    "# Examples: Reference Tables"
   ]
  },
  {
   "cell_type": "code",
   "execution_count": 4,
   "id": "8f39ac64",
   "metadata": {},
   "outputs": [],
   "source": [
    "# reference table name\n",
    "ref_table_name = 'Reference Table Test'\n",
    "\n",
    "# entity name\n",
    "entity_name = 'Well 01'\n",
    "\n",
    "# date\n",
    "date_1 = '2022-08-04'\n",
    "date_2 = '2022-08-05'\n",
    "date_3 = '2022-08-06'"
   ]
  },
  {
   "cell_type": "code",
   "execution_count": 5,
   "id": "b08c4708",
   "metadata": {},
   "outputs": [
    {
     "data": {
      "text/plain": [
       "{'KeyName': 'x',\n",
       " 'ValueName': 'y',\n",
       " 'KeyUnitName': ' ',\n",
       " 'ValueUnitName': ' ',\n",
       " 'Modified': '2023-03-21T12:11:59.0025999Z',\n",
       " 'Created': '2023-03-21T12:11:59.0026Z',\n",
       " 'Labels': [],\n",
       " 'Name': 'Reference Table Test'}"
      ]
     },
     "execution_count": 5,
     "metadata": {},
     "output_type": "execute_result"
    }
   ],
   "source": [
    "# add reference table definition\n",
    "pv_api.add_item('ReferenceTableDefinition',{\n",
    "    'Name': ref_table_name,\n",
    "    'KeyName': 'x',\n",
    "    'KeyUnitName': ' ',\n",
    "    'ValueName': 'y',\n",
    "    'ValueUnitName': ' ',    \n",
    "})"
   ]
  },
  {
   "cell_type": "code",
   "execution_count": 6,
   "id": "064647a1",
   "metadata": {},
   "outputs": [
    {
     "data": {
      "text/plain": [
       "[{'ReferenceTableDefinitionName': 'Reference Table Test',\n",
       "  'EntityName': 'Well 01',\n",
       "  'Timestamp': '2022-08-05T00:00:00'},\n",
       " {'ReferenceTableDefinitionName': 'Reference Table Test',\n",
       "  'EntityName': 'Well 01',\n",
       "  'Timestamp': '2022-08-06T00:00:00'},\n",
       " {'ReferenceTableDefinitionName': 'Reference Table Test',\n",
       "  'EntityName': 'Well 01'},\n",
       " {'ReferenceTableDefinitionName': 'Reference Table Test',\n",
       "  'EntityName': 'Well 01',\n",
       "  'Timestamp': '2022-08-04T00:00:00'}]"
      ]
     },
     "execution_count": 6,
     "metadata": {},
     "output_type": "execute_result"
    }
   ],
   "source": [
    "# get reference table info\n",
    "pv_api.get_ref_table_data_info(ref_table_name)"
   ]
  },
  {
   "cell_type": "markdown",
   "id": "5eaa7ac5",
   "metadata": {},
   "source": [
    "#### Save Reference Table data"
   ]
  },
  {
   "cell_type": "code",
   "execution_count": 7,
   "id": "b4c088b0",
   "metadata": {},
   "outputs": [
    {
     "data": {
      "text/plain": [
       "{'Data': {'4': 4, '5': 5, '6': 6, '7': 7},\n",
       " 'ReferenceTableDefinitionName': 'Reference Table Test',\n",
       " 'EntityName': 'Well 01',\n",
       " 'Timestamp': '2022-08-04T00:00:00'}"
      ]
     },
     "execution_count": 7,
     "metadata": {},
     "output_type": "execute_result"
    }
   ],
   "source": [
    "# save reference table data (dict)\n",
    "data = {\n",
    "    '4': 4,\n",
    "    '5': 5,\n",
    "    '6': 6,\n",
    "    7: 7\n",
    "}\n",
    "pv_api.save_ref_table_data(ref_table_name,entity_name,date_1,data)\n",
    "\n",
    "# load reference table data\n",
    "pv_api.load_ref_table_data(ref_table_name,entity_name,date_1)"
   ]
  },
  {
   "cell_type": "code",
   "execution_count": 8,
   "id": "d4d54645",
   "metadata": {},
   "outputs": [
    {
     "data": {
      "text/plain": [
       "{'Data': {'4': 4, '5': 5, '6': 6, '7': 7},\n",
       " 'ReferenceTableDefinitionName': 'Reference Table Test',\n",
       " 'EntityName': 'Well 01',\n",
       " 'Timestamp': '2022-08-04T00:00:00'}"
      ]
     },
     "execution_count": 8,
     "metadata": {},
     "output_type": "execute_result"
    }
   ],
   "source": [
    "# save reference table data (numpy array)\n",
    "s = np.array([100,111,112,113,114])\n",
    "pv_api.save_ref_table_data(ref_table_name,entity_name,date_1,s)\n",
    "\n",
    "# load reference table data\n",
    "pv_api.load_ref_table_data(ref_table_name,entity_name,date_1)"
   ]
  },
  {
   "cell_type": "code",
   "execution_count": 9,
   "id": "27e61ddb",
   "metadata": {},
   "outputs": [
    {
     "data": {
      "text/plain": [
       "{'Data': {'4': 4, '5': 5, '6': 6, '7': 7},\n",
       " 'ReferenceTableDefinitionName': 'Reference Table Test',\n",
       " 'EntityName': 'Well 01',\n",
       " 'Timestamp': '2022-08-04T00:00:00'}"
      ]
     },
     "execution_count": 9,
     "metadata": {},
     "output_type": "execute_result"
    }
   ],
   "source": [
    "# save reference table data (pandas DataFrame)\n",
    "df = pd.DataFrame(columns=['A','B'],data=[[1,2],[3,4],[5,6],[7,8]])\n",
    "pv_api.save_ref_table_data(ref_table_name,entity_name,date_1,df)\n",
    "\n",
    "# load reference table data\n",
    "pv_api.load_ref_table_data(ref_table_name,entity_name,date_1)"
   ]
  },
  {
   "cell_type": "code",
   "execution_count": 10,
   "id": "3d4ab685",
   "metadata": {},
   "outputs": [
    {
     "data": {
      "text/plain": [
       "{'Data': {'0': 10, '1': 11, '2': 12, '3': 13, '4': 14},\n",
       " 'ReferenceTableDefinitionName': 'Reference Table Test',\n",
       " 'EntityName': 'Well 01',\n",
       " 'Timestamp': '2022-08-05T00:00:00'}"
      ]
     },
     "execution_count": 10,
     "metadata": {},
     "output_type": "execute_result"
    }
   ],
   "source": [
    "# save reference table data (pandas Series)\n",
    "s = pd.Series([10,11,12,13,14])\n",
    "pv_api.save_ref_table_data(ref_table_name,entity_name,date_2,s)\n",
    "\n",
    "# load reference table data\n",
    "pv_api.load_ref_table_data(ref_table_name,entity_name,date_2)"
   ]
  },
  {
   "cell_type": "code",
   "execution_count": 11,
   "id": "3a3010e2",
   "metadata": {},
   "outputs": [
    {
     "data": {
      "text/plain": [
       "{'Data': {'0': 45, '1': 46, '2': 47},\n",
       " 'ReferenceTableDefinitionName': 'Reference Table Test',\n",
       " 'EntityName': 'Well 01',\n",
       " 'Timestamp': '2022-08-06T00:00:00'}"
      ]
     },
     "execution_count": 11,
     "metadata": {},
     "output_type": "execute_result"
    }
   ],
   "source": [
    "# save reference table data (list)\n",
    "s = [45,46,47]\n",
    "pv_api.save_ref_table_data(ref_table_name,entity_name,date_3,s)\n",
    "\n",
    "# load reference table data\n",
    "pv_api.load_ref_table_data(ref_table_name,entity_name,date_3)"
   ]
  },
  {
   "cell_type": "code",
   "execution_count": 12,
   "id": "7c373005",
   "metadata": {},
   "outputs": [
    {
     "data": {
      "text/plain": [
       "{'Data': {'45': 12, '46': 13, '47': 14},\n",
       " 'ReferenceTableDefinitionName': 'Reference Table Test',\n",
       " 'EntityName': 'Well 01'}"
      ]
     },
     "execution_count": 12,
     "metadata": {},
     "output_type": "execute_result"
    }
   ],
   "source": [
    "# save reference table data (list of lists)\n",
    "s = [[45,12],[46,13],[47,14]]\n",
    "pv_api.save_ref_table_data(ref_table_name,entity_name,None,s)\n",
    "\n",
    "# load reference table data\n",
    "pv_api.load_ref_table_data(ref_table_name,entity_name,None)"
   ]
  },
  {
   "cell_type": "code",
   "execution_count": 13,
   "id": "39c2adeb",
   "metadata": {},
   "outputs": [
    {
     "data": {
      "text/plain": [
       "{'Data': {'445': 12, '446': 13, '447': 14},\n",
       " 'ReferenceTableDefinitionName': 'Reference Table Test',\n",
       " 'EntityName': 'Well 01',\n",
       " 'Timestamp': '2022-08-04T00:00:00'}"
      ]
     },
     "execution_count": 13,
     "metadata": {},
     "output_type": "execute_result"
    }
   ],
   "source": [
    "# save reference table data (list of tuples)\n",
    "s = [(445,12),(446,13),(447,14)]\n",
    "pv_api.save_ref_table_data(ref_table_name,entity_name,date_1,s)\n",
    "\n",
    "# load reference table data\n",
    "pv_api.load_ref_table_data(ref_table_name,entity_name,date_1)"
   ]
  },
  {
   "cell_type": "code",
   "execution_count": 14,
   "id": "e8aa399c",
   "metadata": {},
   "outputs": [
    {
     "data": {
      "text/plain": [
       "<Response [200]>"
      ]
     },
     "execution_count": 14,
     "metadata": {},
     "output_type": "execute_result"
    }
   ],
   "source": [
    "# delete reference table data\n",
    "pv_api.delete_ref_table_data(ref_table_name,entity_name,date_1)"
   ]
  },
  {
   "cell_type": "code",
   "execution_count": null,
   "id": "e7990fcf",
   "metadata": {},
   "outputs": [],
   "source": []
  }
 ],
 "metadata": {
  "kernelspec": {
   "display_name": "petrovisor_api",
   "language": "python",
   "name": "petrovisor_api"
  },
  "language_info": {
   "codemirror_mode": {
    "name": "ipython",
    "version": 3
   },
   "file_extension": ".py",
   "mimetype": "text/x-python",
   "name": "python",
   "nbconvert_exporter": "python",
   "pygments_lexer": "ipython3",
   "version": "3.7.16"
  }
 },
 "nbformat": 4,
 "nbformat_minor": 5
}
