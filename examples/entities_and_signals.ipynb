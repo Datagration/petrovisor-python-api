{
 "cells": [
  {
   "cell_type": "code",
   "execution_count": 1,
   "id": "80634b27",
   "metadata": {},
   "source": [
    "import petrovisor as pv\n",
    "from petrovisor import SignalType, TimeIncrement, DepthIncrement"
   ],
   "outputs": []
  },
  {
   "cell_type": "markdown",
   "id": "b8c50659",
   "metadata": {},
   "source": [
    "# Authorization"
   ]
  },
  {
   "cell_type": "code",
   "execution_count": 2,
   "id": "b969eb49",
   "metadata": {},
   "source": [
    "# url\n",
    "discovery_url = r'https://identity.eu1.petrovisor.com'\n",
    "# discovery_url = r'https://identity.us1.petrovisor.com'\n",
    "\n",
    "# workspace\n",
    "workspace = 'Workspace Name'\n",
    "\n",
    "# generate access key (only for the first time, comment the line afterwards)\n",
    "key = pv.PetroVisor.generate_credentials_key()\n",
    "# print(f\"key : '{key}'\")\n",
    "# save key for later to reuse\n",
    "# key = ''\n",
    "\n",
    "api = pv.PetroVisor(workspace = workspace, discovery_url = discovery_url, key = key)\n",
    "print(api.Api)"
   ],
   "outputs": []
  },
  {
   "cell_type": "markdown",
   "id": "f887680e",
   "metadata": {},
   "source": [
    "# PetroVisor API Swagger"
   ]
  },
  {
   "cell_type": "markdown",
   "id": "8702860e",
   "metadata": {},
   "source": [
    "https://api.eu1.petrovisor.com/index.html"
   ]
  },
  {
   "cell_type": "markdown",
   "id": "68f78ac0",
   "metadata": {},
   "source": [
    "https://api.us1.petrovisor.com/index.html"
   ]
  },
  {
   "cell_type": "markdown",
   "id": "99422d8b",
   "metadata": {},
   "source": [
    "# Examples: Entities and Signals"
   ]
  },
  {
   "cell_type": "code",
   "execution_count": 3,
   "id": "bd7f7cb8",
   "metadata": {},
   "source": [
    "# entity\n",
    "entity_name = 'Well 01'\n",
    "\n",
    "# signal\n",
    "signal_name = 'cumulative oil production'"
   ],
   "outputs": []
  },
  {
   "cell_type": "markdown",
   "id": "80cfb09f",
   "metadata": {},
   "source": [
    "#### Get Entitites"
   ]
  },
  {
   "cell_type": "code",
   "execution_count": 4,
   "id": "bc49c0df",
   "metadata": {
    "scrolled": true,
    "tags": []
   },
   "source": [
    "# get all entities\n",
    "entities = api.get_entities()\n",
    "entities"
   ],
   "outputs": []
  },
  {
   "cell_type": "code",
   "execution_count": 5,
   "id": "1eff7cd2",
   "metadata": {
    "scrolled": true,
    "tags": []
   },
   "source": [
    "# get all entity names\n",
    "entity_names = api.get_entity_names()\n",
    "entity_names"
   ],
   "outputs": []
  },
  {
   "cell_type": "code",
   "execution_count": 6,
   "id": "659fc293",
   "metadata": {
    "scrolled": true,
    "tags": []
   },
   "source": [
    "# get all entity names\n",
    "well_names = api.get_entity_names(entity_type='Well')\n",
    "well_names"
   ],
   "outputs": []
  },
  {
   "cell_type": "markdown",
   "id": "51aa1158",
   "metadata": {},
   "source": [
    "#### Get Signals"
   ]
  },
  {
   "cell_type": "code",
   "execution_count": 7,
   "id": "f0051bcf",
   "metadata": {
    "scrolled": true,
    "tags": []
   },
   "source": [
    "# get all signals\n",
    "api.get_signals()"
   ],
   "outputs": []
  },
  {
   "cell_type": "code",
   "execution_count": 8,
   "id": "c97f3eb5",
   "metadata": {
    "scrolled": true,
    "tags": []
   },
   "source": [
    "# get all signals\n",
    "api.get_signal_names()"
   ],
   "outputs": []
  },
  {
   "cell_type": "code",
   "execution_count": 9,
   "id": "26759b74",
   "metadata": {
    "scrolled": true,
    "tags": []
   },
   "source": [
    "# get all time-dependent signals\n",
    "api.get_signal_names(signal_type=SignalType.TimeDependent)"
   ],
   "outputs": []
  },
  {
   "cell_type": "code",
   "execution_count": 10,
   "id": "2ec5abf9",
   "metadata": {
    "tags": []
   },
   "source": [
    "# get all depth-dependent signals\n",
    "api.get_signal_names(signal_type=SignalType.DepthDependent)"
   ],
   "outputs": []
  },
  {
   "cell_type": "code",
   "execution_count": 11,
   "id": "d92b74ae",
   "metadata": {
    "scrolled": true,
    "tags": []
   },
   "source": [
    "# get all static signals\n",
    "api.get_signal_names(signal_type=SignalType.Static)"
   ],
   "outputs": []
  },
  {
   "cell_type": "code",
   "execution_count": 12,
   "id": "dc26c1a3",
   "metadata": {
    "tags": []
   },
   "source": [
    "# get all string signals\n",
    "api.get_signal_names(signal_type=SignalType.String)"
   ],
   "outputs": []
  },
  {
   "cell_type": "code",
   "execution_count": 13,
   "id": "67b210c0",
   "metadata": {
    "tags": []
   },
   "source": [
    "# get all time-dependent string signals\n",
    "api.get_signal_names(signal_type=SignalType.StringTimeDependent)"
   ],
   "outputs": []
  },
  {
   "cell_type": "markdown",
   "id": "1b8a86dd",
   "metadata": {},
   "source": [
    "#### Get Entites which have specified Signals"
   ]
  },
  {
   "cell_type": "code",
   "execution_count": 14,
   "id": "acb5c176",
   "metadata": {
    "scrolled": true,
    "tags": []
   },
   "source": [
    "# get entities with specified signals\n",
    "api.get_entity_names(signal=signal_name)"
   ],
   "outputs": []
  },
  {
   "cell_type": "markdown",
   "id": "bdee6ac7",
   "metadata": {},
   "source": [
    "#### Get Signals which are defined for given Entities"
   ]
  },
  {
   "cell_type": "code",
   "execution_count": 15,
   "id": "e1135b00",
   "metadata": {
    "tags": []
   },
   "source": [
    "# get signal defined for specified entity\n",
    "api.get_signal_names(entity=entity_name)"
   ],
   "outputs": []
  },
  {
   "cell_type": "markdown",
   "id": "6694b84a",
   "metadata": {},
   "source": [
    "#### Get Signal Units"
   ]
  },
  {
   "cell_type": "code",
   "execution_count": 16,
   "id": "641b4464",
   "metadata": {},
   "source": [
    "# get signal units\n",
    "api.get_signal_unit(signal_name)"
   ],
   "outputs": []
  },
  {
   "cell_type": "code",
   "execution_count": 17,
   "id": "09f9408e",
   "metadata": {
    "tags": []
   },
   "source": [
    "# get signal units\n",
    "api.get_signal_unit_names(signal_name)"
   ],
   "outputs": []
  },
  {
   "cell_type": "code",
   "execution_count": 18,
   "id": "5726b80b",
   "metadata": {},
   "source": [
    "# get signal measurement\n",
    "measurement = api.get_signal_measurement_name(signal_name)\n",
    "measurement"
   ],
   "outputs": []
  },
  {
   "cell_type": "code",
   "execution_count": 19,
   "id": "46f7b8d8",
   "metadata": {
    "tags": []
   },
   "source": [
    "# get all units for specified measurement\n",
    "api.get_measurement_unit_names(measurement)"
   ],
   "outputs": []
  },
  {
   "cell_type": "markdown",
   "id": "687f4545",
   "metadata": {},
   "source": [
    "# Examples: Load, Save, Delete Signal's Data"
   ]
  },
  {
   "cell_type": "code",
   "execution_count": 20,
   "id": "729d32a1",
   "metadata": {
    "tags": []
   },
   "source": [
    "# entity\n",
    "entity_name = 'Well 01'\n",
    "\n",
    "# static signal\n",
    "static_signal = 'subsurface x-coordinate'\n",
    "static_signal_unit = api.get_signal_unit(static_signal)\n",
    "\n",
    "# static string signal\n",
    "string_signal = 'static string'\n",
    "string_signal_unit = ' '\n",
    "\n",
    "# time-dependent signal\n",
    "time_signal = 'cumulative oil production'\n",
    "time_signal_unit = api.get_signal_unit(time_signal)\n",
    "\n",
    "# depth-dependent signal\n",
    "depth_signal = 'measured depth'\n",
    "depth_signal_unit = api.get_signal_unit(depth_signal)\n",
    "\n",
    "# time-dependent string signal\n",
    "time_string_signal = 'time string'\n",
    "time_string_signal_unit = ' '"
   ],
   "outputs": []
  },
  {
   "cell_type": "markdown",
   "id": "8f7dce66",
   "metadata": {},
   "source": [
    "#### Time Range"
   ]
  },
  {
   "cell_type": "code",
   "execution_count": 21,
   "id": "1e1c1e14",
   "metadata": {},
   "source": [
    "# time range for all signals\n",
    "api.get_data_range(SignalType.TimeDependent)"
   ],
   "outputs": []
  },
  {
   "cell_type": "code",
   "execution_count": 22,
   "id": "7fddf700",
   "metadata": {},
   "source": [
    "# time range for specified signal\n",
    "api.get_data_range('TimeDependent',signal=time_signal)"
   ],
   "outputs": []
  },
  {
   "cell_type": "code",
   "execution_count": 23,
   "id": "918a9318",
   "metadata": {},
   "source": [
    "# time range for specified signal and entity\n",
    "api.get_data_range('time',signal=time_signal,entity=entity_name)"
   ],
   "outputs": []
  },
  {
   "cell_type": "markdown",
   "id": "fef4a512",
   "metadata": {},
   "source": [
    "#### Depth Range"
   ]
  },
  {
   "cell_type": "code",
   "execution_count": 24,
   "id": "8057c7c0",
   "metadata": {},
   "source": [
    "# depth range for all signals\n",
    "api.get_data_range(SignalType.DepthDependent)"
   ],
   "outputs": []
  },
  {
   "cell_type": "code",
   "execution_count": 25,
   "id": "6470f030",
   "metadata": {},
   "source": [
    "# depth range for specified signal\n",
    "api.get_data_range('DepthDependent',signal=depth_signal)"
   ],
   "outputs": []
  },
  {
   "cell_type": "code",
   "execution_count": 26,
   "id": "e0136d22",
   "metadata": {},
   "source": [
    "# depth range for specified signal and entity\n",
    "api.get_data_range('depth',signal=depth_signal,entity=entity_name)"
   ],
   "outputs": []
  },
  {
   "cell_type": "markdown",
   "id": "587b0959",
   "metadata": {},
   "source": [
    "#### Time String Range"
   ]
  },
  {
   "cell_type": "code",
   "execution_count": 27,
   "id": "cc95921b",
   "metadata": {},
   "source": [
    "# time string range for all signals\n",
    "api.get_data_range(SignalType.StringTimeDependent)"
   ],
   "outputs": []
  },
  {
   "cell_type": "code",
   "execution_count": 28,
   "id": "c0df78ca",
   "metadata": {},
   "source": [
    "# time string range for specified signal\n",
    "api.get_data_range('StringTimeDependent',signal=time_string_signal)"
   ],
   "outputs": []
  },
  {
   "cell_type": "code",
   "execution_count": 29,
   "id": "ef0dee84",
   "metadata": {},
   "source": [
    "# time string range for specified signal and entity\n",
    "api.get_data_range('timestring',signal=time_string_signal,entity=entity_name)"
   ],
   "outputs": []
  },
  {
   "cell_type": "markdown",
   "id": "76705d54",
   "metadata": {},
   "source": [
    "#### Save data"
   ]
  },
  {
   "cell_type": "code",
   "execution_count": 30,
   "id": "eb3577bc",
   "metadata": {},
   "source": [
    "# save static data\n",
    "api.save_data('static',[{'Entity':entity_name,\n",
    "                             'Signal': static_signal,\n",
    "                             'Unit':static_signal_unit,\n",
    "                             'Data':0.4}])"
   ],
   "outputs": []
  },
  {
   "cell_type": "code",
   "execution_count": 31,
   "id": "4a22543a",
   "metadata": {},
   "source": [
    "# save static string data\n",
    "api.save_data('string',[{'Entity':entity_name,\n",
    "                        'Signal':string_signal,\n",
    "                        'Unit':string_signal_unit,\n",
    "                        'Data':'string value'}])"
   ],
   "outputs": []
  },
  {
   "cell_type": "code",
   "execution_count": 32,
   "id": "d0aedcc8",
   "metadata": {},
   "source": [
    "# save time data\n",
    "api.save_data('time',[{'Entity':entity_name,\n",
    "                        'Signal':time_signal,\n",
    "                        'Unit':time_signal_unit,\n",
    "                        'Data':[\n",
    "                            {'Date':'2022-08-01','Value':125},\n",
    "                            {'Date':'2022-08-02','Value':225},\n",
    "                            {'Date':'2022-08-03','Value':325},\n",
    "                        ]}])"
   ],
   "outputs": []
  },
  {
   "cell_type": "code",
   "execution_count": 33,
   "id": "cdd05bd4",
   "metadata": {},
   "source": [
    "# save depth data\n",
    "api.save_data('depth',[{'Entity':entity_name,\n",
    "                        'Signal':depth_signal,\n",
    "                        'Unit':depth_signal_unit,\n",
    "                        'Data':[\n",
    "                            {'Depth':0,'Value':10},\n",
    "                            {'Depth':1,'Value':11},\n",
    "                            {'Depth':2,'Value':12},\n",
    "                        ]}])"
   ],
   "outputs": []
  },
  {
   "cell_type": "code",
   "execution_count": 34,
   "id": "0166238e",
   "metadata": {},
   "source": [
    "# save time string data\n",
    "api.save_data('timestring',[{'Entity':entity_name,\n",
    "                        'Signal':time_string_signal,\n",
    "                        'Unit':time_string_signal_unit,\n",
    "                        'Data':[\n",
    "                            {'Date':'2022-08-06','Value':'ok'},\n",
    "                            {'Date':'2022-08-07','Value':'ook'},\n",
    "                            {'Date':'2022-08-08','Value':'oook'},\n",
    "                        ]}])"
   ],
   "outputs": []
  },
  {
   "cell_type": "markdown",
   "id": "f657c239",
   "metadata": {},
   "source": [
    "#### Load data"
   ]
  },
  {
   "cell_type": "raw",
   "id": "d046bcea",
   "metadata": {},
   "source": [
    "api.get_signal_names(signal_type='Static')"
   ]
  },
  {
   "cell_type": "code",
   "execution_count": 35,
   "id": "b865f67c",
   "metadata": {},
   "source": [
    "# load static data\n",
    "api.load_data('static',[{\n",
    "    'Entity':entity_name,\n",
    "    'Signal':static_signal,\n",
    "    'Unit':static_signal_unit}])"
   ],
   "outputs": []
  },
  {
   "cell_type": "raw",
   "id": "69538b35",
   "metadata": {},
   "source": [
    "api.get_signal_names(signal_type='String')"
   ]
  },
  {
   "cell_type": "code",
   "execution_count": 36,
   "id": "44f3ed99",
   "metadata": {},
   "source": [
    "# load static string data\n",
    "api.load_data('string',[{\n",
    "    'Entity':entity_name,\n",
    "    'Signal':string_signal,\n",
    "    'Unit':string_signal_unit}])"
   ],
   "outputs": []
  },
  {
   "cell_type": "raw",
   "id": "0f660cf9",
   "metadata": {},
   "source": [
    "api.get_signal_names(signal_type='Time')"
   ]
  },
  {
   "cell_type": "code",
   "execution_count": 37,
   "id": "eff55b61",
   "metadata": {},
   "source": [
    "# load time data\n",
    "api.load_data('time',[{\n",
    "    'Entity':entity_name,\n",
    "    'Signal':time_signal,\n",
    "    'Unit':time_signal_unit}],\n",
    "    start='08/01/2022',end='08/03/2022',step='daily')"
   ],
   "outputs": []
  },
  {
   "cell_type": "code",
   "execution_count": 38,
   "id": "449c46a6",
   "metadata": {},
   "source": [
    "# load time data\n",
    "api.load_data('time',[{\n",
    "    'Entity':entity_name,\n",
    "    'Signal':time_signal,\n",
    "    'Unit':time_signal_unit}],\n",
    "    start='2022-08-01',end='2022-08-03',step=TimeIncrement.Daily)"
   ],
   "outputs": []
  },
  {
   "cell_type": "code",
   "execution_count": 39,
   "id": "4e435a94",
   "metadata": {},
   "source": [
    "# load depth data\n",
    "api.load_data('depth',[{\n",
    "    'Entity':entity_name,\n",
    "    'Signal':depth_signal,\n",
    "    'Unit':depth_signal_unit}],\n",
    "    start=0,end=10,step=DepthIncrement.Meter)"
   ],
   "outputs": []
  },
  {
   "cell_type": "raw",
   "id": "ba4093ce",
   "metadata": {},
   "source": [
    "api.get_signal_names(signal_type='TimeString')"
   ]
  },
  {
   "cell_type": "code",
   "execution_count": 40,
   "id": "1d24dc32",
   "metadata": {},
   "source": [
    "# load time string data\n",
    "api.load_data('timestring',[{\n",
    "    'Entity':entity_name,\n",
    "    'Signal':time_string_signal,\n",
    "    'Unit':time_string_signal_unit}],\n",
    "    start='08/01/2022',end='08/08/2022',step='daily')"
   ],
   "outputs": []
  },
  {
   "cell_type": "markdown",
   "id": "ff1ed8a5",
   "metadata": {},
   "source": [
    "#### Delete data"
   ]
  },
  {
   "cell_type": "code",
   "execution_count": 41,
   "id": "e4feb96e",
   "metadata": {},
   "source": [
    "# delete static data\n",
    "api.delete_data('static',[{\n",
    "    'Entity':entity_name,\n",
    "    'Signal':static_signal,\n",
    "    'Unit':static_signal_unit}])"
   ],
   "outputs": []
  },
  {
   "cell_type": "code",
   "execution_count": 42,
   "id": "e8441fdc",
   "metadata": {},
   "source": [
    "# delete static string data\n",
    "api.delete_data('string',[{\n",
    "    'Entity':entity_name,\n",
    "    'Signal':string_signal,\n",
    "    'Unit':string_signal_unit}])"
   ],
   "outputs": []
  },
  {
   "cell_type": "code",
   "execution_count": 43,
   "id": "cbcf05a2",
   "metadata": {},
   "source": [
    "# delete time data\n",
    "api.delete_data('time',[{\n",
    "    'Entity':entity_name,\n",
    "    'Signal':time_signal,\n",
    "    'Unit':time_signal_unit}],\n",
    "    start='2022-08-01',end='2022-08-03')"
   ],
   "outputs": []
  },
  {
   "cell_type": "code",
   "execution_count": 44,
   "id": "32d5db4e",
   "metadata": {},
   "source": [
    "# delete depth data\n",
    "api.delete_data('depth',[{\n",
    "    'Entity':entity_name,\n",
    "    'Signal':depth_signal,\n",
    "    'Unit':depth_signal_unit}],\n",
    "    start=0,end=1)"
   ],
   "outputs": []
  },
  {
   "cell_type": "code",
   "execution_count": 45,
   "id": "5b37c8d1",
   "metadata": {},
   "source": [
    "# delete time string data\n",
    "api.delete_data('time_string',[{\n",
    "    'Entity':entity_name,\n",
    "    'Signal':time_string_signal,\n",
    "    'Unit':time_string_signal_unit}],\n",
    "    start='2022-08-06',end='2022-08-08')"
   ],
   "outputs": []
  },
  {
   "cell_type": "code",
   "execution_count": null,
   "id": "132b5872-9a88-45f1-9fd1-334a5115ceb8",
   "metadata": {},
   "source": [],
   "outputs": []
  },
  {
   "cell_type": "code",
   "execution_count": null,
   "id": "e0c46c61-8ad5-491b-ad96-cb75157b4d8a",
   "metadata": {},
   "source": [],
   "outputs": []
  }
 ],
 "metadata": {
  "kernelspec": {
   "display_name": "petrovisor-python-api",
   "language": "python",
   "name": "petrovisor-python-api"
  },
  "language_info": {
   "codemirror_mode": {
    "name": "ipython",
    "version": 3
   },
   "file_extension": ".py",
   "mimetype": "text/x-python",
   "name": "python",
   "nbconvert_exporter": "python",
   "pygments_lexer": "ipython3",
   "version": "3.11.6"
  }
 },
 "nbformat": 4,
 "nbformat_minor": 5
}
