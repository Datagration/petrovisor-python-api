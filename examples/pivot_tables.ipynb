{
 "cells": [
  {
   "cell_type": "code",
   "execution_count": 1,
   "id": "80634b27",
   "metadata": {},
   "outputs": [],
   "source": [
    "import petrovisor as pv"
   ]
  },
  {
   "cell_type": "markdown",
   "id": "b8c50659",
   "metadata": {},
   "source": [
    "# Authorization"
   ]
  },
  {
   "cell_type": "code",
   "execution_count": null,
   "id": "c2fb6872",
   "metadata": {},
   "outputs": [],
   "source": [
    "# url\n",
    "# discovery_url = r'https://identity.eu1.petrovisor.com'\n",
    "discovery_url = r'https://identity.us1.petrovisor.com'\n",
    "\n",
    "# workspace\n",
    "workspace = 'Workspace Name'\n",
    "\n",
    "# generate access key (only for the first time, comment the line afterwards)\n",
    "key = pv.PetroVisor.generate_credentials_key()\n",
    "# print(f\"key : '{key}'\")\n",
    "# save key for later to reuse\n",
    "# key = ''\n",
    "\n",
    "pv_api = pv.PetroVisor(workspace = workspace, discovery_url = discovery_url, key = key)\n",
    "print(pv_api.Api)"
   ]
  },
  {
   "cell_type": "markdown",
   "id": "f887680e",
   "metadata": {},
   "source": [
    "# PetroVisor API Swagger"
   ]
  },
  {
   "cell_type": "markdown",
   "id": "8702860e",
   "metadata": {},
   "source": [
    "https://api.eu1.petrovisor.com/index.html"
   ]
  },
  {
   "cell_type": "markdown",
   "id": "68f78ac0",
   "metadata": {},
   "source": [
    "https://api.us1.petrovisor.com/index.html"
   ]
  },
  {
   "cell_type": "markdown",
   "id": "70c224c3",
   "metadata": {},
   "source": [
    "# Examples: Pivot Tables"
   ]
  },
  {
   "cell_type": "code",
   "execution_count": 3,
   "id": "f6b366b7",
   "metadata": {},
   "outputs": [],
   "source": [
    "pivot_table_name = 'Testing Pivot Table'\n",
    "entity_set = None\n",
    "scope = None"
   ]
  },
  {
   "cell_type": "code",
   "execution_count": 4,
   "id": "0fedda04",
   "metadata": {},
   "outputs": [],
   "source": [
    "# load pivot table data (saved)\n",
    "pv_api.load_pivot_table_data(pivot_table_name,\n",
    "                             entity_set=entity_set,\n",
    "                             scope=scope,\n",
    "                             generate=False)"
   ]
  },
  {
   "cell_type": "code",
   "execution_count": 5,
   "id": "f61888b8",
   "metadata": {},
   "outputs": [
    {
     "data": {
      "text/html": [
       "<div>\n",
       "<style scoped>\n",
       "    .dataframe tbody tr th:only-of-type {\n",
       "        vertical-align: middle;\n",
       "    }\n",
       "\n",
       "    .dataframe tbody tr th {\n",
       "        vertical-align: top;\n",
       "    }\n",
       "\n",
       "    .dataframe thead th {\n",
       "        text-align: right;\n",
       "    }\n",
       "</style>\n",
       "<table border=\"1\" class=\"dataframe\">\n",
       "  <thead>\n",
       "    <tr style=\"text-align: right;\">\n",
       "      <th></th>\n",
       "      <th>Entity</th>\n",
       "      <th>Time</th>\n",
       "      <th>oil production rate (m3/h)</th>\n",
       "    </tr>\n",
       "  </thead>\n",
       "  <tbody>\n",
       "    <tr>\n",
       "      <th>0</th>\n",
       "      <td>Well 01</td>\n",
       "      <td>2022-01-01</td>\n",
       "      <td>99.193548</td>\n",
       "    </tr>\n",
       "    <tr>\n",
       "      <th>1</th>\n",
       "      <td>Well 01</td>\n",
       "      <td>2022-02-01</td>\n",
       "      <td>102.964286</td>\n",
       "    </tr>\n",
       "    <tr>\n",
       "      <th>2</th>\n",
       "      <td>Well 01</td>\n",
       "      <td>2022-03-01</td>\n",
       "      <td>100.322581</td>\n",
       "    </tr>\n",
       "    <tr>\n",
       "      <th>3</th>\n",
       "      <td>Well 01</td>\n",
       "      <td>2022-04-01</td>\n",
       "      <td>104.100000</td>\n",
       "    </tr>\n",
       "    <tr>\n",
       "      <th>4</th>\n",
       "      <td>Well 01</td>\n",
       "      <td>2022-05-01</td>\n",
       "      <td>100.161290</td>\n",
       "    </tr>\n",
       "    <tr>\n",
       "      <th>5</th>\n",
       "      <td>Well 01</td>\n",
       "      <td>2022-06-01</td>\n",
       "      <td>85.000000</td>\n",
       "    </tr>\n",
       "    <tr>\n",
       "      <th>6</th>\n",
       "      <td>Well 01</td>\n",
       "      <td>2022-07-01</td>\n",
       "      <td>NaN</td>\n",
       "    </tr>\n",
       "    <tr>\n",
       "      <th>7</th>\n",
       "      <td>Well 02</td>\n",
       "      <td>2022-01-01</td>\n",
       "      <td>NaN</td>\n",
       "    </tr>\n",
       "    <tr>\n",
       "      <th>8</th>\n",
       "      <td>Well 02</td>\n",
       "      <td>2022-02-01</td>\n",
       "      <td>NaN</td>\n",
       "    </tr>\n",
       "    <tr>\n",
       "      <th>9</th>\n",
       "      <td>Well 02</td>\n",
       "      <td>2022-03-01</td>\n",
       "      <td>NaN</td>\n",
       "    </tr>\n",
       "    <tr>\n",
       "      <th>10</th>\n",
       "      <td>Well 02</td>\n",
       "      <td>2022-04-01</td>\n",
       "      <td>NaN</td>\n",
       "    </tr>\n",
       "    <tr>\n",
       "      <th>11</th>\n",
       "      <td>Well 02</td>\n",
       "      <td>2022-05-01</td>\n",
       "      <td>NaN</td>\n",
       "    </tr>\n",
       "    <tr>\n",
       "      <th>12</th>\n",
       "      <td>Well 02</td>\n",
       "      <td>2022-06-01</td>\n",
       "      <td>NaN</td>\n",
       "    </tr>\n",
       "    <tr>\n",
       "      <th>13</th>\n",
       "      <td>Well 02</td>\n",
       "      <td>2022-07-01</td>\n",
       "      <td>NaN</td>\n",
       "    </tr>\n",
       "  </tbody>\n",
       "</table>\n",
       "</div>"
      ],
      "text/plain": [
       "     Entity       Time  oil production rate (m3/h)\n",
       "0   Well 01 2022-01-01                   99.193548\n",
       "1   Well 01 2022-02-01                  102.964286\n",
       "2   Well 01 2022-03-01                  100.322581\n",
       "3   Well 01 2022-04-01                  104.100000\n",
       "4   Well 01 2022-05-01                  100.161290\n",
       "5   Well 01 2022-06-01                   85.000000\n",
       "6   Well 01 2022-07-01                         NaN\n",
       "7   Well 02 2022-01-01                         NaN\n",
       "8   Well 02 2022-02-01                         NaN\n",
       "9   Well 02 2022-03-01                         NaN\n",
       "10  Well 02 2022-04-01                         NaN\n",
       "11  Well 02 2022-05-01                         NaN\n",
       "12  Well 02 2022-06-01                         NaN\n",
       "13  Well 02 2022-07-01                         NaN"
      ]
     },
     "execution_count": 5,
     "metadata": {},
     "output_type": "execute_result"
    }
   ],
   "source": [
    "# load pivot table data (generated)\n",
    "pv_api.load_pivot_table_data(pivot_table_name,\n",
    "                             entity_set=entity_set,\n",
    "                             scope=scope,\n",
    "                             generate=True)"
   ]
  },
  {
   "cell_type": "code",
   "execution_count": 6,
   "id": "88582eeb",
   "metadata": {},
   "outputs": [
    {
     "data": {
      "text/plain": [
       "<Response [200]>"
      ]
     },
     "execution_count": 6,
     "metadata": {},
     "output_type": "execute_result"
    }
   ],
   "source": [
    "# save pivot table data\n",
    "pv_api.save_pivot_table_data(pivot_table_name,\n",
    "                             entity_set=entity_set,\n",
    "                             scope=scope)"
   ]
  },
  {
   "cell_type": "code",
   "execution_count": 7,
   "id": "87373ed2",
   "metadata": {},
   "outputs": [
    {
     "data": {
      "text/plain": [
       "<Response [200]>"
      ]
     },
     "execution_count": 7,
     "metadata": {},
     "output_type": "execute_result"
    }
   ],
   "source": [
    "# delete pivot table data\n",
    "pv_api.delete_pivot_table_data(pivot_table_name)"
   ]
  },
  {
   "cell_type": "code",
   "execution_count": null,
   "id": "cfff6137",
   "metadata": {},
   "outputs": [],
   "source": []
  }
 ],
 "metadata": {
  "kernelspec": {
   "display_name": "petrovisor_api",
   "language": "python",
   "name": "petrovisor_api"
  },
  "language_info": {
   "codemirror_mode": {
    "name": "ipython",
    "version": 3
   },
   "file_extension": ".py",
   "mimetype": "text/x-python",
   "name": "python",
   "nbconvert_exporter": "python",
   "pygments_lexer": "ipython3",
   "version": "3.7.16"
  }
 },
 "nbformat": 4,
 "nbformat_minor": 5
}
