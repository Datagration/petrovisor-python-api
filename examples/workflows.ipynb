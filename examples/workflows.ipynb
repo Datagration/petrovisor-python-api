{
 "cells": [
  {
   "cell_type": "code",
   "execution_count": 1,
   "id": "80634b27",
   "metadata": {},
   "outputs": [],
   "source": [
    "import petrovisor as pv"
   ]
  },
  {
   "cell_type": "code",
   "execution_count": 2,
   "id": "651138b6",
   "metadata": {},
   "outputs": [],
   "source": [
    "import time"
   ]
  },
  {
   "cell_type": "markdown",
   "id": "b8c50659",
   "metadata": {},
   "source": [
    "# Authorization"
   ]
  },
  {
   "cell_type": "code",
   "execution_count": null,
   "id": "fd122a34",
   "metadata": {},
   "outputs": [],
   "source": [
    "# url\n",
    "# discovery_url = r'https://identity.eu1.petrovisor.com'\n",
    "discovery_url = r'https://identity.us1.petrovisor.com'\n",
    "\n",
    "# workspace\n",
    "workspace = 'Workspace Name'\n",
    "\n",
    "# generate access key (only for the first time, comment the line afterwards)\n",
    "key = pv.PetroVisor.generate_credentials_key()\n",
    "# print(f\"key : '{key}'\")\n",
    "# save key for later to reuse\n",
    "# key = ''\n",
    "\n",
    "pv_api = pv.PetroVisor(workspace = workspace, discovery_url = discovery_url, key = key)\n",
    "print(pv_api.Api)"
   ]
  },
  {
   "cell_type": "markdown",
   "id": "f887680e",
   "metadata": {},
   "source": [
    "# PetroVisor API Swagger"
   ]
  },
  {
   "cell_type": "markdown",
   "id": "8702860e",
   "metadata": {},
   "source": [
    "https://api.eu1.petrovisor.com/index.html"
   ]
  },
  {
   "cell_type": "markdown",
   "id": "68f78ac0",
   "metadata": {},
   "source": [
    "https://api.us1.petrovisor.com/index.html"
   ]
  },
  {
   "cell_type": "markdown",
   "id": "c9f69cf0",
   "metadata": {},
   "source": [
    "# Examples: Run Workflow"
   ]
  },
  {
   "cell_type": "code",
   "execution_count": 4,
   "id": "1b7364b3",
   "metadata": {},
   "outputs": [
    {
     "name": "stdout",
     "output_type": "stream",
     "text": [
      "Status: 'Waiting'\n"
     ]
    }
   ],
   "source": [
    "# run workflow\n",
    "status = pv_api.run_workflow('Python Web Activity API Tests')\n",
    "print(f\"Status: '{status['Status']}'\")"
   ]
  },
  {
   "cell_type": "code",
   "execution_count": 5,
   "id": "b80ed94b",
   "metadata": {},
   "outputs": [
    {
     "name": "stdout",
     "output_type": "stream",
     "text": [
      "Status: 'Executing'\n",
      "Status: 'Executing'\n",
      "Status: 'Executing'\n",
      "Status: 'Executing'\n",
      "Status: 'Executing'\n",
      "Status: 'Executing'\n",
      "Status: 'Executing'\n",
      "Status: 'Executing'\n",
      "Status: 'Executing'\n",
      "Status: 'Executing'\n",
      "Status: 'Executing'\n",
      "Status: 'Executing'\n",
      "Status: 'Executing'\n",
      "Status: 'Executing'\n",
      "Status: 'Executing'\n",
      "Status: 'Executing'\n",
      "Status: 'Executing'\n",
      "Status: 'Executing'\n",
      "Status: 'Executing'\n",
      "Status: 'Executing'\n",
      "Status: 'Executing'\n",
      "Status: 'Executing'\n",
      "Status: 'Executing'\n",
      "Status: 'Executing'\n",
      "Status: 'Failed'\n"
     ]
    }
   ],
   "source": [
    "while (status['Status'] != 'Executed' and status['Status'] != 'Completed' and status['Status'] != 'Failed' and status['Status'] != 'Cancelled'):\n",
    "    status = pv_api.get_workflow_execution_state(status['Id'])\n",
    "    print(f\"Status: '{status['Status']}'\")\n",
    "    time.sleep(10)"
   ]
  },
  {
   "cell_type": "code",
   "execution_count": null,
   "id": "350d3f2e",
   "metadata": {},
   "outputs": [],
   "source": []
  }
 ],
 "metadata": {
  "kernelspec": {
   "display_name": "petrovisor_api",
   "language": "python",
   "name": "petrovisor_api"
  },
  "language_info": {
   "codemirror_mode": {
    "name": "ipython",
    "version": 3
   },
   "file_extension": ".py",
   "mimetype": "text/x-python",
   "name": "python",
   "nbconvert_exporter": "python",
   "pygments_lexer": "ipython3",
   "version": "3.7.16"
  }
 },
 "nbformat": 4,
 "nbformat_minor": 5
}
