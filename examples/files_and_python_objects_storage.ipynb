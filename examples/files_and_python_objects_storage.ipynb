{
 "cells": [
  {
   "cell_type": "code",
   "execution_count": 1,
   "id": "80634b27",
   "metadata": {},
   "outputs": [],
   "source": [
    "import petrovisor as pv"
   ]
  },
  {
   "cell_type": "code",
   "execution_count": 2,
   "id": "f1715bc5",
   "metadata": {},
   "outputs": [],
   "source": [
    "import pandas as pd\n",
    "import numpy as np\n",
    "import io\n",
    "import json"
   ]
  },
  {
   "cell_type": "markdown",
   "id": "b8c50659",
   "metadata": {},
   "source": [
    "# Authorization"
   ]
  },
  {
   "cell_type": "code",
   "execution_count": null,
   "id": "d1ae1130",
   "metadata": {},
   "outputs": [],
   "source": [
    "# url\n",
    "# discovery_url = r'https://identity.eu1.petrovisor.com'\n",
    "discovery_url = r'https://identity.us1.petrovisor.com'\n",
    "\n",
    "# workspace\n",
    "workspace = 'Workspace Name'\n",
    "\n",
    "# generate access key (only for the first time, comment the line afterwards)\n",
    "key = pv.PetroVisor.generate_credentials_key()\n",
    "# print(f\"key : '{key}'\")\n",
    "# save key for later to reuse\n",
    "# key = ''\n",
    "\n",
    "pv_api = pv.PetroVisor(workspace = workspace, discovery_url = discovery_url, key = key)\n",
    "print(pv_api.Api)"
   ]
  },
  {
   "cell_type": "markdown",
   "id": "f887680e",
   "metadata": {},
   "source": [
    "# PetroVisor API Swagger"
   ]
  },
  {
   "cell_type": "markdown",
   "id": "8702860e",
   "metadata": {},
   "source": [
    "https://api.eu1.petrovisor.com/index.html"
   ]
  },
  {
   "cell_type": "markdown",
   "id": "68f78ac0",
   "metadata": {},
   "source": [
    "https://api.us1.petrovisor.com/index.html"
   ]
  },
  {
   "cell_type": "markdown",
   "id": "d54934de",
   "metadata": {},
   "source": [
    "# Examples: File Storage"
   ]
  },
  {
   "cell_type": "code",
   "execution_count": 4,
   "id": "3a564de2",
   "metadata": {},
   "outputs": [
    {
     "data": {
      "text/plain": [
       "['18934 xlsm.xlsm',\n",
       " '18934 xlsx.xlsx',\n",
       " 'BRUGGE60K_FY-SF-KM-1-1.EGRID',\n",
       " 'Book1.xlsx',\n",
       " 'ConditionIdentificationMLModel.zip',\n",
       " 'ConditionIdentificationModel.zip',\n",
       " 'CumulativesTest.csv',\n",
       " 'Data Session Stats.xlsx',\n",
       " 'Data.xlsx',\n",
       " 'Histórico_Teste_Poço_Geral_10anos_rev1 (1).xlsx',\n",
       " 'OGD_DrillingSpacingUnits.dbf',\n",
       " 'OGD_DrillingSpacingUnits.shp',\n",
       " 'Oil.xlsx',\n",
       " 'Pontian1',\n",
       " 'Pontian1.shp',\n",
       " 'ProdMan Report 02.27.2023.xlsx',\n",
       " 'PythonDataFrame',\n",
       " 'Reserves_Master_Oneline.xlsx',\n",
       " 'String Cleansing Concat.xlsx',\n",
       " 'String Cleansing.xlsx',\n",
       " 'TagEntriesImportExample.xlsx',\n",
       " 'WDBC_QEPDEMO_Well_Header.txt',\n",
       " 'WFMP A SHALE - STRUCTURE.zmap',\n",
       " 'Well Test.xlsx',\n",
       " 'fu-86D-AL.csv',\n",
       " 'fu-86D-AL.xls',\n",
       " 'in_memory_json_file.txt',\n",
       " 'in_memory_text_file.txt',\n",
       " 'irap_grid_01.png',\n",
       " 'json_file.txt',\n",
       " 'oip_map',\n",
       " 'oip_map.shp',\n",
       " 'oip_map_cps3',\n",
       " 'oip_map_irap',\n",
       " 'oip_map_zmap',\n",
       " 'python_file.json',\n",
       " 'python_object.json',\n",
       " 'shapefile_map_example.dbf',\n",
       " 'shapefile_map_example.prj',\n",
       " 'shapefile_map_example.shp',\n",
       " 'shapefile_map_example.shx',\n",
       " 'text_file.txt',\n",
       " 'zmap_example']"
      ]
     },
     "execution_count": 4,
     "metadata": {},
     "output_type": "execute_result"
    }
   ],
   "source": [
    "# get file names\n",
    "files = pv_api.get_file_names()\n",
    "files"
   ]
  },
  {
   "cell_type": "markdown",
   "id": "142c8e96",
   "metadata": {},
   "source": [
    "## Examples: Uploading Files to Workspace"
   ]
  },
  {
   "cell_type": "markdown",
   "id": "82fbb20b",
   "metadata": {},
   "source": [
    "#### Upload text file"
   ]
  },
  {
   "cell_type": "code",
   "execution_count": 5,
   "id": "7e29b9ea",
   "metadata": {},
   "outputs": [],
   "source": [
    "text_filename = 'text_file.txt'"
   ]
  },
  {
   "cell_type": "code",
   "execution_count": 6,
   "id": "142e8feb",
   "metadata": {},
   "outputs": [],
   "source": [
    "# save file to disk\n",
    "with io.StringIO() as f:\n",
    "    f.write(\"line1: some text in line 1\\n\")\n",
    "    f.write(\"line2: some text in line 2\\n\")\n",
    "    f.write(\"line3: some text in line 3. \")\n",
    "    f.write(\"Still some text in line 3\")\n",
    "    f.name = text_filename\n",
    "    with open(text_filename, mode='w') as fout:\n",
    "        print(f.getvalue(), file=fout)"
   ]
  },
  {
   "cell_type": "code",
   "execution_count": 7,
   "id": "88be0eab",
   "metadata": {},
   "outputs": [
    {
     "data": {
      "text/plain": [
       "{'FileName': 'text_file.txt', 'FileSize': 108}"
      ]
     },
     "execution_count": 7,
     "metadata": {},
     "output_type": "execute_result"
    }
   ],
   "source": [
    "# upload file\n",
    "pv_api.upload_file(text_filename)"
   ]
  },
  {
   "cell_type": "code",
   "execution_count": 8,
   "id": "d7d5c76b",
   "metadata": {},
   "outputs": [],
   "source": [
    "# get text file (directly loading text content)\n",
    "text_file = pv_api.get_file(text_filename,format='text')"
   ]
  },
  {
   "cell_type": "code",
   "execution_count": 9,
   "id": "e7eefa6b",
   "metadata": {},
   "outputs": [
    {
     "name": "stdout",
     "output_type": "stream",
     "text": [
      "line1: some text in line 1\n",
      "line2: some text in line 2\n",
      "line3: some text in line 3. Still some text in line 3\n"
     ]
    }
   ],
   "source": [
    "# print text content\n",
    "with io.StringIO(text_file) as text_file:\n",
    "    lines = text_file.readlines()\n",
    "    for line in lines:\n",
    "        print(line,end='')"
   ]
  },
  {
   "cell_type": "markdown",
   "id": "f5fcaa44",
   "metadata": {},
   "source": [
    "#### Upload json file"
   ]
  },
  {
   "cell_type": "code",
   "execution_count": 10,
   "id": "24ee1598",
   "metadata": {},
   "outputs": [],
   "source": [
    "# upload json file\n",
    "json_filename = 'json_file.txt'"
   ]
  },
  {
   "cell_type": "code",
   "execution_count": 11,
   "id": "a79a49a8",
   "metadata": {},
   "outputs": [],
   "source": [
    "# save file to disk\n",
    "with io.StringIO() as f:\n",
    "    d = {\n",
    "        'Name': 'some name',\n",
    "        'Int': 1,\n",
    "        'Dict': {'a': 1, 'b': [1,2,3], 'c': 'string'},\n",
    "        'List': [1,2,3,4,5]\n",
    "    }\n",
    "    f.write(json.dumps(d))\n",
    "    f.name = json_filename\n",
    "    with open(json_filename, mode='w') as fout:\n",
    "        print(f.getvalue(), file=fout)"
   ]
  },
  {
   "cell_type": "code",
   "execution_count": 12,
   "id": "a8003e5b",
   "metadata": {},
   "outputs": [
    {
     "data": {
      "text/plain": [
       "{'FileName': 'json_file.txt', 'FileSize': 106}"
      ]
     },
     "execution_count": 12,
     "metadata": {},
     "output_type": "execute_result"
    }
   ],
   "source": [
    "# upload file\n",
    "pv_api.upload_file(json_filename)"
   ]
  },
  {
   "cell_type": "code",
   "execution_count": 13,
   "id": "8e35a425",
   "metadata": {},
   "outputs": [
    {
     "data": {
      "text/plain": [
       "{'Name': 'some name',\n",
       " 'Int': 1,\n",
       " 'Dict': {'a': 1, 'b': [1, 2, 3], 'c': 'string'},\n",
       " 'List': [1, 2, 3, 4, 5]}"
      ]
     },
     "execution_count": 13,
     "metadata": {},
     "output_type": "execute_result"
    }
   ],
   "source": [
    "# get json file (directly loading json content)\n",
    "json_file = pv_api.get_file(json_filename,format='json')\n",
    "json_file"
   ]
  },
  {
   "cell_type": "markdown",
   "id": "3518c219",
   "metadata": {},
   "source": [
    "## Examples: Upload Python in-memory objects to Workspace"
   ]
  },
  {
   "cell_type": "markdown",
   "id": "505a6959",
   "metadata": {},
   "source": [
    "#### Upload in-memory text file"
   ]
  },
  {
   "cell_type": "code",
   "execution_count": 14,
   "id": "9c939a2d",
   "metadata": {},
   "outputs": [],
   "source": [
    "in_memory_text_filename = 'in_memory_text_file.txt'"
   ]
  },
  {
   "cell_type": "code",
   "execution_count": 15,
   "id": "ffcea816",
   "metadata": {},
   "outputs": [],
   "source": [
    "# upload txt file (in-memory)\n",
    "s = ''\n",
    "s += \"line 1: some in-memory text file\\n\"\n",
    "s += \"line 2: some in-memory text file\\n\"\n",
    "with io.StringIO(s) as f:\n",
    "    f.name = in_memory_text_filename\n",
    "    pv_api.upload_file(f)"
   ]
  },
  {
   "cell_type": "code",
   "execution_count": 16,
   "id": "21c218e7",
   "metadata": {},
   "outputs": [
    {
     "name": "stdout",
     "output_type": "stream",
     "text": [
      "line 1: some in-memory text file\n",
      "line 2: some in-memory text file\n"
     ]
    }
   ],
   "source": [
    "# get file-like object\n",
    "file = pv_api.get_file(in_memory_text_filename)\n",
    "\n",
    "with io.BytesIO(file) as inmemory_file:\n",
    "    lines = inmemory_file.readlines()\n",
    "    for line in lines:\n",
    "        print(line.decode(\"utf-8\"), end='')"
   ]
  },
  {
   "cell_type": "code",
   "execution_count": 17,
   "id": "3180c8cc",
   "metadata": {},
   "outputs": [
    {
     "name": "stdout",
     "output_type": "stream",
     "text": [
      "line 1: some in-memory text file\n",
      "line 2: some in-memory text file\n"
     ]
    }
   ],
   "source": [
    "# get text file (directly loading text content)\n",
    "text_file = pv_api.get_file(in_memory_text_filename,format='text')\n",
    "\n",
    "with io.StringIO(text_file) as text_file:\n",
    "    lines = text_file.readlines()\n",
    "    for line in lines:\n",
    "        print(line,end='')"
   ]
  },
  {
   "cell_type": "markdown",
   "id": "6793810e",
   "metadata": {},
   "source": [
    "#### Upload in-memory json file"
   ]
  },
  {
   "cell_type": "code",
   "execution_count": 18,
   "id": "eb001aaf",
   "metadata": {},
   "outputs": [],
   "source": [
    "in_memory_json_filename = 'in_memory_json_file.txt'"
   ]
  },
  {
   "cell_type": "code",
   "execution_count": 19,
   "id": "95a93171",
   "metadata": {},
   "outputs": [],
   "source": [
    "d = {\n",
    "    'a': 1,\n",
    "    'b': 'foo',\n",
    "    'c': [1,2,3],\n",
    "    'd': {\n",
    "        'x': ['a','b','c',],\n",
    "        'y': [1,2,3],\n",
    "         }\n",
    "}"
   ]
  },
  {
   "cell_type": "code",
   "execution_count": 20,
   "id": "c7d9751a",
   "metadata": {},
   "outputs": [
    {
     "data": {
      "text/plain": [
       "{'FileName': 'in_memory_json_file.txt', 'FileSize': 81}"
      ]
     },
     "execution_count": 20,
     "metadata": {},
     "output_type": "execute_result"
    }
   ],
   "source": [
    "pv_api.upload_object(d,in_memory_json_filename, binary=False)"
   ]
  },
  {
   "cell_type": "code",
   "execution_count": 21,
   "id": "583b446b",
   "metadata": {},
   "outputs": [
    {
     "data": {
      "text/plain": [
       "{'a': 1,\n",
       " 'b': 'foo',\n",
       " 'c': [1, 2, 3],\n",
       " 'd': {'x': ['a', 'b', 'c'], 'y': [1, 2, 3]}}"
      ]
     },
     "execution_count": 21,
     "metadata": {},
     "output_type": "execute_result"
    }
   ],
   "source": [
    "# get json file (directly loading json content)\n",
    "json_file = pv_api.get_file(in_memory_json_filename,format='json')\n",
    "json_file"
   ]
  },
  {
   "cell_type": "markdown",
   "id": "f5e4ad11",
   "metadata": {},
   "source": [
    "#### Upload DataFrame"
   ]
  },
  {
   "cell_type": "code",
   "execution_count": 22,
   "id": "fd38646e",
   "metadata": {},
   "outputs": [],
   "source": [
    "dataframe_object_name = 'PythonDataFrame'"
   ]
  },
  {
   "cell_type": "code",
   "execution_count": 23,
   "id": "7e323568",
   "metadata": {},
   "outputs": [
    {
     "data": {
      "text/html": [
       "<div>\n",
       "<style scoped>\n",
       "    .dataframe tbody tr th:only-of-type {\n",
       "        vertical-align: middle;\n",
       "    }\n",
       "\n",
       "    .dataframe tbody tr th {\n",
       "        vertical-align: top;\n",
       "    }\n",
       "\n",
       "    .dataframe thead th {\n",
       "        text-align: right;\n",
       "    }\n",
       "</style>\n",
       "<table border=\"1\" class=\"dataframe\">\n",
       "  <thead>\n",
       "    <tr style=\"text-align: right;\">\n",
       "      <th></th>\n",
       "      <th>A</th>\n",
       "      <th>B</th>\n",
       "      <th>C</th>\n",
       "      <th>D</th>\n",
       "      <th>E</th>\n",
       "      <th>F</th>\n",
       "    </tr>\n",
       "  </thead>\n",
       "  <tbody>\n",
       "    <tr>\n",
       "      <th>count</th>\n",
       "      <td>1000.000000</td>\n",
       "      <td>1000.000000</td>\n",
       "      <td>1000.000000</td>\n",
       "      <td>1000.000000</td>\n",
       "      <td>1000.000000</td>\n",
       "      <td>1000.000000</td>\n",
       "    </tr>\n",
       "    <tr>\n",
       "      <th>mean</th>\n",
       "      <td>0.513882</td>\n",
       "      <td>0.499310</td>\n",
       "      <td>0.492289</td>\n",
       "      <td>0.500609</td>\n",
       "      <td>0.488096</td>\n",
       "      <td>0.504638</td>\n",
       "    </tr>\n",
       "    <tr>\n",
       "      <th>std</th>\n",
       "      <td>0.294062</td>\n",
       "      <td>0.291823</td>\n",
       "      <td>0.293361</td>\n",
       "      <td>0.285373</td>\n",
       "      <td>0.285210</td>\n",
       "      <td>0.289368</td>\n",
       "    </tr>\n",
       "    <tr>\n",
       "      <th>min</th>\n",
       "      <td>0.002318</td>\n",
       "      <td>0.001400</td>\n",
       "      <td>0.000857</td>\n",
       "      <td>0.000500</td>\n",
       "      <td>0.000563</td>\n",
       "      <td>0.001564</td>\n",
       "    </tr>\n",
       "    <tr>\n",
       "      <th>25%</th>\n",
       "      <td>0.247767</td>\n",
       "      <td>0.247594</td>\n",
       "      <td>0.236123</td>\n",
       "      <td>0.250764</td>\n",
       "      <td>0.235405</td>\n",
       "      <td>0.248853</td>\n",
       "    </tr>\n",
       "    <tr>\n",
       "      <th>50%</th>\n",
       "      <td>0.529179</td>\n",
       "      <td>0.512903</td>\n",
       "      <td>0.477490</td>\n",
       "      <td>0.510647</td>\n",
       "      <td>0.483035</td>\n",
       "      <td>0.507112</td>\n",
       "    </tr>\n",
       "    <tr>\n",
       "      <th>75%</th>\n",
       "      <td>0.765788</td>\n",
       "      <td>0.752724</td>\n",
       "      <td>0.750974</td>\n",
       "      <td>0.741804</td>\n",
       "      <td>0.737548</td>\n",
       "      <td>0.757315</td>\n",
       "    </tr>\n",
       "    <tr>\n",
       "      <th>max</th>\n",
       "      <td>0.999878</td>\n",
       "      <td>0.996086</td>\n",
       "      <td>0.997559</td>\n",
       "      <td>0.999679</td>\n",
       "      <td>0.999358</td>\n",
       "      <td>0.998749</td>\n",
       "    </tr>\n",
       "  </tbody>\n",
       "</table>\n",
       "</div>"
      ],
      "text/plain": [
       "                 A            B            C            D            E  \\\n",
       "count  1000.000000  1000.000000  1000.000000  1000.000000  1000.000000   \n",
       "mean      0.513882     0.499310     0.492289     0.500609     0.488096   \n",
       "std       0.294062     0.291823     0.293361     0.285373     0.285210   \n",
       "min       0.002318     0.001400     0.000857     0.000500     0.000563   \n",
       "25%       0.247767     0.247594     0.236123     0.250764     0.235405   \n",
       "50%       0.529179     0.512903     0.477490     0.510647     0.483035   \n",
       "75%       0.765788     0.752724     0.750974     0.741804     0.737548   \n",
       "max       0.999878     0.996086     0.997559     0.999679     0.999358   \n",
       "\n",
       "                 F  \n",
       "count  1000.000000  \n",
       "mean      0.504638  \n",
       "std       0.289368  \n",
       "min       0.001564  \n",
       "25%       0.248853  \n",
       "50%       0.507112  \n",
       "75%       0.757315  \n",
       "max       0.998749  "
      ]
     },
     "execution_count": 23,
     "metadata": {},
     "output_type": "execute_result"
    }
   ],
   "source": [
    "df = pd.DataFrame(np.random.uniform(0,1,size=(int(1e3), 6)),\n",
    "                  columns=list('ABCDEF'))\n",
    "df.describe()"
   ]
  },
  {
   "cell_type": "code",
   "execution_count": 24,
   "id": "828da513",
   "metadata": {},
   "outputs": [
    {
     "data": {
      "text/plain": [
       "{'FileName': 'PythonDataFrame', 'FileSize': 48848}"
      ]
     },
     "execution_count": 24,
     "metadata": {},
     "output_type": "execute_result"
    }
   ],
   "source": [
    "# upload object with specified name\n",
    "pv_api.upload_object(df,dataframe_object_name,None)"
   ]
  },
  {
   "cell_type": "code",
   "execution_count": 25,
   "id": "676fbf50",
   "metadata": {},
   "outputs": [
    {
     "data": {
      "text/html": [
       "<div>\n",
       "<style scoped>\n",
       "    .dataframe tbody tr th:only-of-type {\n",
       "        vertical-align: middle;\n",
       "    }\n",
       "\n",
       "    .dataframe tbody tr th {\n",
       "        vertical-align: top;\n",
       "    }\n",
       "\n",
       "    .dataframe thead th {\n",
       "        text-align: right;\n",
       "    }\n",
       "</style>\n",
       "<table border=\"1\" class=\"dataframe\">\n",
       "  <thead>\n",
       "    <tr style=\"text-align: right;\">\n",
       "      <th></th>\n",
       "      <th>A</th>\n",
       "      <th>B</th>\n",
       "      <th>C</th>\n",
       "      <th>D</th>\n",
       "      <th>E</th>\n",
       "      <th>F</th>\n",
       "    </tr>\n",
       "  </thead>\n",
       "  <tbody>\n",
       "    <tr>\n",
       "      <th>count</th>\n",
       "      <td>1000.000000</td>\n",
       "      <td>1000.000000</td>\n",
       "      <td>1000.000000</td>\n",
       "      <td>1000.000000</td>\n",
       "      <td>1000.000000</td>\n",
       "      <td>1000.000000</td>\n",
       "    </tr>\n",
       "    <tr>\n",
       "      <th>mean</th>\n",
       "      <td>0.513882</td>\n",
       "      <td>0.499310</td>\n",
       "      <td>0.492289</td>\n",
       "      <td>0.500609</td>\n",
       "      <td>0.488096</td>\n",
       "      <td>0.504638</td>\n",
       "    </tr>\n",
       "    <tr>\n",
       "      <th>std</th>\n",
       "      <td>0.294062</td>\n",
       "      <td>0.291823</td>\n",
       "      <td>0.293361</td>\n",
       "      <td>0.285373</td>\n",
       "      <td>0.285210</td>\n",
       "      <td>0.289368</td>\n",
       "    </tr>\n",
       "    <tr>\n",
       "      <th>min</th>\n",
       "      <td>0.002318</td>\n",
       "      <td>0.001400</td>\n",
       "      <td>0.000857</td>\n",
       "      <td>0.000500</td>\n",
       "      <td>0.000563</td>\n",
       "      <td>0.001564</td>\n",
       "    </tr>\n",
       "    <tr>\n",
       "      <th>25%</th>\n",
       "      <td>0.247767</td>\n",
       "      <td>0.247594</td>\n",
       "      <td>0.236123</td>\n",
       "      <td>0.250764</td>\n",
       "      <td>0.235405</td>\n",
       "      <td>0.248853</td>\n",
       "    </tr>\n",
       "    <tr>\n",
       "      <th>50%</th>\n",
       "      <td>0.529179</td>\n",
       "      <td>0.512903</td>\n",
       "      <td>0.477490</td>\n",
       "      <td>0.510647</td>\n",
       "      <td>0.483035</td>\n",
       "      <td>0.507112</td>\n",
       "    </tr>\n",
       "    <tr>\n",
       "      <th>75%</th>\n",
       "      <td>0.765788</td>\n",
       "      <td>0.752724</td>\n",
       "      <td>0.750974</td>\n",
       "      <td>0.741804</td>\n",
       "      <td>0.737548</td>\n",
       "      <td>0.757315</td>\n",
       "    </tr>\n",
       "    <tr>\n",
       "      <th>max</th>\n",
       "      <td>0.999878</td>\n",
       "      <td>0.996086</td>\n",
       "      <td>0.997559</td>\n",
       "      <td>0.999679</td>\n",
       "      <td>0.999358</td>\n",
       "      <td>0.998749</td>\n",
       "    </tr>\n",
       "  </tbody>\n",
       "</table>\n",
       "</div>"
      ],
      "text/plain": [
       "                 A            B            C            D            E  \\\n",
       "count  1000.000000  1000.000000  1000.000000  1000.000000  1000.000000   \n",
       "mean      0.513882     0.499310     0.492289     0.500609     0.488096   \n",
       "std       0.294062     0.291823     0.293361     0.285373     0.285210   \n",
       "min       0.002318     0.001400     0.000857     0.000500     0.000563   \n",
       "25%       0.247767     0.247594     0.236123     0.250764     0.235405   \n",
       "50%       0.529179     0.512903     0.477490     0.510647     0.483035   \n",
       "75%       0.765788     0.752724     0.750974     0.741804     0.737548   \n",
       "max       0.999878     0.996086     0.997559     0.999679     0.999358   \n",
       "\n",
       "                 F  \n",
       "count  1000.000000  \n",
       "mean      0.504638  \n",
       "std       0.289368  \n",
       "min       0.001564  \n",
       "25%       0.248853  \n",
       "50%       0.507112  \n",
       "75%       0.757315  \n",
       "max       0.998749  "
      ]
     },
     "execution_count": 25,
     "metadata": {},
     "output_type": "execute_result"
    }
   ],
   "source": [
    "# load specified object by name\n",
    "df_loaded = pv_api.get_object(dataframe_object_name,None)\n",
    "df_loaded.describe()"
   ]
  },
  {
   "cell_type": "markdown",
   "id": "108196df",
   "metadata": {},
   "source": [
    "#### Upload Obejct using Pickle"
   ]
  },
  {
   "cell_type": "code",
   "execution_count": 26,
   "id": "a34e9485",
   "metadata": {},
   "outputs": [],
   "source": [
    "python_object_name = 'pyobj'"
   ]
  },
  {
   "cell_type": "code",
   "execution_count": 27,
   "id": "80719647",
   "metadata": {},
   "outputs": [],
   "source": [
    "# Python class\n",
    "class PythonObject:\n",
    "    def __init__(self, a, b, c):\n",
    "        self.__a = a\n",
    "        self.__b = b\n",
    "        self.__c = c\n",
    "    def print(self):\n",
    "        print(f'a={self.__a},b={self.__b},c={self.__c}')\n",
    "    def some_method(self):\n",
    "        print('Some method!')\n",
    "pyobj = PythonObject(1,2,'ok')"
   ]
  },
  {
   "cell_type": "code",
   "execution_count": 28,
   "id": "298c964d",
   "metadata": {},
   "outputs": [
    {
     "data": {
      "text/plain": [
       "{'FileName': 'pyobj', 'FileSize': 120}"
      ]
     },
     "execution_count": 28,
     "metadata": {},
     "output_type": "execute_result"
    }
   ],
   "source": [
    "# upload object by name\n",
    "pv_api.upload_object(pyobj,python_object_name)"
   ]
  },
  {
   "cell_type": "code",
   "execution_count": 29,
   "id": "776a9def",
   "metadata": {},
   "outputs": [
    {
     "name": "stdout",
     "output_type": "stream",
     "text": [
      "a=1,b=2,c=ok\n",
      "Some method!\n"
     ]
    }
   ],
   "source": [
    "# get object\n",
    "pyobj_loaded = pv_api.get_object(python_object_name)\n",
    "pyobj_loaded.print()\n",
    "pyobj_loaded.some_method()"
   ]
  },
  {
   "cell_type": "markdown",
   "id": "9ec88921",
   "metadata": {},
   "source": [
    "## Examples: Delete File"
   ]
  },
  {
   "cell_type": "code",
   "execution_count": 30,
   "id": "8d1be04b",
   "metadata": {},
   "outputs": [
    {
     "data": {
      "text/plain": [
       "['18934 xlsm.xlsm',\n",
       " '18934 xlsx.xlsx',\n",
       " 'BRUGGE60K_FY-SF-KM-1-1.EGRID',\n",
       " 'Book1.xlsx',\n",
       " 'ConditionIdentificationMLModel.zip',\n",
       " 'ConditionIdentificationModel.zip',\n",
       " 'CumulativesTest.csv',\n",
       " 'Data Session Stats.xlsx',\n",
       " 'Data.xlsx',\n",
       " 'Histórico_Teste_Poço_Geral_10anos_rev1 (1).xlsx',\n",
       " 'OGD_DrillingSpacingUnits.dbf',\n",
       " 'OGD_DrillingSpacingUnits.shp',\n",
       " 'Oil.xlsx',\n",
       " 'Pontian1',\n",
       " 'Pontian1.shp',\n",
       " 'ProdMan Report 02.27.2023.xlsx',\n",
       " 'PythonDataFrame',\n",
       " 'Reserves_Master_Oneline.xlsx',\n",
       " 'String Cleansing Concat.xlsx',\n",
       " 'String Cleansing.xlsx',\n",
       " 'TagEntriesImportExample.xlsx',\n",
       " 'WDBC_QEPDEMO_Well_Header.txt',\n",
       " 'WFMP A SHALE - STRUCTURE.zmap',\n",
       " 'Well Test.xlsx',\n",
       " 'fu-86D-AL.csv',\n",
       " 'fu-86D-AL.xls',\n",
       " 'in_memory_json_file.txt',\n",
       " 'in_memory_text_file.txt',\n",
       " 'irap_grid_01.png',\n",
       " 'json_file.txt',\n",
       " 'oip_map',\n",
       " 'oip_map.shp',\n",
       " 'oip_map_cps3',\n",
       " 'oip_map_irap',\n",
       " 'oip_map_zmap',\n",
       " 'pyobj',\n",
       " 'python_file.json',\n",
       " 'python_object.json',\n",
       " 'shapefile_map_example.dbf',\n",
       " 'shapefile_map_example.prj',\n",
       " 'shapefile_map_example.shp',\n",
       " 'shapefile_map_example.shx',\n",
       " 'text_file.txt',\n",
       " 'zmap_example']"
      ]
     },
     "execution_count": 30,
     "metadata": {},
     "output_type": "execute_result"
    }
   ],
   "source": [
    "# get file names\n",
    "files = pv_api.get_file_names()\n",
    "files"
   ]
  },
  {
   "cell_type": "code",
   "execution_count": 31,
   "id": "4ebea39b",
   "metadata": {},
   "outputs": [
    {
     "data": {
      "text/plain": [
       "<Response [200]>"
      ]
     },
     "execution_count": 31,
     "metadata": {},
     "output_type": "execute_result"
    }
   ],
   "source": [
    "# delete file or object\n",
    "filename = python_object_name\n",
    "pv_api.delete_file(filename)"
   ]
  },
  {
   "cell_type": "code",
   "execution_count": null,
   "id": "350d3f2e",
   "metadata": {},
   "outputs": [],
   "source": []
  }
 ],
 "metadata": {
  "kernelspec": {
   "display_name": "petrovisor_api",
   "language": "python",
   "name": "petrovisor_api"
  },
  "language_info": {
   "codemirror_mode": {
    "name": "ipython",
    "version": 3
   },
   "file_extension": ".py",
   "mimetype": "text/x-python",
   "name": "python",
   "nbconvert_exporter": "python",
   "pygments_lexer": "ipython3",
   "version": "3.7.16"
  }
 },
 "nbformat": 4,
 "nbformat_minor": 5
}
