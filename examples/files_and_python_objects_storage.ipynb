{
 "cells": [
  {
   "cell_type": "code",
   "execution_count": 1,
   "id": "80634b27",
   "metadata": {},
   "outputs": [],
   "source": [
    "import petrovisor as pv"
   ]
  },
  {
   "cell_type": "code",
   "execution_count": 2,
   "id": "f1715bc5",
   "metadata": {},
   "outputs": [],
   "source": [
    "import pandas as pd\n",
    "import numpy as np\n",
    "import os\n",
    "import io\n",
    "import json"
   ]
  },
  {
   "cell_type": "markdown",
   "id": "b8c50659",
   "metadata": {},
   "source": [
    "# Authorization"
   ]
  },
  {
   "cell_type": "code",
   "execution_count": 3,
   "id": "8fd7c8ac-c768-4f2d-b689-24ee853da8ef",
   "metadata": {},
   "outputs": [
    {
     "name": "stdout",
     "output_type": "stream",
     "text": [
      "https://api.eu1.petrovisor.com\n"
     ]
    }
   ],
   "source": [
    "# url\n",
    "discovery_url = r'https://identity.eu1.petrovisor.com'\n",
    "# discovery_url = r'https://identity.us1.petrovisor.com'\n",
    "\n",
    "# workspace\n",
    "workspace = 'Workspace Name'\n",
    "\n",
    "# generate access key (only for the first time, comment the line afterwards)\n",
    "key = pv.PetroVisor.generate_credentials_key()\n",
    "# print(f\"key : '{key}'\")\n",
    "# save key for later to reuse\n",
    "# key = ''\n",
    "\n",
    "api = pv.PetroVisor(workspace = workspace, discovery_url = discovery_url, key = key)\n",
    "print(api.Api)"
   ]
  },
  {
   "cell_type": "markdown",
   "id": "f887680e",
   "metadata": {},
   "source": [
    "# PetroVisor API Swagger"
   ]
  },
  {
   "cell_type": "markdown",
   "id": "8702860e",
   "metadata": {},
   "source": [
    "https://api.eu1.petrovisor.com/index.html"
   ]
  },
  {
   "cell_type": "markdown",
   "id": "68f78ac0",
   "metadata": {},
   "source": [
    "https://api.us1.petrovisor.com/index.html"
   ]
  },
  {
   "cell_type": "markdown",
   "id": "d54934de",
   "metadata": {},
   "source": [
    "# Examples: File Storage"
   ]
  },
  {
   "cell_type": "code",
   "execution_count": 4,
   "id": "3a564de2",
   "metadata": {},
   "outputs": [
    {
     "data": {
      "text/plain": [
       "['18934 xlsm.xlsm',\n",
       " '18934 xlsx.xlsx',\n",
       " '19253 - header.csv',\n",
       " '19253.csv',\n",
       " 'BRUGGE60K_FY-SF-KM-1-1.EGRID',\n",
       " 'BRUGGE60K_FY-SF-KM-1-1.GRDECL',\n",
       " 'Book1.xlsx',\n",
       " 'ConditionIdentificationMLModel.zip',\n",
       " 'ConditionIdentificationModel.zip',\n",
       " 'CumulativesTest.csv',\n",
       " 'Data Session Stats.xlsx',\n",
       " 'Data.xlsx',\n",
       " 'DateFormat.xlsx',\n",
       " 'Entities Import.xlsx',\n",
       " 'FY-2022 Post-JIB (NET).xlsx',\n",
       " 'Histórico_Teste_Poço_Geral_10anos_rev1 (1).xlsx',\n",
       " 'OGD_DrillingSpacingUnits.dbf',\n",
       " 'OGD_DrillingSpacingUnits.shp',\n",
       " 'Oil.xlsx',\n",
       " 'Pontian1',\n",
       " 'Pontian1.shp',\n",
       " 'ProdMan Report 02.27.2023.xlsx',\n",
       " 'PythonDataFrame',\n",
       " 'Reserves_Master_Oneline.xlsx',\n",
       " 'String Cleansing Concat.xlsx',\n",
       " 'String Cleansing.xlsx',\n",
       " 'Tag Entries Import Test.xlsx',\n",
       " 'TagEntriesImportExample.xlsx',\n",
       " 'WDBC_QEPDEMO_Well_Header.txt',\n",
       " 'WFMP A SHALE - STRUCTURE.zmap',\n",
       " 'Well Test.xlsx',\n",
       " 'first_file.csv',\n",
       " 'folder_name/text_file_inside_folder.txt',\n",
       " 'fu-86D-AL.csv',\n",
       " 'fu-86D-AL.xls',\n",
       " 'in_memory_json_file.txt',\n",
       " 'in_memory_text_file.txt',\n",
       " 'irap_grid_01.png',\n",
       " 'iris_binary_classification.onnx',\n",
       " 'iris_binary_classification_zipmap_false.onnx',\n",
       " 'linear_regression_model.onnx',\n",
       " 'oip_map',\n",
       " 'oip_map.shp',\n",
       " 'oip_map_cps3',\n",
       " 'oip_map_irap',\n",
       " 'oip_map_zmap',\n",
       " 'python_file.json',\n",
       " 'python_object.json',\n",
       " 'pytorch_mlp.onnx',\n",
       " 'regression_4in_1out_tf2onnx_onnx_model (1).onnx',\n",
       " 'regression_4in_1out_tf2onnx_onnx_model.onnx',\n",
       " 'regression_model (1).onnx',\n",
       " 'regression_model.onnx',\n",
       " 'saved_model.pb',\n",
       " 'second_file.csv',\n",
       " 'shapefile_map_example.dbf',\n",
       " 'shapefile_map_example.prj',\n",
       " 'shapefile_map_example.shp',\n",
       " 'shapefile_map_example.shx',\n",
       " 'sklearn_iris_model.onnx',\n",
       " 'tensorflow_iris_model.onnx',\n",
       " 'tests/new_test_name/.DS_Store',\n",
       " 'tests/new_test_name/upload_folder_test/.DS_Store',\n",
       " 'tests/new_test_name/upload_folder_test/another_folder/file3.txt',\n",
       " 'tests/new_test_name/upload_folder_test/file2.txt',\n",
       " 'text_file.txt',\n",
       " 'tf_keras_mlp (1).onnx',\n",
       " 'torch_iris_model (2).onnx',\n",
       " 'torch_iris_model.onnx',\n",
       " 'zmap_example']"
      ]
     },
     "execution_count": 4,
     "metadata": {},
     "output_type": "execute_result"
    }
   ],
   "source": [
    "# get file names\n",
    "files = api.get_file_names()\n",
    "files"
   ]
  },
  {
   "cell_type": "markdown",
   "id": "142c8e96",
   "metadata": {},
   "source": [
    "## Examples: Uploading Files to Workspace"
   ]
  },
  {
   "cell_type": "markdown",
   "id": "82fbb20b",
   "metadata": {},
   "source": [
    "#### Upload text file"
   ]
  },
  {
   "cell_type": "code",
   "execution_count": 5,
   "id": "7e29b9ea",
   "metadata": {},
   "outputs": [],
   "source": [
    "text_filename = 'text_file.txt'"
   ]
  },
  {
   "cell_type": "code",
   "execution_count": 6,
   "id": "142e8feb",
   "metadata": {},
   "outputs": [],
   "source": [
    "# save file to disk\n",
    "with io.StringIO() as f:\n",
    "    f.write(\"line1: some text in line 1\\n\")\n",
    "    f.write(\"line2: some text in line 2\\n\")\n",
    "    f.write(\"line3: some text in line 3. \")\n",
    "    f.write(\"Still some text in line 3\")\n",
    "    f.name = text_filename\n",
    "    with open(text_filename, mode='w') as fout:\n",
    "        print(f.getvalue(), file=fout)"
   ]
  },
  {
   "cell_type": "code",
   "execution_count": 7,
   "id": "88be0eab",
   "metadata": {},
   "outputs": [
    {
     "data": {
      "text/plain": [
       "{'FileName': 'text_file.txt',\n",
       " 'FileSize': 108,\n",
       " 'LastModified': '2023-08-18T12:18:53+00:00'}"
      ]
     },
     "execution_count": 7,
     "metadata": {},
     "output_type": "execute_result"
    }
   ],
   "source": [
    "# upload file\n",
    "api.upload_file(text_filename)"
   ]
  },
  {
   "cell_type": "code",
   "execution_count": 8,
   "id": "d7d5c76b",
   "metadata": {},
   "outputs": [],
   "source": [
    "# get text file (directly loading text content)\n",
    "text_file = api.get_file(text_filename,format='text')"
   ]
  },
  {
   "cell_type": "code",
   "execution_count": 9,
   "id": "e7eefa6b",
   "metadata": {},
   "outputs": [
    {
     "name": "stdout",
     "output_type": "stream",
     "text": [
      "line1: some text in line 1\n",
      "line2: some text in line 2\n",
      "line3: some text in line 3. Still some text in line 3\n"
     ]
    }
   ],
   "source": [
    "# print text content\n",
    "with io.StringIO(text_file) as text_file:\n",
    "    lines = text_file.readlines()\n",
    "    for line in lines:\n",
    "        print(line,end='')"
   ]
  },
  {
   "cell_type": "markdown",
   "id": "85782b06-f28a-467b-9763-b432536f1121",
   "metadata": {},
   "source": [
    "#### Upload text file within specified directory"
   ]
  },
  {
   "cell_type": "code",
   "execution_count": 10,
   "id": "f1bb1e0f-8fcd-4f5d-a018-bb7c6222aa23",
   "metadata": {},
   "outputs": [],
   "source": [
    "text_filename = 'text_file_inside_folder.txt'"
   ]
  },
  {
   "cell_type": "code",
   "execution_count": 11,
   "id": "d41c17a4-5775-4c72-b814-af2c1df6b985",
   "metadata": {},
   "outputs": [],
   "source": [
    "# save file to disk\n",
    "with io.StringIO() as f:\n",
    "    f.write(\"line1: inside_folder: some text in line 1\\n\")\n",
    "    f.write(\"line2: inside_folder: some text in line 2\\n\")\n",
    "    f.write(\"line3: inside_folder: some text in line 3. \")\n",
    "    f.write(\"Still some text in line 3\")\n",
    "    #f.name = text_filename\n",
    "    with open(text_filename, mode='w') as fout:\n",
    "        print(f.getvalue(), file=fout)"
   ]
  },
  {
   "cell_type": "code",
   "execution_count": 12,
   "id": "15bc8505-4a85-40bf-a3d4-eea6021bd11a",
   "metadata": {},
   "outputs": [
    {
     "data": {
      "text/plain": [
       "{'FileName': 'text_file_inside_folder.txt',\n",
       " 'FileSize': 153,\n",
       " 'LastModified': '2023-08-18T12:18:54+00:00'}"
      ]
     },
     "execution_count": 12,
     "metadata": {},
     "output_type": "execute_result"
    }
   ],
   "source": [
    "# upload file\n",
    "from pathlib import PureWindowsPath\n",
    "text_filename_with_foldername = os.path.join('folder_name',text_filename)\n",
    "api.upload_file(text_filename, name=text_filename_with_foldername)"
   ]
  },
  {
   "cell_type": "code",
   "execution_count": 13,
   "id": "e509b1e8-d364-4cf8-853a-3b573aee549e",
   "metadata": {},
   "outputs": [
    {
     "data": {
      "text/plain": [
       "'folder_name/text_file_inside_folder.txt'"
      ]
     },
     "execution_count": 13,
     "metadata": {},
     "output_type": "execute_result"
    }
   ],
   "source": [
    "text_filename_with_foldername"
   ]
  },
  {
   "cell_type": "code",
   "execution_count": 14,
   "id": "3164bc73-d2a5-4521-a101-d2a014c1e5ee",
   "metadata": {},
   "outputs": [],
   "source": [
    "# get text file (directly loading text content)\n",
    "text_file_inside_folder = api.get_file(text_filename_with_foldername,format='text')"
   ]
  },
  {
   "cell_type": "code",
   "execution_count": 15,
   "id": "55ce948e-71a7-42f2-a98d-f1c68440bd09",
   "metadata": {},
   "outputs": [
    {
     "name": "stdout",
     "output_type": "stream",
     "text": [
      "line1: inside_folder: some text in line 1\n",
      "line2: inside_folder: some text in line 2\n",
      "line3: inside_folder: some text in line 3. Still some text in line 3\n"
     ]
    }
   ],
   "source": [
    "# print text content\n",
    "with io.StringIO(text_file_inside_folder) as text_file:\n",
    "    lines = text_file.readlines()\n",
    "    for line in lines:\n",
    "        print(line,end='')"
   ]
  },
  {
   "cell_type": "markdown",
   "id": "f5fcaa44",
   "metadata": {},
   "source": [
    "#### Upload json file"
   ]
  },
  {
   "cell_type": "code",
   "execution_count": 16,
   "id": "24ee1598",
   "metadata": {},
   "outputs": [],
   "source": [
    "# upload json file\n",
    "json_filename = 'json_file.txt'"
   ]
  },
  {
   "cell_type": "code",
   "execution_count": 17,
   "id": "a79a49a8",
   "metadata": {},
   "outputs": [],
   "source": [
    "# save file to disk\n",
    "with io.StringIO() as f:\n",
    "    d = {\n",
    "        'Name': 'some name',\n",
    "        'Int': 1,\n",
    "        'Dict': {'a': 1, 'b': [1,2,3], 'c': 'string'},\n",
    "        'List': [1,2,3,4,5]\n",
    "    }\n",
    "    f.write(json.dumps(d))\n",
    "    f.name = json_filename\n",
    "    with open(json_filename, mode='w') as fout:\n",
    "        print(f.getvalue(), file=fout)"
   ]
  },
  {
   "cell_type": "code",
   "execution_count": 18,
   "id": "a8003e5b",
   "metadata": {},
   "outputs": [
    {
     "data": {
      "text/plain": [
       "{'FileName': 'json_file.txt',\n",
       " 'FileSize': 106,\n",
       " 'LastModified': '2023-08-18T12:18:55+00:00'}"
      ]
     },
     "execution_count": 18,
     "metadata": {},
     "output_type": "execute_result"
    }
   ],
   "source": [
    "# upload file\n",
    "api.upload_file(json_filename)"
   ]
  },
  {
   "cell_type": "code",
   "execution_count": 19,
   "id": "8e35a425",
   "metadata": {},
   "outputs": [
    {
     "data": {
      "text/plain": [
       "{'Name': 'some name',\n",
       " 'Int': 1,\n",
       " 'Dict': {'a': 1, 'b': [1, 2, 3], 'c': 'string'},\n",
       " 'List': [1, 2, 3, 4, 5]}"
      ]
     },
     "execution_count": 19,
     "metadata": {},
     "output_type": "execute_result"
    }
   ],
   "source": [
    "# get json file (directly loading json content)\n",
    "json_file = api.get_file(json_filename,format='json')\n",
    "json_file"
   ]
  },
  {
   "cell_type": "markdown",
   "id": "4068d548-cd56-47c2-81db-4ee6c56b1e96",
   "metadata": {},
   "source": [
    "#### Upload folder"
   ]
  },
  {
   "cell_type": "code",
   "execution_count": 20,
   "id": "a71803ce-095f-4846-97b2-b7b974a6033d",
   "metadata": {},
   "outputs": [],
   "source": [
    "# create folder with files\n",
    "folder_name = 'tests'\n",
    "if not os.path.isdir(folder_name):\n",
    "    os.mkdir(folder_name)\n",
    "# save file to disk\n",
    "with io.StringIO() as f:\n",
    "    f.write(\"file1: line1: some text in line 1\\n\")\n",
    "    f.write(\"file1: line2: some text in line 2\\n\")\n",
    "    f.write(\"file1: line3: some text in line 3. \")\n",
    "    f.write(\"Still some text in line 3\")\n",
    "    f.name = 'file1.txt'\n",
    "    with open(os.path.join(folder_name,'file1.txt'), mode='w') as fout:\n",
    "        print(f.getvalue(), file=fout)\n",
    "# create deirectory inside main directory\n",
    "inner_folder_name = os.path.join(folder_name,'upload_folder_test')\n",
    "if not os.path.isdir(inner_folder_name):\n",
    "    os.mkdir(inner_folder_name)\n",
    "with io.StringIO() as f:\n",
    "    f.write(\"file2: line1: some text in line 1\\n\")\n",
    "    f.write(\"file2: line2: some text in line 2\\n\")\n",
    "    f.write(\"file2: line3: some text in line 3. \")\n",
    "    f.write(\"file2: Still some text in line 3\")\n",
    "    f.name = 'file2.txt'\n",
    "    with open(os.path.join(inner_folder_name,'file2.txt'), mode='w') as fout:\n",
    "        print(f.getvalue(), file=fout)"
   ]
  },
  {
   "cell_type": "code",
   "execution_count": 21,
   "id": "3e6e50ec-2fae-4d82-beb3-7d1b7663e92d",
   "metadata": {},
   "outputs": [],
   "source": [
    "# upload folder\n",
    "api.upload_folder(folder_name)"
   ]
  },
  {
   "cell_type": "code",
   "execution_count": 22,
   "id": "ada06da4-f748-4f92-b8e8-977533a6f60a",
   "metadata": {},
   "outputs": [],
   "source": [
    "# delete folder\n",
    "api.delete_folder(folder_name)"
   ]
  },
  {
   "cell_type": "code",
   "execution_count": 23,
   "id": "f89035c2-59e4-4f7d-ac42-4bb568a66b2b",
   "metadata": {},
   "outputs": [],
   "source": [
    "# upload folder under different name\n",
    "new_folder_name = os.path.join('tests','new_test_name')\n",
    "api.upload_folder(folder_name, name=new_folder_name)"
   ]
  },
  {
   "cell_type": "code",
   "execution_count": 24,
   "id": "0f588fb0-5dd1-4c06-a5e6-4431ac5462c0",
   "metadata": {},
   "outputs": [],
   "source": [
    "# delete folder\n",
    "api.delete_folder(new_folder_name)"
   ]
  },
  {
   "cell_type": "code",
   "execution_count": 25,
   "id": "04b4a330-c28a-44df-aeea-40fc75ce8d0f",
   "metadata": {},
   "outputs": [
    {
     "data": {
      "text/plain": [
       "['18934 xlsm.xlsm',\n",
       " '18934 xlsx.xlsx',\n",
       " '19253 - header.csv',\n",
       " '19253.csv',\n",
       " 'BRUGGE60K_FY-SF-KM-1-1.EGRID',\n",
       " 'BRUGGE60K_FY-SF-KM-1-1.GRDECL',\n",
       " 'Book1.xlsx',\n",
       " 'ConditionIdentificationMLModel.zip',\n",
       " 'ConditionIdentificationModel.zip',\n",
       " 'CumulativesTest.csv',\n",
       " 'Data Session Stats.xlsx',\n",
       " 'Data.xlsx',\n",
       " 'DateFormat.xlsx',\n",
       " 'Entities Import.xlsx',\n",
       " 'FY-2022 Post-JIB (NET).xlsx',\n",
       " 'Histórico_Teste_Poço_Geral_10anos_rev1 (1).xlsx',\n",
       " 'OGD_DrillingSpacingUnits.dbf',\n",
       " 'OGD_DrillingSpacingUnits.shp',\n",
       " 'Oil.xlsx',\n",
       " 'Pontian1',\n",
       " 'Pontian1.shp',\n",
       " 'ProdMan Report 02.27.2023.xlsx',\n",
       " 'PythonDataFrame',\n",
       " 'Reserves_Master_Oneline.xlsx',\n",
       " 'String Cleansing Concat.xlsx',\n",
       " 'String Cleansing.xlsx',\n",
       " 'Tag Entries Import Test.xlsx',\n",
       " 'TagEntriesImportExample.xlsx',\n",
       " 'WDBC_QEPDEMO_Well_Header.txt',\n",
       " 'WFMP A SHALE - STRUCTURE.zmap',\n",
       " 'Well Test.xlsx',\n",
       " 'first_file.csv',\n",
       " 'folder_name/text_file_inside_folder.txt',\n",
       " 'fu-86D-AL.csv',\n",
       " 'fu-86D-AL.xls',\n",
       " 'in_memory_json_file.txt',\n",
       " 'in_memory_text_file.txt',\n",
       " 'irap_grid_01.png',\n",
       " 'iris_binary_classification.onnx',\n",
       " 'iris_binary_classification_zipmap_false.onnx',\n",
       " 'json_file.txt',\n",
       " 'linear_regression_model.onnx',\n",
       " 'oip_map',\n",
       " 'oip_map.shp',\n",
       " 'oip_map_cps3',\n",
       " 'oip_map_irap',\n",
       " 'oip_map_zmap',\n",
       " 'python_file.json',\n",
       " 'python_object.json',\n",
       " 'pytorch_mlp.onnx',\n",
       " 'regression_4in_1out_tf2onnx_onnx_model (1).onnx',\n",
       " 'regression_4in_1out_tf2onnx_onnx_model.onnx',\n",
       " 'regression_model (1).onnx',\n",
       " 'regression_model.onnx',\n",
       " 'saved_model.pb',\n",
       " 'second_file.csv',\n",
       " 'shapefile_map_example.dbf',\n",
       " 'shapefile_map_example.prj',\n",
       " 'shapefile_map_example.shp',\n",
       " 'shapefile_map_example.shx',\n",
       " 'sklearn_iris_model.onnx',\n",
       " 'tensorflow_iris_model.onnx',\n",
       " 'tests/new_test_name/.DS_Store',\n",
       " 'tests/new_test_name/file1.txt',\n",
       " 'tests/new_test_name/upload_folder_test/.DS_Store',\n",
       " 'tests/new_test_name/upload_folder_test/another_folder/file3.txt',\n",
       " 'tests/new_test_name/upload_folder_test/file2.txt',\n",
       " 'text_file.txt',\n",
       " 'tf_keras_mlp (1).onnx',\n",
       " 'torch_iris_model (2).onnx',\n",
       " 'torch_iris_model.onnx',\n",
       " 'zmap_example']"
      ]
     },
     "execution_count": 25,
     "metadata": {},
     "output_type": "execute_result"
    }
   ],
   "source": [
    "files = api.get_file_names()\n",
    "files"
   ]
  },
  {
   "cell_type": "markdown",
   "id": "3518c219",
   "metadata": {},
   "source": [
    "## Examples: Upload Python in-memory objects to Workspace"
   ]
  },
  {
   "cell_type": "markdown",
   "id": "505a6959",
   "metadata": {},
   "source": [
    "#### Upload in-memory text file"
   ]
  },
  {
   "cell_type": "code",
   "execution_count": 26,
   "id": "9c939a2d",
   "metadata": {},
   "outputs": [],
   "source": [
    "in_memory_text_filename = 'in_memory_text_file.txt'"
   ]
  },
  {
   "cell_type": "code",
   "execution_count": 27,
   "id": "ffcea816",
   "metadata": {},
   "outputs": [],
   "source": [
    "# upload txt file (in-memory)\n",
    "s = ''\n",
    "s += \"line 1: some in-memory text file\\n\"\n",
    "s += \"line 2: some in-memory text file\\n\"\n",
    "with io.StringIO(s) as f:\n",
    "    f.name = in_memory_text_filename\n",
    "    api.upload_file(f)"
   ]
  },
  {
   "cell_type": "code",
   "execution_count": 28,
   "id": "21c218e7",
   "metadata": {},
   "outputs": [
    {
     "name": "stdout",
     "output_type": "stream",
     "text": [
      "line 1: some in-memory text file\n",
      "line 2: some in-memory text file\n"
     ]
    }
   ],
   "source": [
    "# get file-like object\n",
    "file = api.get_file(in_memory_text_filename)\n",
    "\n",
    "with io.BytesIO(file) as inmemory_file:\n",
    "    lines = inmemory_file.readlines()\n",
    "    for line in lines:\n",
    "        print(line.decode(\"utf-8\"), end='')"
   ]
  },
  {
   "cell_type": "code",
   "execution_count": 29,
   "id": "3180c8cc",
   "metadata": {},
   "outputs": [
    {
     "name": "stdout",
     "output_type": "stream",
     "text": [
      "line 1: some in-memory text file\n",
      "line 2: some in-memory text file\n"
     ]
    }
   ],
   "source": [
    "# get text file (directly loading text content)\n",
    "text_file = api.get_file(in_memory_text_filename,format='text')\n",
    "\n",
    "with io.StringIO(text_file) as text_file:\n",
    "    lines = text_file.readlines()\n",
    "    for line in lines:\n",
    "        print(line,end='')"
   ]
  },
  {
   "cell_type": "markdown",
   "id": "6793810e",
   "metadata": {},
   "source": [
    "#### Upload in-memory json file"
   ]
  },
  {
   "cell_type": "code",
   "execution_count": 30,
   "id": "eb001aaf",
   "metadata": {},
   "outputs": [],
   "source": [
    "in_memory_json_filename = 'in_memory_json_file.txt'"
   ]
  },
  {
   "cell_type": "code",
   "execution_count": 31,
   "id": "95a93171",
   "metadata": {},
   "outputs": [],
   "source": [
    "d = {\n",
    "    'a': 1,\n",
    "    'b': 'foo',\n",
    "    'c': [1,2,3],\n",
    "    'd': {\n",
    "        'x': ['a','b','c',],\n",
    "        'y': [1,2,3],\n",
    "         }\n",
    "}"
   ]
  },
  {
   "cell_type": "code",
   "execution_count": 32,
   "id": "c7d9751a",
   "metadata": {},
   "outputs": [
    {
     "data": {
      "text/plain": [
       "{'FileName': 'in_memory_json_file.txt',\n",
       " 'FileSize': 81,\n",
       " 'LastModified': '2023-08-18T12:19:04+00:00'}"
      ]
     },
     "execution_count": 32,
     "metadata": {},
     "output_type": "execute_result"
    }
   ],
   "source": [
    "api.upload_object(d,in_memory_json_filename, binary=False)"
   ]
  },
  {
   "cell_type": "code",
   "execution_count": 33,
   "id": "583b446b",
   "metadata": {},
   "outputs": [
    {
     "data": {
      "text/plain": [
       "{'a': 1,\n",
       " 'b': 'foo',\n",
       " 'c': [1, 2, 3],\n",
       " 'd': {'x': ['a', 'b', 'c'], 'y': [1, 2, 3]}}"
      ]
     },
     "execution_count": 33,
     "metadata": {},
     "output_type": "execute_result"
    }
   ],
   "source": [
    "# get json file (directly loading json content)\n",
    "json_file = api.get_file(in_memory_json_filename,format='json')\n",
    "json_file"
   ]
  },
  {
   "cell_type": "markdown",
   "id": "f5e4ad11",
   "metadata": {},
   "source": [
    "#### Upload DataFrame"
   ]
  },
  {
   "cell_type": "code",
   "execution_count": 34,
   "id": "fd38646e",
   "metadata": {},
   "outputs": [],
   "source": [
    "dataframe_object_name = 'PythonDataFrame'"
   ]
  },
  {
   "cell_type": "code",
   "execution_count": 35,
   "id": "7e323568",
   "metadata": {},
   "outputs": [
    {
     "data": {
      "text/html": [
       "<div>\n",
       "<style scoped>\n",
       "    .dataframe tbody tr th:only-of-type {\n",
       "        vertical-align: middle;\n",
       "    }\n",
       "\n",
       "    .dataframe tbody tr th {\n",
       "        vertical-align: top;\n",
       "    }\n",
       "\n",
       "    .dataframe thead th {\n",
       "        text-align: right;\n",
       "    }\n",
       "</style>\n",
       "<table border=\"1\" class=\"dataframe\">\n",
       "  <thead>\n",
       "    <tr style=\"text-align: right;\">\n",
       "      <th></th>\n",
       "      <th>A</th>\n",
       "      <th>B</th>\n",
       "      <th>C</th>\n",
       "      <th>D</th>\n",
       "      <th>E</th>\n",
       "      <th>F</th>\n",
       "    </tr>\n",
       "  </thead>\n",
       "  <tbody>\n",
       "    <tr>\n",
       "      <th>count</th>\n",
       "      <td>1000.000000</td>\n",
       "      <td>1000.000000</td>\n",
       "      <td>1000.000000</td>\n",
       "      <td>1000.000000</td>\n",
       "      <td>1000.000000</td>\n",
       "      <td>1000.000000</td>\n",
       "    </tr>\n",
       "    <tr>\n",
       "      <th>mean</th>\n",
       "      <td>0.510450</td>\n",
       "      <td>0.484451</td>\n",
       "      <td>0.504949</td>\n",
       "      <td>0.490643</td>\n",
       "      <td>0.506484</td>\n",
       "      <td>0.509710</td>\n",
       "    </tr>\n",
       "    <tr>\n",
       "      <th>std</th>\n",
       "      <td>0.289397</td>\n",
       "      <td>0.289094</td>\n",
       "      <td>0.289156</td>\n",
       "      <td>0.284967</td>\n",
       "      <td>0.287478</td>\n",
       "      <td>0.288493</td>\n",
       "    </tr>\n",
       "    <tr>\n",
       "      <th>min</th>\n",
       "      <td>0.000297</td>\n",
       "      <td>0.000110</td>\n",
       "      <td>0.000147</td>\n",
       "      <td>0.003704</td>\n",
       "      <td>0.000343</td>\n",
       "      <td>0.000928</td>\n",
       "    </tr>\n",
       "    <tr>\n",
       "      <th>25%</th>\n",
       "      <td>0.269529</td>\n",
       "      <td>0.230306</td>\n",
       "      <td>0.260784</td>\n",
       "      <td>0.242254</td>\n",
       "      <td>0.259741</td>\n",
       "      <td>0.265144</td>\n",
       "    </tr>\n",
       "    <tr>\n",
       "      <th>50%</th>\n",
       "      <td>0.518913</td>\n",
       "      <td>0.477528</td>\n",
       "      <td>0.500436</td>\n",
       "      <td>0.476905</td>\n",
       "      <td>0.502291</td>\n",
       "      <td>0.517240</td>\n",
       "    </tr>\n",
       "    <tr>\n",
       "      <th>75%</th>\n",
       "      <td>0.757466</td>\n",
       "      <td>0.730134</td>\n",
       "      <td>0.759374</td>\n",
       "      <td>0.730901</td>\n",
       "      <td>0.761426</td>\n",
       "      <td>0.757077</td>\n",
       "    </tr>\n",
       "    <tr>\n",
       "      <th>max</th>\n",
       "      <td>0.999567</td>\n",
       "      <td>0.999215</td>\n",
       "      <td>0.999568</td>\n",
       "      <td>0.999845</td>\n",
       "      <td>0.996455</td>\n",
       "      <td>0.999982</td>\n",
       "    </tr>\n",
       "  </tbody>\n",
       "</table>\n",
       "</div>"
      ],
      "text/plain": [
       "                 A            B            C            D            E  \\\n",
       "count  1000.000000  1000.000000  1000.000000  1000.000000  1000.000000   \n",
       "mean      0.510450     0.484451     0.504949     0.490643     0.506484   \n",
       "std       0.289397     0.289094     0.289156     0.284967     0.287478   \n",
       "min       0.000297     0.000110     0.000147     0.003704     0.000343   \n",
       "25%       0.269529     0.230306     0.260784     0.242254     0.259741   \n",
       "50%       0.518913     0.477528     0.500436     0.476905     0.502291   \n",
       "75%       0.757466     0.730134     0.759374     0.730901     0.761426   \n",
       "max       0.999567     0.999215     0.999568     0.999845     0.996455   \n",
       "\n",
       "                 F  \n",
       "count  1000.000000  \n",
       "mean      0.509710  \n",
       "std       0.288493  \n",
       "min       0.000928  \n",
       "25%       0.265144  \n",
       "50%       0.517240  \n",
       "75%       0.757077  \n",
       "max       0.999982  "
      ]
     },
     "execution_count": 35,
     "metadata": {},
     "output_type": "execute_result"
    }
   ],
   "source": [
    "df = pd.DataFrame(np.random.uniform(0,1,size=(int(1e3), 6)),\n",
    "                  columns=list('ABCDEF'))\n",
    "df.describe()"
   ]
  },
  {
   "cell_type": "code",
   "execution_count": 36,
   "id": "828da513",
   "metadata": {},
   "outputs": [
    {
     "data": {
      "text/plain": [
       "{'FileName': 'PythonDataFrame',\n",
       " 'FileSize': 48679,\n",
       " 'LastModified': '2023-08-18T12:19:05+00:00'}"
      ]
     },
     "execution_count": 36,
     "metadata": {},
     "output_type": "execute_result"
    }
   ],
   "source": [
    "# upload object with specified name\n",
    "api.upload_object(df,dataframe_object_name,None)"
   ]
  },
  {
   "cell_type": "code",
   "execution_count": 37,
   "id": "676fbf50",
   "metadata": {},
   "outputs": [
    {
     "data": {
      "text/html": [
       "<div>\n",
       "<style scoped>\n",
       "    .dataframe tbody tr th:only-of-type {\n",
       "        vertical-align: middle;\n",
       "    }\n",
       "\n",
       "    .dataframe tbody tr th {\n",
       "        vertical-align: top;\n",
       "    }\n",
       "\n",
       "    .dataframe thead th {\n",
       "        text-align: right;\n",
       "    }\n",
       "</style>\n",
       "<table border=\"1\" class=\"dataframe\">\n",
       "  <thead>\n",
       "    <tr style=\"text-align: right;\">\n",
       "      <th></th>\n",
       "      <th>A</th>\n",
       "      <th>B</th>\n",
       "      <th>C</th>\n",
       "      <th>D</th>\n",
       "      <th>E</th>\n",
       "      <th>F</th>\n",
       "    </tr>\n",
       "  </thead>\n",
       "  <tbody>\n",
       "    <tr>\n",
       "      <th>count</th>\n",
       "      <td>1000.000000</td>\n",
       "      <td>1000.000000</td>\n",
       "      <td>1000.000000</td>\n",
       "      <td>1000.000000</td>\n",
       "      <td>1000.000000</td>\n",
       "      <td>1000.000000</td>\n",
       "    </tr>\n",
       "    <tr>\n",
       "      <th>mean</th>\n",
       "      <td>0.510450</td>\n",
       "      <td>0.484451</td>\n",
       "      <td>0.504949</td>\n",
       "      <td>0.490643</td>\n",
       "      <td>0.506484</td>\n",
       "      <td>0.509710</td>\n",
       "    </tr>\n",
       "    <tr>\n",
       "      <th>std</th>\n",
       "      <td>0.289397</td>\n",
       "      <td>0.289094</td>\n",
       "      <td>0.289156</td>\n",
       "      <td>0.284967</td>\n",
       "      <td>0.287478</td>\n",
       "      <td>0.288493</td>\n",
       "    </tr>\n",
       "    <tr>\n",
       "      <th>min</th>\n",
       "      <td>0.000297</td>\n",
       "      <td>0.000110</td>\n",
       "      <td>0.000147</td>\n",
       "      <td>0.003704</td>\n",
       "      <td>0.000343</td>\n",
       "      <td>0.000928</td>\n",
       "    </tr>\n",
       "    <tr>\n",
       "      <th>25%</th>\n",
       "      <td>0.269529</td>\n",
       "      <td>0.230306</td>\n",
       "      <td>0.260784</td>\n",
       "      <td>0.242254</td>\n",
       "      <td>0.259741</td>\n",
       "      <td>0.265144</td>\n",
       "    </tr>\n",
       "    <tr>\n",
       "      <th>50%</th>\n",
       "      <td>0.518913</td>\n",
       "      <td>0.477528</td>\n",
       "      <td>0.500436</td>\n",
       "      <td>0.476905</td>\n",
       "      <td>0.502291</td>\n",
       "      <td>0.517240</td>\n",
       "    </tr>\n",
       "    <tr>\n",
       "      <th>75%</th>\n",
       "      <td>0.757466</td>\n",
       "      <td>0.730134</td>\n",
       "      <td>0.759374</td>\n",
       "      <td>0.730901</td>\n",
       "      <td>0.761426</td>\n",
       "      <td>0.757077</td>\n",
       "    </tr>\n",
       "    <tr>\n",
       "      <th>max</th>\n",
       "      <td>0.999567</td>\n",
       "      <td>0.999215</td>\n",
       "      <td>0.999568</td>\n",
       "      <td>0.999845</td>\n",
       "      <td>0.996455</td>\n",
       "      <td>0.999982</td>\n",
       "    </tr>\n",
       "  </tbody>\n",
       "</table>\n",
       "</div>"
      ],
      "text/plain": [
       "                 A            B            C            D            E  \\\n",
       "count  1000.000000  1000.000000  1000.000000  1000.000000  1000.000000   \n",
       "mean      0.510450     0.484451     0.504949     0.490643     0.506484   \n",
       "std       0.289397     0.289094     0.289156     0.284967     0.287478   \n",
       "min       0.000297     0.000110     0.000147     0.003704     0.000343   \n",
       "25%       0.269529     0.230306     0.260784     0.242254     0.259741   \n",
       "50%       0.518913     0.477528     0.500436     0.476905     0.502291   \n",
       "75%       0.757466     0.730134     0.759374     0.730901     0.761426   \n",
       "max       0.999567     0.999215     0.999568     0.999845     0.996455   \n",
       "\n",
       "                 F  \n",
       "count  1000.000000  \n",
       "mean      0.509710  \n",
       "std       0.288493  \n",
       "min       0.000928  \n",
       "25%       0.265144  \n",
       "50%       0.517240  \n",
       "75%       0.757077  \n",
       "max       0.999982  "
      ]
     },
     "execution_count": 37,
     "metadata": {},
     "output_type": "execute_result"
    }
   ],
   "source": [
    "# load specified object by name\n",
    "df_loaded = api.get_object(dataframe_object_name,None)\n",
    "df_loaded.describe()"
   ]
  },
  {
   "cell_type": "markdown",
   "id": "108196df",
   "metadata": {},
   "source": [
    "#### Upload Obejct using Pickle"
   ]
  },
  {
   "cell_type": "code",
   "execution_count": 38,
   "id": "a34e9485",
   "metadata": {},
   "outputs": [],
   "source": [
    "python_object_name = 'pyobj'"
   ]
  },
  {
   "cell_type": "code",
   "execution_count": 39,
   "id": "80719647",
   "metadata": {},
   "outputs": [],
   "source": [
    "# Python class\n",
    "class PythonObject:\n",
    "    def __init__(self, a, b, c):\n",
    "        self.__a = a\n",
    "        self.__b = b\n",
    "        self.__c = c\n",
    "    def print(self):\n",
    "        print(f'a={self.__a},b={self.__b},c={self.__c}')\n",
    "    def some_method(self):\n",
    "        print('Some method!')\n",
    "pyobj = PythonObject(1,2,'ok')"
   ]
  },
  {
   "cell_type": "code",
   "execution_count": 40,
   "id": "298c964d",
   "metadata": {},
   "outputs": [
    {
     "data": {
      "text/plain": [
       "{'FileName': 'pyobj',\n",
       " 'FileSize': 114,\n",
       " 'LastModified': '2023-08-18T12:19:06+00:00'}"
      ]
     },
     "execution_count": 40,
     "metadata": {},
     "output_type": "execute_result"
    }
   ],
   "source": [
    "# upload object by name\n",
    "api.upload_object(pyobj,python_object_name)"
   ]
  },
  {
   "cell_type": "code",
   "execution_count": 41,
   "id": "776a9def",
   "metadata": {},
   "outputs": [
    {
     "name": "stdout",
     "output_type": "stream",
     "text": [
      "a=1,b=2,c=ok\n",
      "Some method!\n"
     ]
    }
   ],
   "source": [
    "# get object\n",
    "pyobj_loaded = api.get_object(python_object_name)\n",
    "pyobj_loaded.print()\n",
    "pyobj_loaded.some_method()"
   ]
  },
  {
   "cell_type": "markdown",
   "id": "9ec88921",
   "metadata": {},
   "source": [
    "## Examples: Delete File"
   ]
  },
  {
   "cell_type": "code",
   "execution_count": 42,
   "id": "8d1be04b",
   "metadata": {},
   "outputs": [
    {
     "data": {
      "text/plain": [
       "['18934 xlsm.xlsm',\n",
       " '18934 xlsx.xlsx',\n",
       " '19253 - header.csv',\n",
       " '19253.csv',\n",
       " 'BRUGGE60K_FY-SF-KM-1-1.EGRID',\n",
       " 'BRUGGE60K_FY-SF-KM-1-1.GRDECL',\n",
       " 'Book1.xlsx',\n",
       " 'ConditionIdentificationMLModel.zip',\n",
       " 'ConditionIdentificationModel.zip',\n",
       " 'CumulativesTest.csv',\n",
       " 'Data Session Stats.xlsx',\n",
       " 'Data.xlsx',\n",
       " 'DateFormat.xlsx',\n",
       " 'Entities Import.xlsx',\n",
       " 'FY-2022 Post-JIB (NET).xlsx',\n",
       " 'Histórico_Teste_Poço_Geral_10anos_rev1 (1).xlsx',\n",
       " 'OGD_DrillingSpacingUnits.dbf',\n",
       " 'OGD_DrillingSpacingUnits.shp',\n",
       " 'Oil.xlsx',\n",
       " 'Pontian1',\n",
       " 'Pontian1.shp',\n",
       " 'ProdMan Report 02.27.2023.xlsx',\n",
       " 'PythonDataFrame',\n",
       " 'Reserves_Master_Oneline.xlsx',\n",
       " 'String Cleansing Concat.xlsx',\n",
       " 'String Cleansing.xlsx',\n",
       " 'Tag Entries Import Test.xlsx',\n",
       " 'TagEntriesImportExample.xlsx',\n",
       " 'WDBC_QEPDEMO_Well_Header.txt',\n",
       " 'WFMP A SHALE - STRUCTURE.zmap',\n",
       " 'Well Test.xlsx',\n",
       " 'first_file.csv',\n",
       " 'folder_name/text_file_inside_folder.txt',\n",
       " 'fu-86D-AL.csv',\n",
       " 'fu-86D-AL.xls',\n",
       " 'in_memory_json_file.txt',\n",
       " 'in_memory_text_file.txt',\n",
       " 'irap_grid_01.png',\n",
       " 'iris_binary_classification.onnx',\n",
       " 'iris_binary_classification_zipmap_false.onnx',\n",
       " 'json_file.txt',\n",
       " 'linear_regression_model.onnx',\n",
       " 'oip_map',\n",
       " 'oip_map.shp',\n",
       " 'oip_map_cps3',\n",
       " 'oip_map_irap',\n",
       " 'oip_map_zmap',\n",
       " 'pyobj',\n",
       " 'python_file.json',\n",
       " 'python_object.json',\n",
       " 'pytorch_mlp.onnx',\n",
       " 'regression_4in_1out_tf2onnx_onnx_model (1).onnx',\n",
       " 'regression_4in_1out_tf2onnx_onnx_model.onnx',\n",
       " 'regression_model (1).onnx',\n",
       " 'regression_model.onnx',\n",
       " 'saved_model.pb',\n",
       " 'second_file.csv',\n",
       " 'shapefile_map_example.dbf',\n",
       " 'shapefile_map_example.prj',\n",
       " 'shapefile_map_example.shp',\n",
       " 'shapefile_map_example.shx',\n",
       " 'sklearn_iris_model.onnx',\n",
       " 'tensorflow_iris_model.onnx',\n",
       " 'tests/new_test_name/.DS_Store',\n",
       " 'tests/new_test_name/file1.txt',\n",
       " 'tests/new_test_name/upload_folder_test/.DS_Store',\n",
       " 'tests/new_test_name/upload_folder_test/another_folder/file3.txt',\n",
       " 'tests/new_test_name/upload_folder_test/file2.txt',\n",
       " 'text_file.txt',\n",
       " 'tf_keras_mlp (1).onnx',\n",
       " 'torch_iris_model (2).onnx',\n",
       " 'torch_iris_model.onnx',\n",
       " 'zmap_example']"
      ]
     },
     "execution_count": 42,
     "metadata": {},
     "output_type": "execute_result"
    }
   ],
   "source": [
    "# get file names\n",
    "files = api.get_file_names()\n",
    "files"
   ]
  },
  {
   "cell_type": "code",
   "execution_count": 43,
   "id": "4ebea39b",
   "metadata": {},
   "outputs": [
    {
     "data": {
      "text/plain": [
       "<Response [200]>"
      ]
     },
     "execution_count": 43,
     "metadata": {},
     "output_type": "execute_result"
    }
   ],
   "source": [
    "# delete file or object\n",
    "filename = python_object_name\n",
    "api.delete_file(filename)"
   ]
  },
  {
   "cell_type": "code",
   "execution_count": null,
   "id": "350d3f2e",
   "metadata": {},
   "outputs": [],
   "source": []
  }
 ],
 "metadata": {
  "kernelspec": {
   "display_name": "Python 3 (ipykernel)",
   "language": "python",
   "name": "python3"
  },
  "language_info": {
   "codemirror_mode": {
    "name": "ipython",
    "version": 3
   },
   "file_extension": ".py",
   "mimetype": "text/x-python",
   "name": "python",
   "nbconvert_exporter": "python",
   "pygments_lexer": "ipython3",
   "version": "3.11.6"
  }
 },
 "nbformat": 4,
 "nbformat_minor": 5
}
