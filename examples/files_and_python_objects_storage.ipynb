{
 "cells": [
  {
   "cell_type": "code",
   "execution_count": 1,
   "id": "80634b27",
   "metadata": {},
   "outputs": [],
   "source": [
    "import petrovisor as pv"
   ]
  },
  {
   "cell_type": "code",
   "execution_count": 2,
   "id": "f1715bc5",
   "metadata": {},
   "outputs": [],
   "source": [
    "import pandas as pd\n",
    "import numpy as np\n",
    "import os\n",
    "import io\n",
    "import json"
   ]
  },
  {
   "cell_type": "markdown",
   "id": "b8c50659",
   "metadata": {},
   "source": [
    "# Authorization"
   ]
  },
  {
   "cell_type": "code",
   "execution_count": 3,
   "id": "8fd7c8ac-c768-4f2d-b689-24ee853da8ef",
   "metadata": {},
   "outputs": [
    {
     "name": "stdout",
     "output_type": "stream",
     "text": [
      "https://api-latest.eu1.petrovisor.com\n"
     ]
    }
   ],
   "source": [
    "# url\n",
    "discovery_url = r'https://identity.eu1.petrovisor.com'\n",
    "# discovery_url = r'https://identity.us1.petrovisor.com'\n",
    "\n",
    "# workspace\n",
    "workspace = 'Workspace Name'\n",
    "\n",
    "# generate access key (only for the first time, comment the line afterwards)\n",
    "key = pv.PetroVisor.generate_credentials_key()\n",
    "# print(f\"key : '{key}'\")\n",
    "# save key for later to reuse\n",
    "# key = ''\n",
    "\n",
    "api = pv.PetroVisor(workspace = workspace, discovery_url = discovery_url, key = key)\n",
    "print(api.Api)"
   ]
  },
  {
   "cell_type": "markdown",
   "id": "f887680e",
   "metadata": {},
   "source": [
    "# PetroVisor API Swagger"
   ]
  },
  {
   "cell_type": "markdown",
   "id": "8702860e",
   "metadata": {},
   "source": [
    "https://api.eu1.petrovisor.com/index.html"
   ]
  },
  {
   "cell_type": "markdown",
   "id": "68f78ac0",
   "metadata": {},
   "source": [
    "https://api.us1.petrovisor.com/index.html"
   ]
  },
  {
   "cell_type": "markdown",
   "id": "d54934de",
   "metadata": {},
   "source": [
    "# Examples: File Storage"
   ]
  },
  {
   "cell_type": "code",
   "execution_count": 4,
   "id": "3a564de2",
   "metadata": {
    "tags": []
   },
   "outputs": [
    {
     "data": {
      "text/plain": [
       "['18934 xlsm.xlsm',\n",
       " '18934 xlsx.xlsx',\n",
       " '19253 - header.csv',\n",
       " '19253.csv',\n",
       " 'Alias Mapping.xlsx',\n",
       " 'AustinISD_Time_Data_Hourly.xlsx',\n",
       " 'BRUGGE60K_FY-SF-KM-1-1.EGRID',\n",
       " 'BRUGGE60K_FY-SF-KM-1-1.GRDECL',\n",
       " 'Book1.xlsx',\n",
       " 'CVX Waterflood Pattern Allocations.xlsx',\n",
       " 'ConditionIdentificationMLModel.zip',\n",
       " 'ConditionIdentificationModel.zip',\n",
       " 'CumulativesTest.csv',\n",
       " 'Data Session Stats Old.xlsx',\n",
       " 'Data Session Stats.xlsx',\n",
       " 'Data.xlsx',\n",
       " 'DateFormat.xlsx',\n",
       " 'DeleteDataInScopeTest.xlsx',\n",
       " 'DemoData.accdb',\n",
       " 'Entities Import.xlsx',\n",
       " 'Example Well 001.LAS',\n",
       " 'FY-2022 Post-JIB (NET).xlsx',\n",
       " 'Fake Hierarchy.xlsx',\n",
       " 'Histórico_Teste_Poço_Geral_10anos_rev1 (1).xlsx',\n",
       " 'OGD_DrillingSpacingUnits.dbf',\n",
       " 'OGD_DrillingSpacingUnits.shp',\n",
       " 'Oil.xlsx',\n",
       " 'PetroVisor Sample Data.xlsx',\n",
       " 'Pontian1',\n",
       " 'Pontian1.shp',\n",
       " 'PredictiveMaintenance.zip',\n",
       " 'Prod Small Set.xlsx',\n",
       " 'ProdMan Report 02.27.2023.xlsx',\n",
       " 'Prod_1000.xlsx',\n",
       " 'PythonDataFrame',\n",
       " 'PythonDataFrame.csv',\n",
       " 'PythonDataFrame.xlsx',\n",
       " 'Reserves_Master_Oneline.xlsx',\n",
       " 'Static Small Set.xlsx',\n",
       " 'String Cleansing Concat.xlsx',\n",
       " 'String Cleansing.xlsx',\n",
       " 'Synthetic Production Data.csv',\n",
       " 'Synthetic Static Data.xlsx',\n",
       " 'Tag Entries Import Test.xlsx',\n",
       " 'TagEntriesImportExample.xlsx',\n",
       " 'WDBC_QEPDEMO_Well_Header.txt',\n",
       " 'WFMP A SHALE - STRUCTURE.zmap',\n",
       " 'Weird Date Format.xlsx',\n",
       " 'Well Test.xlsx',\n",
       " 'WellMaster-Steward Master Well List (6).xlsx',\n",
       " 'Workflow Export.csv',\n",
       " 'analytic_params.npy',\n",
       " 'best_actor_model.onnx',\n",
       " 'data integration test.xlsx',\n",
       " 'first_file.csv',\n",
       " 'folder_name/text_file_inside_folder.txt',\n",
       " 'fu-86D-AL.csv',\n",
       " 'fu-86D-AL.xls',\n",
       " 'in_memory_json_file.txt',\n",
       " 'in_memory_text_file.txt',\n",
       " 'irap_grid_01.png',\n",
       " 'iris_binary_classification.onnx',\n",
       " 'iris_binary_classification_zipmap_false.onnx',\n",
       " 'json_file.txt',\n",
       " 'linear_regression_model.onnx',\n",
       " 'model_tf (1).onnx',\n",
       " 'model_tf (2).onnx',\n",
       " 'model_tf (3).onnx',\n",
       " 'model_tf.onnx',\n",
       " 'npssss.onnx',\n",
       " 'oip_map',\n",
       " 'oip_map.shp',\n",
       " 'oip_map_cps3',\n",
       " 'oip_map_irap',\n",
       " 'oip_map_zmap',\n",
       " 'python_file.json',\n",
       " 'python_object.json',\n",
       " 'pytorch_mlp.onnx',\n",
       " 'regression_4in_1out_tf2onnx_onnx_model (1).onnx',\n",
       " 'regression_4in_1out_tf2onnx_onnx_model.onnx',\n",
       " 'regression_4in_1out_tf2onnx_onnxmodel.onnx',\n",
       " 'regression_model (1).onnx',\n",
       " 'regression_model.onnx',\n",
       " 'requirements (1).txt',\n",
       " 'requirements.txt',\n",
       " 'requirementsfile.txt',\n",
       " 'requirementsfilenotorch (1).txt',\n",
       " 'requirementsfilenotorch.txt',\n",
       " 'saved_model.pb',\n",
       " 'second_file.csv',\n",
       " 'shapefile_map_example.dbf',\n",
       " 'shapefile_map_example.prj',\n",
       " 'shapefile_map_example.shp',\n",
       " 'shapefile_map_example.shx',\n",
       " 'sklearn_iris_model (1).onnx',\n",
       " 'sklearn_iris_model (2).onnx',\n",
       " 'sklearn_iris_model.onnx',\n",
       " 'tensorflow_iris_model.onnx',\n",
       " 'text_file.txt',\n",
       " 'tf_keras_mlp (1).onnx',\n",
       " 'torch_iris_model (2).onnx',\n",
       " 'torch_iris_model.onnx',\n",
       " 'zmap_example']"
      ]
     },
     "execution_count": 4,
     "metadata": {},
     "output_type": "execute_result"
    }
   ],
   "source": [
    "# get file names\n",
    "files = api.get_file_names()\n",
    "files"
   ]
  },
  {
   "cell_type": "markdown",
   "id": "142c8e96",
   "metadata": {},
   "source": [
    "## Examples: Uploading Files to Workspace"
   ]
  },
  {
   "cell_type": "markdown",
   "id": "82fbb20b",
   "metadata": {},
   "source": [
    "#### Upload text file"
   ]
  },
  {
   "cell_type": "code",
   "execution_count": 5,
   "id": "7e29b9ea",
   "metadata": {},
   "outputs": [],
   "source": [
    "text_filename = 'text_file.txt'"
   ]
  },
  {
   "cell_type": "code",
   "execution_count": 6,
   "id": "142e8feb",
   "metadata": {},
   "outputs": [],
   "source": [
    "# save file to disk\n",
    "with io.StringIO() as f:\n",
    "    f.write(\"line1: some text in line 1\\n\")\n",
    "    f.write(\"line2: some text in line 2\\n\")\n",
    "    f.write(\"line3: some text in line 3. \")\n",
    "    f.write(\"Still some text in line 3\")\n",
    "    f.name = text_filename\n",
    "    with open(text_filename, mode='w') as fout:\n",
    "        print(f.getvalue(), file=fout)"
   ]
  },
  {
   "cell_type": "code",
   "execution_count": 7,
   "id": "88be0eab",
   "metadata": {},
   "outputs": [
    {
     "data": {
      "text/plain": [
       "{'FileName': 'text_file.txt',\n",
       " 'FileSize': 108,\n",
       " 'LastModified': '2024-09-14T08:24:36+00:00'}"
      ]
     },
     "execution_count": 7,
     "metadata": {},
     "output_type": "execute_result"
    }
   ],
   "source": [
    "# upload file\n",
    "api.upload_file(text_filename)"
   ]
  },
  {
   "cell_type": "code",
   "execution_count": 8,
   "id": "d7d5c76b",
   "metadata": {},
   "outputs": [],
   "source": [
    "# get text file (directly loading text content)\n",
    "text_file = api.get_file(text_filename,format='text')"
   ]
  },
  {
   "cell_type": "code",
   "execution_count": 9,
   "id": "e7eefa6b",
   "metadata": {},
   "outputs": [
    {
     "name": "stdout",
     "output_type": "stream",
     "text": [
      "line1: some text in line 1\n",
      "line2: some text in line 2\n",
      "line3: some text in line 3. Still some text in line 3\n"
     ]
    }
   ],
   "source": [
    "# print text content\n",
    "with io.StringIO(text_file) as text_file:\n",
    "    lines = text_file.readlines()\n",
    "    for line in lines:\n",
    "        print(line,end='')"
   ]
  },
  {
   "cell_type": "markdown",
   "id": "85782b06-f28a-467b-9763-b432536f1121",
   "metadata": {},
   "source": [
    "#### Upload text file within specified directory"
   ]
  },
  {
   "cell_type": "code",
   "execution_count": 10,
   "id": "f1bb1e0f-8fcd-4f5d-a018-bb7c6222aa23",
   "metadata": {},
   "outputs": [],
   "source": [
    "text_filename = 'text_file_inside_folder.txt'"
   ]
  },
  {
   "cell_type": "code",
   "execution_count": 11,
   "id": "d41c17a4-5775-4c72-b814-af2c1df6b985",
   "metadata": {},
   "outputs": [],
   "source": [
    "# save file to disk\n",
    "with io.StringIO() as f:\n",
    "    f.write(\"line1: inside_folder: some text in line 1\\n\")\n",
    "    f.write(\"line2: inside_folder: some text in line 2\\n\")\n",
    "    f.write(\"line3: inside_folder: some text in line 3. \")\n",
    "    f.write(\"Still some text in line 3\")\n",
    "    #f.name = text_filename\n",
    "    with open(text_filename, mode='w') as fout:\n",
    "        print(f.getvalue(), file=fout)"
   ]
  },
  {
   "cell_type": "code",
   "execution_count": 12,
   "id": "15bc8505-4a85-40bf-a3d4-eea6021bd11a",
   "metadata": {},
   "outputs": [
    {
     "data": {
      "text/plain": [
       "{'FileName': 'text_file_inside_folder.txt',\n",
       " 'FileSize': 153,\n",
       " 'LastModified': '2024-09-14T08:24:37+00:00'}"
      ]
     },
     "execution_count": 12,
     "metadata": {},
     "output_type": "execute_result"
    }
   ],
   "source": [
    "# upload file\n",
    "from pathlib import PureWindowsPath\n",
    "text_filename_with_foldername = os.path.join('folder_name',text_filename)\n",
    "api.upload_file(text_filename, name=text_filename_with_foldername)"
   ]
  },
  {
   "cell_type": "code",
   "execution_count": 13,
   "id": "e509b1e8-d364-4cf8-853a-3b573aee549e",
   "metadata": {},
   "outputs": [
    {
     "data": {
      "text/plain": [
       "'folder_name/text_file_inside_folder.txt'"
      ]
     },
     "execution_count": 13,
     "metadata": {},
     "output_type": "execute_result"
    }
   ],
   "source": [
    "text_filename_with_foldername"
   ]
  },
  {
   "cell_type": "code",
   "execution_count": 14,
   "id": "3164bc73-d2a5-4521-a101-d2a014c1e5ee",
   "metadata": {},
   "outputs": [],
   "source": [
    "# get text file (directly loading text content)\n",
    "text_file_inside_folder = api.get_file(text_filename_with_foldername,format='text')"
   ]
  },
  {
   "cell_type": "code",
   "execution_count": 15,
   "id": "55ce948e-71a7-42f2-a98d-f1c68440bd09",
   "metadata": {},
   "outputs": [
    {
     "name": "stdout",
     "output_type": "stream",
     "text": [
      "line1: inside_folder: some text in line 1\n",
      "line2: inside_folder: some text in line 2\n",
      "line3: inside_folder: some text in line 3. Still some text in line 3\n"
     ]
    }
   ],
   "source": [
    "# print text content\n",
    "with io.StringIO(text_file_inside_folder) as text_file:\n",
    "    lines = text_file.readlines()\n",
    "    for line in lines:\n",
    "        print(line,end='')"
   ]
  },
  {
   "cell_type": "markdown",
   "id": "f5fcaa44",
   "metadata": {},
   "source": [
    "#### Upload json file"
   ]
  },
  {
   "cell_type": "code",
   "execution_count": 16,
   "id": "24ee1598",
   "metadata": {},
   "outputs": [],
   "source": [
    "# upload json file\n",
    "json_filename = 'json_file.txt'"
   ]
  },
  {
   "cell_type": "code",
   "execution_count": 17,
   "id": "a79a49a8",
   "metadata": {},
   "outputs": [],
   "source": [
    "# save file to disk\n",
    "with io.StringIO() as f:\n",
    "    d = {\n",
    "        'Name': 'some name',\n",
    "        'Int': 1,\n",
    "        'Dict': {'a': 1, 'b': [1,2,3], 'c': 'string'},\n",
    "        'List': [1,2,3,4,5]\n",
    "    }\n",
    "    f.write(json.dumps(d))\n",
    "    f.name = json_filename\n",
    "    with open(json_filename, mode='w') as fout:\n",
    "        print(f.getvalue(), file=fout)"
   ]
  },
  {
   "cell_type": "code",
   "execution_count": 18,
   "id": "a8003e5b",
   "metadata": {},
   "outputs": [
    {
     "data": {
      "text/plain": [
       "{'FileName': 'json_file.txt',\n",
       " 'FileSize': 106,\n",
       " 'LastModified': '2024-09-14T08:24:37+00:00'}"
      ]
     },
     "execution_count": 18,
     "metadata": {},
     "output_type": "execute_result"
    }
   ],
   "source": [
    "# upload file\n",
    "api.upload_file(json_filename)"
   ]
  },
  {
   "cell_type": "code",
   "execution_count": 19,
   "id": "8e35a425",
   "metadata": {},
   "outputs": [
    {
     "data": {
      "text/plain": [
       "{'Name': 'some name',\n",
       " 'Int': 1,\n",
       " 'Dict': {'a': 1, 'b': [1, 2, 3], 'c': 'string'},\n",
       " 'List': [1, 2, 3, 4, 5]}"
      ]
     },
     "execution_count": 19,
     "metadata": {},
     "output_type": "execute_result"
    }
   ],
   "source": [
    "# get json file (directly loading json content)\n",
    "json_file = api.get_file(json_filename,format='json')\n",
    "json_file"
   ]
  },
  {
   "cell_type": "markdown",
   "id": "4068d548-cd56-47c2-81db-4ee6c56b1e96",
   "metadata": {},
   "source": [
    "#### Upload folder"
   ]
  },
  {
   "cell_type": "code",
   "execution_count": 20,
   "id": "a71803ce-095f-4846-97b2-b7b974a6033d",
   "metadata": {},
   "outputs": [],
   "source": [
    "# create folder with files\n",
    "folder_name = 'tests'\n",
    "if not os.path.isdir(folder_name):\n",
    "    os.mkdir(folder_name)\n",
    "# save file to disk\n",
    "with io.StringIO() as f:\n",
    "    f.write(\"file1: line1: some text in line 1\\n\")\n",
    "    f.write(\"file1: line2: some text in line 2\\n\")\n",
    "    f.write(\"file1: line3: some text in line 3. \")\n",
    "    f.write(\"Still some text in line 3\")\n",
    "    f.name = 'file1.txt'\n",
    "    with open(os.path.join(folder_name,'file1.txt'), mode='w') as fout:\n",
    "        print(f.getvalue(), file=fout)\n",
    "# create deirectory inside main directory\n",
    "inner_folder_name = os.path.join(folder_name,'upload_folder_test')\n",
    "if not os.path.isdir(inner_folder_name):\n",
    "    os.mkdir(inner_folder_name)\n",
    "with io.StringIO() as f:\n",
    "    f.write(\"file2: line1: some text in line 1\\n\")\n",
    "    f.write(\"file2: line2: some text in line 2\\n\")\n",
    "    f.write(\"file2: line3: some text in line 3. \")\n",
    "    f.write(\"file2: Still some text in line 3\")\n",
    "    f.name = 'file2.txt'\n",
    "    with open(os.path.join(inner_folder_name,'file2.txt'), mode='w') as fout:\n",
    "        print(f.getvalue(), file=fout)"
   ]
  },
  {
   "cell_type": "code",
   "execution_count": 21,
   "id": "3e6e50ec-2fae-4d82-beb3-7d1b7663e92d",
   "metadata": {},
   "outputs": [],
   "source": [
    "# upload folder\n",
    "api.upload_folder(folder_name)"
   ]
  },
  {
   "cell_type": "code",
   "execution_count": 22,
   "id": "ada06da4-f748-4f92-b8e8-977533a6f60a",
   "metadata": {},
   "outputs": [],
   "source": [
    "# delete folder\n",
    "api.delete_folder(folder_name)"
   ]
  },
  {
   "cell_type": "code",
   "execution_count": 23,
   "id": "f89035c2-59e4-4f7d-ac42-4bb568a66b2b",
   "metadata": {},
   "outputs": [],
   "source": [
    "# upload folder under different name\n",
    "new_folder_name = os.path.join('tests','new_test_name')\n",
    "api.upload_folder(folder_name, name=new_folder_name)"
   ]
  },
  {
   "cell_type": "code",
   "execution_count": 24,
   "id": "0f588fb0-5dd1-4c06-a5e6-4431ac5462c0",
   "metadata": {},
   "outputs": [],
   "source": [
    "# delete folder\n",
    "api.delete_folder(new_folder_name)"
   ]
  },
  {
   "cell_type": "code",
   "execution_count": 25,
   "id": "04b4a330-c28a-44df-aeea-40fc75ce8d0f",
   "metadata": {
    "tags": []
   },
   "outputs": [
    {
     "data": {
      "text/plain": [
       "['18934 xlsm.xlsm',\n",
       " '18934 xlsx.xlsx',\n",
       " '19253 - header.csv',\n",
       " '19253.csv',\n",
       " 'Alias Mapping.xlsx',\n",
       " 'AustinISD_Time_Data_Hourly.xlsx',\n",
       " 'BRUGGE60K_FY-SF-KM-1-1.EGRID',\n",
       " 'BRUGGE60K_FY-SF-KM-1-1.GRDECL',\n",
       " 'Book1.xlsx',\n",
       " 'CVX Waterflood Pattern Allocations.xlsx',\n",
       " 'ConditionIdentificationMLModel.zip',\n",
       " 'ConditionIdentificationModel.zip',\n",
       " 'CumulativesTest.csv',\n",
       " 'Data Session Stats Old.xlsx',\n",
       " 'Data Session Stats.xlsx',\n",
       " 'Data.xlsx',\n",
       " 'DateFormat.xlsx',\n",
       " 'DeleteDataInScopeTest.xlsx',\n",
       " 'DemoData.accdb',\n",
       " 'Entities Import.xlsx',\n",
       " 'Example Well 001.LAS',\n",
       " 'FY-2022 Post-JIB (NET).xlsx',\n",
       " 'Fake Hierarchy.xlsx',\n",
       " 'Histórico_Teste_Poço_Geral_10anos_rev1 (1).xlsx',\n",
       " 'OGD_DrillingSpacingUnits.dbf',\n",
       " 'OGD_DrillingSpacingUnits.shp',\n",
       " 'Oil.xlsx',\n",
       " 'PetroVisor Sample Data.xlsx',\n",
       " 'Pontian1',\n",
       " 'Pontian1.shp',\n",
       " 'PredictiveMaintenance.zip',\n",
       " 'Prod Small Set.xlsx',\n",
       " 'ProdMan Report 02.27.2023.xlsx',\n",
       " 'Prod_1000.xlsx',\n",
       " 'PythonDataFrame',\n",
       " 'PythonDataFrame.csv',\n",
       " 'PythonDataFrame.xlsx',\n",
       " 'Reserves_Master_Oneline.xlsx',\n",
       " 'Static Small Set.xlsx',\n",
       " 'String Cleansing Concat.xlsx',\n",
       " 'String Cleansing.xlsx',\n",
       " 'Synthetic Production Data.csv',\n",
       " 'Synthetic Static Data.xlsx',\n",
       " 'Tag Entries Import Test.xlsx',\n",
       " 'TagEntriesImportExample.xlsx',\n",
       " 'WDBC_QEPDEMO_Well_Header.txt',\n",
       " 'WFMP A SHALE - STRUCTURE.zmap',\n",
       " 'Weird Date Format.xlsx',\n",
       " 'Well Test.xlsx',\n",
       " 'WellMaster-Steward Master Well List (6).xlsx',\n",
       " 'Workflow Export.csv',\n",
       " 'analytic_params.npy',\n",
       " 'best_actor_model.onnx',\n",
       " 'data integration test.xlsx',\n",
       " 'first_file.csv',\n",
       " 'folder_name/text_file_inside_folder.txt',\n",
       " 'fu-86D-AL.csv',\n",
       " 'fu-86D-AL.xls',\n",
       " 'in_memory_json_file.txt',\n",
       " 'in_memory_text_file.txt',\n",
       " 'irap_grid_01.png',\n",
       " 'iris_binary_classification.onnx',\n",
       " 'iris_binary_classification_zipmap_false.onnx',\n",
       " 'json_file.txt',\n",
       " 'linear_regression_model.onnx',\n",
       " 'model_tf (1).onnx',\n",
       " 'model_tf (2).onnx',\n",
       " 'model_tf (3).onnx',\n",
       " 'model_tf.onnx',\n",
       " 'npssss.onnx',\n",
       " 'oip_map',\n",
       " 'oip_map.shp',\n",
       " 'oip_map_cps3',\n",
       " 'oip_map_irap',\n",
       " 'oip_map_zmap',\n",
       " 'python_file.json',\n",
       " 'python_object.json',\n",
       " 'pytorch_mlp.onnx',\n",
       " 'regression_4in_1out_tf2onnx_onnx_model (1).onnx',\n",
       " 'regression_4in_1out_tf2onnx_onnx_model.onnx',\n",
       " 'regression_4in_1out_tf2onnx_onnxmodel.onnx',\n",
       " 'regression_model (1).onnx',\n",
       " 'regression_model.onnx',\n",
       " 'requirements (1).txt',\n",
       " 'requirements.txt',\n",
       " 'requirementsfile.txt',\n",
       " 'requirementsfilenotorch (1).txt',\n",
       " 'requirementsfilenotorch.txt',\n",
       " 'saved_model.pb',\n",
       " 'second_file.csv',\n",
       " 'shapefile_map_example.dbf',\n",
       " 'shapefile_map_example.prj',\n",
       " 'shapefile_map_example.shp',\n",
       " 'shapefile_map_example.shx',\n",
       " 'sklearn_iris_model (1).onnx',\n",
       " 'sklearn_iris_model (2).onnx',\n",
       " 'sklearn_iris_model.onnx',\n",
       " 'tensorflow_iris_model.onnx',\n",
       " 'text_file.txt',\n",
       " 'tf_keras_mlp (1).onnx',\n",
       " 'torch_iris_model (2).onnx',\n",
       " 'torch_iris_model.onnx',\n",
       " 'zmap_example']"
      ]
     },
     "execution_count": 25,
     "metadata": {},
     "output_type": "execute_result"
    }
   ],
   "source": [
    "files = api.get_file_names()\n",
    "files"
   ]
  },
  {
   "cell_type": "markdown",
   "id": "3518c219",
   "metadata": {},
   "source": [
    "## Examples: Upload Python in-memory objects to Workspace"
   ]
  },
  {
   "cell_type": "markdown",
   "id": "505a6959",
   "metadata": {},
   "source": [
    "#### Upload in-memory text file"
   ]
  },
  {
   "cell_type": "code",
   "execution_count": 26,
   "id": "9c939a2d",
   "metadata": {},
   "outputs": [],
   "source": [
    "in_memory_text_filename = 'in_memory_text_file.txt'"
   ]
  },
  {
   "cell_type": "code",
   "execution_count": 27,
   "id": "ffcea816",
   "metadata": {},
   "outputs": [],
   "source": [
    "# upload txt file (in-memory)\n",
    "s = ''\n",
    "s += \"line 1: some in-memory text file\\n\"\n",
    "s += \"line 2: some in-memory text file\\n\"\n",
    "with io.StringIO(s) as f:\n",
    "    f.name = in_memory_text_filename\n",
    "    api.upload_file(f)"
   ]
  },
  {
   "cell_type": "code",
   "execution_count": 28,
   "id": "21c218e7",
   "metadata": {},
   "outputs": [
    {
     "name": "stdout",
     "output_type": "stream",
     "text": [
      "line 1: some in-memory text file\n",
      "line 2: some in-memory text file\n"
     ]
    }
   ],
   "source": [
    "# get file-like object\n",
    "file = api.get_file(in_memory_text_filename)\n",
    "\n",
    "with io.BytesIO(file) as inmemory_file:\n",
    "    lines = inmemory_file.readlines()\n",
    "    for line in lines:\n",
    "        print(line.decode(\"utf-8\"), end='')"
   ]
  },
  {
   "cell_type": "code",
   "execution_count": 29,
   "id": "3180c8cc",
   "metadata": {},
   "outputs": [
    {
     "name": "stdout",
     "output_type": "stream",
     "text": [
      "line 1: some in-memory text file\n",
      "line 2: some in-memory text file\n"
     ]
    }
   ],
   "source": [
    "# get text file (directly loading text content)\n",
    "text_file = api.get_file(in_memory_text_filename,format='text')\n",
    "\n",
    "with io.StringIO(text_file) as text_file:\n",
    "    lines = text_file.readlines()\n",
    "    for line in lines:\n",
    "        print(line,end='')"
   ]
  },
  {
   "cell_type": "markdown",
   "id": "6793810e",
   "metadata": {},
   "source": [
    "#### Upload in-memory json file"
   ]
  },
  {
   "cell_type": "code",
   "execution_count": 30,
   "id": "eb001aaf",
   "metadata": {},
   "outputs": [],
   "source": [
    "in_memory_json_filename = 'in_memory_json_file.txt'"
   ]
  },
  {
   "cell_type": "code",
   "execution_count": 31,
   "id": "95a93171",
   "metadata": {},
   "outputs": [],
   "source": [
    "d = {\n",
    "    'a': 1,\n",
    "    'b': 'foo',\n",
    "    'c': [1,2,3],\n",
    "    'd': {\n",
    "        'x': ['a','b','c',],\n",
    "        'y': [1,2,3],\n",
    "         }\n",
    "}"
   ]
  },
  {
   "cell_type": "code",
   "execution_count": 32,
   "id": "c7d9751a",
   "metadata": {},
   "outputs": [
    {
     "data": {
      "text/plain": [
       "{'FileName': 'in_memory_json_file.txt',\n",
       " 'FileSize': 81,\n",
       " 'LastModified': '2024-09-14T08:24:41+00:00'}"
      ]
     },
     "execution_count": 32,
     "metadata": {},
     "output_type": "execute_result"
    }
   ],
   "source": [
    "api.upload_object(d,in_memory_json_filename, binary=False)"
   ]
  },
  {
   "cell_type": "code",
   "execution_count": 33,
   "id": "583b446b",
   "metadata": {},
   "outputs": [
    {
     "data": {
      "text/plain": [
       "{'a': 1,\n",
       " 'b': 'foo',\n",
       " 'c': [1, 2, 3],\n",
       " 'd': {'x': ['a', 'b', 'c'], 'y': [1, 2, 3]}}"
      ]
     },
     "execution_count": 33,
     "metadata": {},
     "output_type": "execute_result"
    }
   ],
   "source": [
    "# get json file (directly loading json content)\n",
    "json_file = api.get_file(in_memory_json_filename,format='json')\n",
    "json_file"
   ]
  },
  {
   "cell_type": "code",
   "execution_count": 34,
   "id": "ce8c0c4c-839c-4a04-9800-38db421857f8",
   "metadata": {},
   "outputs": [
    {
     "data": {
      "text/plain": [
       "{'a': 1,\n",
       " 'b': 'foo',\n",
       " 'c': [1, 2, 3],\n",
       " 'd': {'x': ['a', 'b', 'c'], 'y': [1, 2, 3]}}"
      ]
     },
     "execution_count": 34,
     "metadata": {},
     "output_type": "execute_result"
    }
   ],
   "source": [
    "# get json file (directly loading json content)\n",
    "json_file = api.get_object(in_memory_json_filename, binary=False)\n",
    "json_file"
   ]
  },
  {
   "cell_type": "markdown",
   "id": "f5e4ad11",
   "metadata": {},
   "source": [
    "#### Upload DataFrame"
   ]
  },
  {
   "cell_type": "code",
   "execution_count": 35,
   "id": "fd38646e",
   "metadata": {},
   "outputs": [],
   "source": [
    "dataframe_object_name = 'PythonDataFrame'"
   ]
  },
  {
   "cell_type": "code",
   "execution_count": 36,
   "id": "7e323568",
   "metadata": {},
   "outputs": [
    {
     "data": {
      "text/html": [
       "<div>\n",
       "<style scoped>\n",
       "    .dataframe tbody tr th:only-of-type {\n",
       "        vertical-align: middle;\n",
       "    }\n",
       "\n",
       "    .dataframe tbody tr th {\n",
       "        vertical-align: top;\n",
       "    }\n",
       "\n",
       "    .dataframe thead th {\n",
       "        text-align: right;\n",
       "    }\n",
       "</style>\n",
       "<table border=\"1\" class=\"dataframe\">\n",
       "  <thead>\n",
       "    <tr style=\"text-align: right;\">\n",
       "      <th></th>\n",
       "      <th>A</th>\n",
       "      <th>B</th>\n",
       "      <th>C</th>\n",
       "      <th>D</th>\n",
       "      <th>E</th>\n",
       "      <th>F</th>\n",
       "    </tr>\n",
       "  </thead>\n",
       "  <tbody>\n",
       "    <tr>\n",
       "      <th>count</th>\n",
       "      <td>1000.000000</td>\n",
       "      <td>1000.000000</td>\n",
       "      <td>1000.000000</td>\n",
       "      <td>1000.000000</td>\n",
       "      <td>1000.000000</td>\n",
       "      <td>1000.000000</td>\n",
       "    </tr>\n",
       "    <tr>\n",
       "      <th>mean</th>\n",
       "      <td>0.512172</td>\n",
       "      <td>0.499184</td>\n",
       "      <td>0.496016</td>\n",
       "      <td>0.502858</td>\n",
       "      <td>0.496484</td>\n",
       "      <td>0.517760</td>\n",
       "    </tr>\n",
       "    <tr>\n",
       "      <th>std</th>\n",
       "      <td>0.293573</td>\n",
       "      <td>0.277218</td>\n",
       "      <td>0.287446</td>\n",
       "      <td>0.293018</td>\n",
       "      <td>0.283005</td>\n",
       "      <td>0.280917</td>\n",
       "    </tr>\n",
       "    <tr>\n",
       "      <th>min</th>\n",
       "      <td>0.000341</td>\n",
       "      <td>0.000227</td>\n",
       "      <td>0.002117</td>\n",
       "      <td>0.000185</td>\n",
       "      <td>0.000212</td>\n",
       "      <td>0.000741</td>\n",
       "    </tr>\n",
       "    <tr>\n",
       "      <th>25%</th>\n",
       "      <td>0.262993</td>\n",
       "      <td>0.268395</td>\n",
       "      <td>0.244554</td>\n",
       "      <td>0.240054</td>\n",
       "      <td>0.248327</td>\n",
       "      <td>0.294368</td>\n",
       "    </tr>\n",
       "    <tr>\n",
       "      <th>50%</th>\n",
       "      <td>0.533376</td>\n",
       "      <td>0.499320</td>\n",
       "      <td>0.490525</td>\n",
       "      <td>0.494644</td>\n",
       "      <td>0.493294</td>\n",
       "      <td>0.514371</td>\n",
       "    </tr>\n",
       "    <tr>\n",
       "      <th>75%</th>\n",
       "      <td>0.772015</td>\n",
       "      <td>0.722625</td>\n",
       "      <td>0.741738</td>\n",
       "      <td>0.764896</td>\n",
       "      <td>0.740318</td>\n",
       "      <td>0.752120</td>\n",
       "    </tr>\n",
       "    <tr>\n",
       "      <th>max</th>\n",
       "      <td>0.999882</td>\n",
       "      <td>0.998550</td>\n",
       "      <td>0.999944</td>\n",
       "      <td>0.999737</td>\n",
       "      <td>0.994961</td>\n",
       "      <td>0.996570</td>\n",
       "    </tr>\n",
       "  </tbody>\n",
       "</table>\n",
       "</div>"
      ],
      "text/plain": [
       "                 A            B            C            D            E  \\\n",
       "count  1000.000000  1000.000000  1000.000000  1000.000000  1000.000000   \n",
       "mean      0.512172     0.499184     0.496016     0.502858     0.496484   \n",
       "std       0.293573     0.277218     0.287446     0.293018     0.283005   \n",
       "min       0.000341     0.000227     0.002117     0.000185     0.000212   \n",
       "25%       0.262993     0.268395     0.244554     0.240054     0.248327   \n",
       "50%       0.533376     0.499320     0.490525     0.494644     0.493294   \n",
       "75%       0.772015     0.722625     0.741738     0.764896     0.740318   \n",
       "max       0.999882     0.998550     0.999944     0.999737     0.994961   \n",
       "\n",
       "                 F  \n",
       "count  1000.000000  \n",
       "mean      0.517760  \n",
       "std       0.280917  \n",
       "min       0.000741  \n",
       "25%       0.294368  \n",
       "50%       0.514371  \n",
       "75%       0.752120  \n",
       "max       0.996570  "
      ]
     },
     "execution_count": 36,
     "metadata": {},
     "output_type": "execute_result"
    }
   ],
   "source": [
    "df = pd.DataFrame(np.random.uniform(0,1,size=(int(1e3), 6)),\n",
    "                  columns=list('ABCDEF'))\n",
    "df.describe()"
   ]
  },
  {
   "cell_type": "code",
   "execution_count": 37,
   "id": "828da513",
   "metadata": {},
   "outputs": [
    {
     "data": {
      "text/plain": [
       "{'FileName': 'PythonDataFrame',\n",
       " 'FileSize': 45908,\n",
       " 'LastModified': '2024-09-14T08:24:42+00:00'}"
      ]
     },
     "execution_count": 37,
     "metadata": {},
     "output_type": "execute_result"
    }
   ],
   "source": [
    "# upload object with specified name\n",
    "api.upload_object(df,dataframe_object_name)"
   ]
  },
  {
   "cell_type": "code",
   "execution_count": 38,
   "id": "676fbf50",
   "metadata": {},
   "outputs": [
    {
     "data": {
      "text/html": [
       "<div>\n",
       "<style scoped>\n",
       "    .dataframe tbody tr th:only-of-type {\n",
       "        vertical-align: middle;\n",
       "    }\n",
       "\n",
       "    .dataframe tbody tr th {\n",
       "        vertical-align: top;\n",
       "    }\n",
       "\n",
       "    .dataframe thead th {\n",
       "        text-align: right;\n",
       "    }\n",
       "</style>\n",
       "<table border=\"1\" class=\"dataframe\">\n",
       "  <thead>\n",
       "    <tr style=\"text-align: right;\">\n",
       "      <th></th>\n",
       "      <th>A</th>\n",
       "      <th>B</th>\n",
       "      <th>C</th>\n",
       "      <th>D</th>\n",
       "      <th>E</th>\n",
       "      <th>F</th>\n",
       "    </tr>\n",
       "  </thead>\n",
       "  <tbody>\n",
       "    <tr>\n",
       "      <th>count</th>\n",
       "      <td>1000.000000</td>\n",
       "      <td>1000.000000</td>\n",
       "      <td>1000.000000</td>\n",
       "      <td>1000.000000</td>\n",
       "      <td>1000.000000</td>\n",
       "      <td>1000.000000</td>\n",
       "    </tr>\n",
       "    <tr>\n",
       "      <th>mean</th>\n",
       "      <td>0.512172</td>\n",
       "      <td>0.499184</td>\n",
       "      <td>0.496016</td>\n",
       "      <td>0.502858</td>\n",
       "      <td>0.496484</td>\n",
       "      <td>0.517760</td>\n",
       "    </tr>\n",
       "    <tr>\n",
       "      <th>std</th>\n",
       "      <td>0.293573</td>\n",
       "      <td>0.277218</td>\n",
       "      <td>0.287446</td>\n",
       "      <td>0.293018</td>\n",
       "      <td>0.283005</td>\n",
       "      <td>0.280917</td>\n",
       "    </tr>\n",
       "    <tr>\n",
       "      <th>min</th>\n",
       "      <td>0.000341</td>\n",
       "      <td>0.000227</td>\n",
       "      <td>0.002117</td>\n",
       "      <td>0.000185</td>\n",
       "      <td>0.000212</td>\n",
       "      <td>0.000741</td>\n",
       "    </tr>\n",
       "    <tr>\n",
       "      <th>25%</th>\n",
       "      <td>0.262993</td>\n",
       "      <td>0.268395</td>\n",
       "      <td>0.244554</td>\n",
       "      <td>0.240054</td>\n",
       "      <td>0.248327</td>\n",
       "      <td>0.294368</td>\n",
       "    </tr>\n",
       "    <tr>\n",
       "      <th>50%</th>\n",
       "      <td>0.533376</td>\n",
       "      <td>0.499320</td>\n",
       "      <td>0.490525</td>\n",
       "      <td>0.494644</td>\n",
       "      <td>0.493294</td>\n",
       "      <td>0.514371</td>\n",
       "    </tr>\n",
       "    <tr>\n",
       "      <th>75%</th>\n",
       "      <td>0.772015</td>\n",
       "      <td>0.722625</td>\n",
       "      <td>0.741738</td>\n",
       "      <td>0.764896</td>\n",
       "      <td>0.740318</td>\n",
       "      <td>0.752120</td>\n",
       "    </tr>\n",
       "    <tr>\n",
       "      <th>max</th>\n",
       "      <td>0.999882</td>\n",
       "      <td>0.998550</td>\n",
       "      <td>0.999944</td>\n",
       "      <td>0.999737</td>\n",
       "      <td>0.994961</td>\n",
       "      <td>0.996570</td>\n",
       "    </tr>\n",
       "  </tbody>\n",
       "</table>\n",
       "</div>"
      ],
      "text/plain": [
       "                 A            B            C            D            E  \\\n",
       "count  1000.000000  1000.000000  1000.000000  1000.000000  1000.000000   \n",
       "mean      0.512172     0.499184     0.496016     0.502858     0.496484   \n",
       "std       0.293573     0.277218     0.287446     0.293018     0.283005   \n",
       "min       0.000341     0.000227     0.002117     0.000185     0.000212   \n",
       "25%       0.262993     0.268395     0.244554     0.240054     0.248327   \n",
       "50%       0.533376     0.499320     0.490525     0.494644     0.493294   \n",
       "75%       0.772015     0.722625     0.741738     0.764896     0.740318   \n",
       "max       0.999882     0.998550     0.999944     0.999737     0.994961   \n",
       "\n",
       "                 F  \n",
       "count  1000.000000  \n",
       "mean      0.517760  \n",
       "std       0.280917  \n",
       "min       0.000741  \n",
       "25%       0.294368  \n",
       "50%       0.514371  \n",
       "75%       0.752120  \n",
       "max       0.996570  "
      ]
     },
     "execution_count": 38,
     "metadata": {},
     "output_type": "execute_result"
    }
   ],
   "source": [
    "# load specified object by name\n",
    "df_loaded = api.get_object(dataframe_object_name)\n",
    "df_loaded.describe()"
   ]
  },
  {
   "cell_type": "markdown",
   "id": "72842920-d2f6-410b-b5c4-e54bc33754dd",
   "metadata": {},
   "source": [
    "#### Upload Excel"
   ]
  },
  {
   "cell_type": "code",
   "execution_count": 39,
   "id": "3a3fd49a-bf2a-4ecc-833a-27ba6d03c06b",
   "metadata": {},
   "outputs": [],
   "source": [
    "dataframe_file_name = 'PythonDataFrame.xlsx'"
   ]
  },
  {
   "cell_type": "code",
   "execution_count": 40,
   "id": "484ad45b-2b07-4ce8-bf30-1c4bbf60ce79",
   "metadata": {},
   "outputs": [
    {
     "data": {
      "text/html": [
       "<div>\n",
       "<style scoped>\n",
       "    .dataframe tbody tr th:only-of-type {\n",
       "        vertical-align: middle;\n",
       "    }\n",
       "\n",
       "    .dataframe tbody tr th {\n",
       "        vertical-align: top;\n",
       "    }\n",
       "\n",
       "    .dataframe thead th {\n",
       "        text-align: right;\n",
       "    }\n",
       "</style>\n",
       "<table border=\"1\" class=\"dataframe\">\n",
       "  <thead>\n",
       "    <tr style=\"text-align: right;\">\n",
       "      <th></th>\n",
       "      <th>A</th>\n",
       "      <th>B</th>\n",
       "      <th>C</th>\n",
       "      <th>D</th>\n",
       "      <th>E</th>\n",
       "      <th>F</th>\n",
       "    </tr>\n",
       "  </thead>\n",
       "  <tbody>\n",
       "    <tr>\n",
       "      <th>count</th>\n",
       "      <td>1000.000000</td>\n",
       "      <td>1000.000000</td>\n",
       "      <td>1000.000000</td>\n",
       "      <td>1000.000000</td>\n",
       "      <td>1000.000000</td>\n",
       "      <td>1000.000000</td>\n",
       "    </tr>\n",
       "    <tr>\n",
       "      <th>mean</th>\n",
       "      <td>0.484961</td>\n",
       "      <td>0.496264</td>\n",
       "      <td>0.497050</td>\n",
       "      <td>0.515552</td>\n",
       "      <td>0.481781</td>\n",
       "      <td>0.512973</td>\n",
       "    </tr>\n",
       "    <tr>\n",
       "      <th>std</th>\n",
       "      <td>0.291601</td>\n",
       "      <td>0.278930</td>\n",
       "      <td>0.288481</td>\n",
       "      <td>0.291021</td>\n",
       "      <td>0.285206</td>\n",
       "      <td>0.289938</td>\n",
       "    </tr>\n",
       "    <tr>\n",
       "      <th>min</th>\n",
       "      <td>0.000192</td>\n",
       "      <td>0.001169</td>\n",
       "      <td>0.000231</td>\n",
       "      <td>0.000552</td>\n",
       "      <td>0.000192</td>\n",
       "      <td>0.000312</td>\n",
       "    </tr>\n",
       "    <tr>\n",
       "      <th>25%</th>\n",
       "      <td>0.219493</td>\n",
       "      <td>0.261146</td>\n",
       "      <td>0.256118</td>\n",
       "      <td>0.259521</td>\n",
       "      <td>0.229561</td>\n",
       "      <td>0.261098</td>\n",
       "    </tr>\n",
       "    <tr>\n",
       "      <th>50%</th>\n",
       "      <td>0.484880</td>\n",
       "      <td>0.490613</td>\n",
       "      <td>0.490742</td>\n",
       "      <td>0.533099</td>\n",
       "      <td>0.471350</td>\n",
       "      <td>0.531393</td>\n",
       "    </tr>\n",
       "    <tr>\n",
       "      <th>75%</th>\n",
       "      <td>0.741547</td>\n",
       "      <td>0.734621</td>\n",
       "      <td>0.748029</td>\n",
       "      <td>0.766608</td>\n",
       "      <td>0.722307</td>\n",
       "      <td>0.764047</td>\n",
       "    </tr>\n",
       "    <tr>\n",
       "      <th>max</th>\n",
       "      <td>0.999975</td>\n",
       "      <td>0.996931</td>\n",
       "      <td>0.997797</td>\n",
       "      <td>0.999450</td>\n",
       "      <td>0.999285</td>\n",
       "      <td>0.998011</td>\n",
       "    </tr>\n",
       "  </tbody>\n",
       "</table>\n",
       "</div>"
      ],
      "text/plain": [
       "                 A            B            C            D            E  \\\n",
       "count  1000.000000  1000.000000  1000.000000  1000.000000  1000.000000   \n",
       "mean      0.484961     0.496264     0.497050     0.515552     0.481781   \n",
       "std       0.291601     0.278930     0.288481     0.291021     0.285206   \n",
       "min       0.000192     0.001169     0.000231     0.000552     0.000192   \n",
       "25%       0.219493     0.261146     0.256118     0.259521     0.229561   \n",
       "50%       0.484880     0.490613     0.490742     0.533099     0.471350   \n",
       "75%       0.741547     0.734621     0.748029     0.766608     0.722307   \n",
       "max       0.999975     0.996931     0.997797     0.999450     0.999285   \n",
       "\n",
       "                 F  \n",
       "count  1000.000000  \n",
       "mean      0.512973  \n",
       "std       0.289938  \n",
       "min       0.000312  \n",
       "25%       0.261098  \n",
       "50%       0.531393  \n",
       "75%       0.764047  \n",
       "max       0.998011  "
      ]
     },
     "execution_count": 40,
     "metadata": {},
     "output_type": "execute_result"
    }
   ],
   "source": [
    "df = pd.DataFrame(np.random.uniform(0,1,size=(int(1e3), 6)),\n",
    "                  columns=list('ABCDEF'))\n",
    "df.describe()"
   ]
  },
  {
   "cell_type": "code",
   "execution_count": 41,
   "id": "f7bf8f0b-7bec-4872-826a-32e482771bbd",
   "metadata": {},
   "outputs": [
    {
     "data": {
      "text/plain": [
       "{'FileName': 'PythonDataFrame.xlsx',\n",
       " 'FileSize': 83441,\n",
       " 'LastModified': '2024-09-14T08:24:43+00:00'}"
      ]
     },
     "execution_count": 41,
     "metadata": {},
     "output_type": "execute_result"
    }
   ],
   "source": [
    "# upload DataFrame to excel file\n",
    "api.upload_object(df,dataframe_file_name)"
   ]
  },
  {
   "cell_type": "code",
   "execution_count": 42,
   "id": "82bdc30b-fb2c-45a4-ac8d-ded705c65ddb",
   "metadata": {},
   "outputs": [
    {
     "data": {
      "text/html": [
       "<div>\n",
       "<style scoped>\n",
       "    .dataframe tbody tr th:only-of-type {\n",
       "        vertical-align: middle;\n",
       "    }\n",
       "\n",
       "    .dataframe tbody tr th {\n",
       "        vertical-align: top;\n",
       "    }\n",
       "\n",
       "    .dataframe thead th {\n",
       "        text-align: right;\n",
       "    }\n",
       "</style>\n",
       "<table border=\"1\" class=\"dataframe\">\n",
       "  <thead>\n",
       "    <tr style=\"text-align: right;\">\n",
       "      <th></th>\n",
       "      <th>A</th>\n",
       "      <th>B</th>\n",
       "      <th>C</th>\n",
       "      <th>D</th>\n",
       "      <th>E</th>\n",
       "      <th>F</th>\n",
       "    </tr>\n",
       "  </thead>\n",
       "  <tbody>\n",
       "    <tr>\n",
       "      <th>count</th>\n",
       "      <td>1000.000000</td>\n",
       "      <td>1000.000000</td>\n",
       "      <td>1000.000000</td>\n",
       "      <td>1000.000000</td>\n",
       "      <td>1000.000000</td>\n",
       "      <td>1000.000000</td>\n",
       "    </tr>\n",
       "    <tr>\n",
       "      <th>mean</th>\n",
       "      <td>0.484961</td>\n",
       "      <td>0.496264</td>\n",
       "      <td>0.497050</td>\n",
       "      <td>0.515552</td>\n",
       "      <td>0.481781</td>\n",
       "      <td>0.512973</td>\n",
       "    </tr>\n",
       "    <tr>\n",
       "      <th>std</th>\n",
       "      <td>0.291601</td>\n",
       "      <td>0.278930</td>\n",
       "      <td>0.288481</td>\n",
       "      <td>0.291021</td>\n",
       "      <td>0.285206</td>\n",
       "      <td>0.289938</td>\n",
       "    </tr>\n",
       "    <tr>\n",
       "      <th>min</th>\n",
       "      <td>0.000192</td>\n",
       "      <td>0.001169</td>\n",
       "      <td>0.000231</td>\n",
       "      <td>0.000552</td>\n",
       "      <td>0.000192</td>\n",
       "      <td>0.000312</td>\n",
       "    </tr>\n",
       "    <tr>\n",
       "      <th>25%</th>\n",
       "      <td>0.219493</td>\n",
       "      <td>0.261146</td>\n",
       "      <td>0.256118</td>\n",
       "      <td>0.259521</td>\n",
       "      <td>0.229561</td>\n",
       "      <td>0.261098</td>\n",
       "    </tr>\n",
       "    <tr>\n",
       "      <th>50%</th>\n",
       "      <td>0.484880</td>\n",
       "      <td>0.490613</td>\n",
       "      <td>0.490742</td>\n",
       "      <td>0.533099</td>\n",
       "      <td>0.471350</td>\n",
       "      <td>0.531393</td>\n",
       "    </tr>\n",
       "    <tr>\n",
       "      <th>75%</th>\n",
       "      <td>0.741547</td>\n",
       "      <td>0.734621</td>\n",
       "      <td>0.748029</td>\n",
       "      <td>0.766608</td>\n",
       "      <td>0.722307</td>\n",
       "      <td>0.764047</td>\n",
       "    </tr>\n",
       "    <tr>\n",
       "      <th>max</th>\n",
       "      <td>0.999975</td>\n",
       "      <td>0.996931</td>\n",
       "      <td>0.997797</td>\n",
       "      <td>0.999450</td>\n",
       "      <td>0.999285</td>\n",
       "      <td>0.998011</td>\n",
       "    </tr>\n",
       "  </tbody>\n",
       "</table>\n",
       "</div>"
      ],
      "text/plain": [
       "                 A            B            C            D            E  \\\n",
       "count  1000.000000  1000.000000  1000.000000  1000.000000  1000.000000   \n",
       "mean      0.484961     0.496264     0.497050     0.515552     0.481781   \n",
       "std       0.291601     0.278930     0.288481     0.291021     0.285206   \n",
       "min       0.000192     0.001169     0.000231     0.000552     0.000192   \n",
       "25%       0.219493     0.261146     0.256118     0.259521     0.229561   \n",
       "50%       0.484880     0.490613     0.490742     0.533099     0.471350   \n",
       "75%       0.741547     0.734621     0.748029     0.766608     0.722307   \n",
       "max       0.999975     0.996931     0.997797     0.999450     0.999285   \n",
       "\n",
       "                 F  \n",
       "count  1000.000000  \n",
       "mean      0.512973  \n",
       "std       0.289938  \n",
       "min       0.000312  \n",
       "25%       0.261098  \n",
       "50%       0.531393  \n",
       "75%       0.764047  \n",
       "max       0.998011  "
      ]
     },
     "execution_count": 42,
     "metadata": {},
     "output_type": "execute_result"
    }
   ],
   "source": [
    "# load DataFrame from excel file\n",
    "df_loaded = api.get_object(dataframe_file_name)\n",
    "df_loaded.describe()"
   ]
  },
  {
   "cell_type": "markdown",
   "id": "d55f1e3f-fb74-469b-ba03-2ce0f60400c3",
   "metadata": {},
   "source": [
    "#### Upload CSV"
   ]
  },
  {
   "cell_type": "code",
   "execution_count": 43,
   "id": "ad8a6be7-8e54-4d19-b62a-01f5980d0c26",
   "metadata": {},
   "outputs": [],
   "source": [
    "dataframe_file_name = 'PythonDataFrame.csv'"
   ]
  },
  {
   "cell_type": "code",
   "execution_count": 44,
   "id": "3ab40cbf-ea1b-44f2-b468-1511c278ef9f",
   "metadata": {},
   "outputs": [
    {
     "data": {
      "text/html": [
       "<div>\n",
       "<style scoped>\n",
       "    .dataframe tbody tr th:only-of-type {\n",
       "        vertical-align: middle;\n",
       "    }\n",
       "\n",
       "    .dataframe tbody tr th {\n",
       "        vertical-align: top;\n",
       "    }\n",
       "\n",
       "    .dataframe thead th {\n",
       "        text-align: right;\n",
       "    }\n",
       "</style>\n",
       "<table border=\"1\" class=\"dataframe\">\n",
       "  <thead>\n",
       "    <tr style=\"text-align: right;\">\n",
       "      <th></th>\n",
       "      <th>A</th>\n",
       "      <th>B</th>\n",
       "      <th>C</th>\n",
       "      <th>D</th>\n",
       "      <th>E</th>\n",
       "      <th>F</th>\n",
       "    </tr>\n",
       "  </thead>\n",
       "  <tbody>\n",
       "    <tr>\n",
       "      <th>count</th>\n",
       "      <td>1000.000000</td>\n",
       "      <td>1000.000000</td>\n",
       "      <td>1000.000000</td>\n",
       "      <td>1000.000000</td>\n",
       "      <td>1000.000000</td>\n",
       "      <td>1000.000000</td>\n",
       "    </tr>\n",
       "    <tr>\n",
       "      <th>mean</th>\n",
       "      <td>0.494799</td>\n",
       "      <td>0.494135</td>\n",
       "      <td>0.506543</td>\n",
       "      <td>0.519769</td>\n",
       "      <td>0.492335</td>\n",
       "      <td>0.488433</td>\n",
       "    </tr>\n",
       "    <tr>\n",
       "      <th>std</th>\n",
       "      <td>0.283438</td>\n",
       "      <td>0.281720</td>\n",
       "      <td>0.289256</td>\n",
       "      <td>0.286991</td>\n",
       "      <td>0.294640</td>\n",
       "      <td>0.281300</td>\n",
       "    </tr>\n",
       "    <tr>\n",
       "      <th>min</th>\n",
       "      <td>0.000357</td>\n",
       "      <td>0.000061</td>\n",
       "      <td>0.000491</td>\n",
       "      <td>0.002560</td>\n",
       "      <td>0.001024</td>\n",
       "      <td>0.001146</td>\n",
       "    </tr>\n",
       "    <tr>\n",
       "      <th>25%</th>\n",
       "      <td>0.255175</td>\n",
       "      <td>0.257041</td>\n",
       "      <td>0.267001</td>\n",
       "      <td>0.264351</td>\n",
       "      <td>0.238453</td>\n",
       "      <td>0.238830</td>\n",
       "    </tr>\n",
       "    <tr>\n",
       "      <th>50%</th>\n",
       "      <td>0.486717</td>\n",
       "      <td>0.492988</td>\n",
       "      <td>0.506096</td>\n",
       "      <td>0.535905</td>\n",
       "      <td>0.500948</td>\n",
       "      <td>0.488307</td>\n",
       "    </tr>\n",
       "    <tr>\n",
       "      <th>75%</th>\n",
       "      <td>0.742316</td>\n",
       "      <td>0.728733</td>\n",
       "      <td>0.753189</td>\n",
       "      <td>0.770897</td>\n",
       "      <td>0.750457</td>\n",
       "      <td>0.737440</td>\n",
       "    </tr>\n",
       "    <tr>\n",
       "      <th>max</th>\n",
       "      <td>0.998229</td>\n",
       "      <td>0.999698</td>\n",
       "      <td>0.999560</td>\n",
       "      <td>0.999635</td>\n",
       "      <td>0.999374</td>\n",
       "      <td>0.997818</td>\n",
       "    </tr>\n",
       "  </tbody>\n",
       "</table>\n",
       "</div>"
      ],
      "text/plain": [
       "                 A            B            C            D            E  \\\n",
       "count  1000.000000  1000.000000  1000.000000  1000.000000  1000.000000   \n",
       "mean      0.494799     0.494135     0.506543     0.519769     0.492335   \n",
       "std       0.283438     0.281720     0.289256     0.286991     0.294640   \n",
       "min       0.000357     0.000061     0.000491     0.002560     0.001024   \n",
       "25%       0.255175     0.257041     0.267001     0.264351     0.238453   \n",
       "50%       0.486717     0.492988     0.506096     0.535905     0.500948   \n",
       "75%       0.742316     0.728733     0.753189     0.770897     0.750457   \n",
       "max       0.998229     0.999698     0.999560     0.999635     0.999374   \n",
       "\n",
       "                 F  \n",
       "count  1000.000000  \n",
       "mean      0.488433  \n",
       "std       0.281300  \n",
       "min       0.001146  \n",
       "25%       0.238830  \n",
       "50%       0.488307  \n",
       "75%       0.737440  \n",
       "max       0.997818  "
      ]
     },
     "execution_count": 44,
     "metadata": {},
     "output_type": "execute_result"
    }
   ],
   "source": [
    "df = pd.DataFrame(np.random.uniform(0,1,size=(int(1e3), 6)),\n",
    "                  columns=list('ABCDEF'))\n",
    "df.describe()"
   ]
  },
  {
   "cell_type": "code",
   "execution_count": 45,
   "id": "46bb2cbe-26c3-4fb3-a730-6e3351f90809",
   "metadata": {},
   "outputs": [
    {
     "data": {
      "text/plain": [
       "{'FileName': 'PythonDataFrame.csv',\n",
       " 'FileSize': 115568,\n",
       " 'LastModified': '2024-09-14T08:24:43+00:00'}"
      ]
     },
     "execution_count": 45,
     "metadata": {},
     "output_type": "execute_result"
    }
   ],
   "source": [
    "# upload DataFrame to csv file\n",
    "api.upload_object(df,dataframe_file_name)"
   ]
  },
  {
   "cell_type": "code",
   "execution_count": 46,
   "id": "81e94131-ebf2-4489-8237-e878667655c0",
   "metadata": {},
   "outputs": [
    {
     "data": {
      "text/html": [
       "<div>\n",
       "<style scoped>\n",
       "    .dataframe tbody tr th:only-of-type {\n",
       "        vertical-align: middle;\n",
       "    }\n",
       "\n",
       "    .dataframe tbody tr th {\n",
       "        vertical-align: top;\n",
       "    }\n",
       "\n",
       "    .dataframe thead th {\n",
       "        text-align: right;\n",
       "    }\n",
       "</style>\n",
       "<table border=\"1\" class=\"dataframe\">\n",
       "  <thead>\n",
       "    <tr style=\"text-align: right;\">\n",
       "      <th></th>\n",
       "      <th>A</th>\n",
       "      <th>B</th>\n",
       "      <th>C</th>\n",
       "      <th>D</th>\n",
       "      <th>E</th>\n",
       "      <th>F</th>\n",
       "    </tr>\n",
       "  </thead>\n",
       "  <tbody>\n",
       "    <tr>\n",
       "      <th>count</th>\n",
       "      <td>1000.000000</td>\n",
       "      <td>1000.000000</td>\n",
       "      <td>1000.000000</td>\n",
       "      <td>1000.000000</td>\n",
       "      <td>1000.000000</td>\n",
       "      <td>1000.000000</td>\n",
       "    </tr>\n",
       "    <tr>\n",
       "      <th>mean</th>\n",
       "      <td>0.494799</td>\n",
       "      <td>0.494135</td>\n",
       "      <td>0.506543</td>\n",
       "      <td>0.519769</td>\n",
       "      <td>0.492335</td>\n",
       "      <td>0.488433</td>\n",
       "    </tr>\n",
       "    <tr>\n",
       "      <th>std</th>\n",
       "      <td>0.283438</td>\n",
       "      <td>0.281720</td>\n",
       "      <td>0.289256</td>\n",
       "      <td>0.286991</td>\n",
       "      <td>0.294640</td>\n",
       "      <td>0.281300</td>\n",
       "    </tr>\n",
       "    <tr>\n",
       "      <th>min</th>\n",
       "      <td>0.000357</td>\n",
       "      <td>0.000061</td>\n",
       "      <td>0.000491</td>\n",
       "      <td>0.002560</td>\n",
       "      <td>0.001024</td>\n",
       "      <td>0.001146</td>\n",
       "    </tr>\n",
       "    <tr>\n",
       "      <th>25%</th>\n",
       "      <td>0.255175</td>\n",
       "      <td>0.257041</td>\n",
       "      <td>0.267001</td>\n",
       "      <td>0.264351</td>\n",
       "      <td>0.238453</td>\n",
       "      <td>0.238830</td>\n",
       "    </tr>\n",
       "    <tr>\n",
       "      <th>50%</th>\n",
       "      <td>0.486717</td>\n",
       "      <td>0.492988</td>\n",
       "      <td>0.506096</td>\n",
       "      <td>0.535905</td>\n",
       "      <td>0.500948</td>\n",
       "      <td>0.488307</td>\n",
       "    </tr>\n",
       "    <tr>\n",
       "      <th>75%</th>\n",
       "      <td>0.742316</td>\n",
       "      <td>0.728733</td>\n",
       "      <td>0.753189</td>\n",
       "      <td>0.770897</td>\n",
       "      <td>0.750457</td>\n",
       "      <td>0.737440</td>\n",
       "    </tr>\n",
       "    <tr>\n",
       "      <th>max</th>\n",
       "      <td>0.998229</td>\n",
       "      <td>0.999698</td>\n",
       "      <td>0.999560</td>\n",
       "      <td>0.999635</td>\n",
       "      <td>0.999374</td>\n",
       "      <td>0.997818</td>\n",
       "    </tr>\n",
       "  </tbody>\n",
       "</table>\n",
       "</div>"
      ],
      "text/plain": [
       "                 A            B            C            D            E  \\\n",
       "count  1000.000000  1000.000000  1000.000000  1000.000000  1000.000000   \n",
       "mean      0.494799     0.494135     0.506543     0.519769     0.492335   \n",
       "std       0.283438     0.281720     0.289256     0.286991     0.294640   \n",
       "min       0.000357     0.000061     0.000491     0.002560     0.001024   \n",
       "25%       0.255175     0.257041     0.267001     0.264351     0.238453   \n",
       "50%       0.486717     0.492988     0.506096     0.535905     0.500948   \n",
       "75%       0.742316     0.728733     0.753189     0.770897     0.750457   \n",
       "max       0.998229     0.999698     0.999560     0.999635     0.999374   \n",
       "\n",
       "                 F  \n",
       "count  1000.000000  \n",
       "mean      0.488433  \n",
       "std       0.281300  \n",
       "min       0.001146  \n",
       "25%       0.238830  \n",
       "50%       0.488307  \n",
       "75%       0.737440  \n",
       "max       0.997818  "
      ]
     },
     "execution_count": 46,
     "metadata": {},
     "output_type": "execute_result"
    }
   ],
   "source": [
    "# load DataFrame from csv file\n",
    "df_loaded = api.get_object(dataframe_file_name)\n",
    "df_loaded.describe()"
   ]
  },
  {
   "cell_type": "markdown",
   "id": "108196df",
   "metadata": {},
   "source": [
    "#### Upload Obejct using Pickle"
   ]
  },
  {
   "cell_type": "code",
   "execution_count": 47,
   "id": "a34e9485",
   "metadata": {},
   "outputs": [],
   "source": [
    "python_object_name = 'pyobj'"
   ]
  },
  {
   "cell_type": "code",
   "execution_count": 48,
   "id": "80719647",
   "metadata": {},
   "outputs": [],
   "source": [
    "# Python class\n",
    "class PythonObject:\n",
    "    def __init__(self, a, b, c):\n",
    "        self.__a = a\n",
    "        self.__b = b\n",
    "        self.__c = c\n",
    "    def print(self):\n",
    "        print(f'a={self.__a},b={self.__b},c={self.__c}')\n",
    "    def some_method(self):\n",
    "        print('Some method!')\n",
    "pyobj = PythonObject(1,2,'ok')"
   ]
  },
  {
   "cell_type": "code",
   "execution_count": 49,
   "id": "298c964d",
   "metadata": {},
   "outputs": [
    {
     "data": {
      "text/plain": [
       "{'FileName': 'pyobj',\n",
       " 'FileSize': 120,\n",
       " 'LastModified': '2024-09-14T08:24:44+00:00'}"
      ]
     },
     "execution_count": 49,
     "metadata": {},
     "output_type": "execute_result"
    }
   ],
   "source": [
    "# upload object by name\n",
    "api.upload_object(pyobj,python_object_name)"
   ]
  },
  {
   "cell_type": "code",
   "execution_count": 50,
   "id": "776a9def",
   "metadata": {},
   "outputs": [
    {
     "name": "stdout",
     "output_type": "stream",
     "text": [
      "a=1,b=2,c=ok\n",
      "Some method!\n"
     ]
    }
   ],
   "source": [
    "# get object\n",
    "pyobj_loaded = api.get_object(python_object_name)\n",
    "pyobj_loaded.print()\n",
    "pyobj_loaded.some_method()"
   ]
  },
  {
   "cell_type": "markdown",
   "id": "9ec88921",
   "metadata": {},
   "source": [
    "## Examples: Delete File"
   ]
  },
  {
   "cell_type": "code",
   "execution_count": 51,
   "id": "8d1be04b",
   "metadata": {
    "tags": []
   },
   "outputs": [
    {
     "data": {
      "text/plain": [
       "['18934 xlsm.xlsm',\n",
       " '18934 xlsx.xlsx',\n",
       " '19253 - header.csv',\n",
       " '19253.csv',\n",
       " 'Alias Mapping.xlsx',\n",
       " 'AustinISD_Time_Data_Hourly.xlsx',\n",
       " 'BRUGGE60K_FY-SF-KM-1-1.EGRID',\n",
       " 'BRUGGE60K_FY-SF-KM-1-1.GRDECL',\n",
       " 'Book1.xlsx',\n",
       " 'CVX Waterflood Pattern Allocations.xlsx',\n",
       " 'ConditionIdentificationMLModel.zip',\n",
       " 'ConditionIdentificationModel.zip',\n",
       " 'CumulativesTest.csv',\n",
       " 'Data Session Stats Old.xlsx',\n",
       " 'Data Session Stats.xlsx',\n",
       " 'Data.xlsx',\n",
       " 'DateFormat.xlsx',\n",
       " 'DeleteDataInScopeTest.xlsx',\n",
       " 'DemoData.accdb',\n",
       " 'Entities Import.xlsx',\n",
       " 'Example Well 001.LAS',\n",
       " 'FY-2022 Post-JIB (NET).xlsx',\n",
       " 'Fake Hierarchy.xlsx',\n",
       " 'Histórico_Teste_Poço_Geral_10anos_rev1 (1).xlsx',\n",
       " 'OGD_DrillingSpacingUnits.dbf',\n",
       " 'OGD_DrillingSpacingUnits.shp',\n",
       " 'Oil.xlsx',\n",
       " 'PetroVisor Sample Data.xlsx',\n",
       " 'Pontian1',\n",
       " 'Pontian1.shp',\n",
       " 'PredictiveMaintenance.zip',\n",
       " 'Prod Small Set.xlsx',\n",
       " 'ProdMan Report 02.27.2023.xlsx',\n",
       " 'Prod_1000.xlsx',\n",
       " 'PythonDataFrame',\n",
       " 'PythonDataFrame.csv',\n",
       " 'PythonDataFrame.xlsx',\n",
       " 'Reserves_Master_Oneline.xlsx',\n",
       " 'Static Small Set.xlsx',\n",
       " 'String Cleansing Concat.xlsx',\n",
       " 'String Cleansing.xlsx',\n",
       " 'Synthetic Production Data.csv',\n",
       " 'Synthetic Static Data.xlsx',\n",
       " 'Tag Entries Import Test.xlsx',\n",
       " 'TagEntriesImportExample.xlsx',\n",
       " 'WDBC_QEPDEMO_Well_Header.txt',\n",
       " 'WFMP A SHALE - STRUCTURE.zmap',\n",
       " 'Weird Date Format.xlsx',\n",
       " 'Well Test.xlsx',\n",
       " 'WellMaster-Steward Master Well List (6).xlsx',\n",
       " 'Workflow Export.csv',\n",
       " 'analytic_params.npy',\n",
       " 'best_actor_model.onnx',\n",
       " 'data integration test.xlsx',\n",
       " 'first_file.csv',\n",
       " 'folder_name/text_file_inside_folder.txt',\n",
       " 'fu-86D-AL.csv',\n",
       " 'fu-86D-AL.xls',\n",
       " 'in_memory_json_file.txt',\n",
       " 'in_memory_text_file.txt',\n",
       " 'irap_grid_01.png',\n",
       " 'iris_binary_classification.onnx',\n",
       " 'iris_binary_classification_zipmap_false.onnx',\n",
       " 'json_file.txt',\n",
       " 'linear_regression_model.onnx',\n",
       " 'model_tf (1).onnx',\n",
       " 'model_tf (2).onnx',\n",
       " 'model_tf (3).onnx',\n",
       " 'model_tf.onnx',\n",
       " 'npssss.onnx',\n",
       " 'oip_map',\n",
       " 'oip_map.shp',\n",
       " 'oip_map_cps3',\n",
       " 'oip_map_irap',\n",
       " 'oip_map_zmap',\n",
       " 'pyobj',\n",
       " 'python_file.json',\n",
       " 'python_object.json',\n",
       " 'pytorch_mlp.onnx',\n",
       " 'regression_4in_1out_tf2onnx_onnx_model (1).onnx',\n",
       " 'regression_4in_1out_tf2onnx_onnx_model.onnx',\n",
       " 'regression_4in_1out_tf2onnx_onnxmodel.onnx',\n",
       " 'regression_model (1).onnx',\n",
       " 'regression_model.onnx',\n",
       " 'requirements (1).txt',\n",
       " 'requirements.txt',\n",
       " 'requirementsfile.txt',\n",
       " 'requirementsfilenotorch (1).txt',\n",
       " 'requirementsfilenotorch.txt',\n",
       " 'saved_model.pb',\n",
       " 'second_file.csv',\n",
       " 'shapefile_map_example.dbf',\n",
       " 'shapefile_map_example.prj',\n",
       " 'shapefile_map_example.shp',\n",
       " 'shapefile_map_example.shx',\n",
       " 'sklearn_iris_model (1).onnx',\n",
       " 'sklearn_iris_model (2).onnx',\n",
       " 'sklearn_iris_model.onnx',\n",
       " 'tensorflow_iris_model.onnx',\n",
       " 'text_file.txt',\n",
       " 'tf_keras_mlp (1).onnx',\n",
       " 'torch_iris_model (2).onnx',\n",
       " 'torch_iris_model.onnx',\n",
       " 'zmap_example']"
      ]
     },
     "execution_count": 51,
     "metadata": {},
     "output_type": "execute_result"
    }
   ],
   "source": [
    "# get file names\n",
    "files = api.get_file_names()\n",
    "files"
   ]
  },
  {
   "cell_type": "code",
   "execution_count": 52,
   "id": "4ebea39b",
   "metadata": {},
   "outputs": [
    {
     "data": {
      "text/plain": [
       "<Response [200]>"
      ]
     },
     "execution_count": 52,
     "metadata": {},
     "output_type": "execute_result"
    }
   ],
   "source": [
    "# delete file or object\n",
    "filename = python_object_name\n",
    "api.delete_file(filename)"
   ]
  },
  {
   "cell_type": "code",
   "execution_count": null,
   "id": "350d3f2e",
   "metadata": {},
   "outputs": [],
   "source": []
  },
  {
   "cell_type": "code",
   "execution_count": null,
   "id": "cab8c13f-1ca7-4e7e-b96c-f1841213d61a",
   "metadata": {},
   "outputs": [],
   "source": []
  },
  {
   "cell_type": "code",
   "execution_count": null,
   "id": "e67a5e47-0345-4904-a07d-30712842a4a1",
   "metadata": {},
   "outputs": [],
   "source": []
  },
  {
   "cell_type": "code",
   "execution_count": null,
   "id": "019aac0d-63c1-4303-8ece-87cdd794e8ed",
   "metadata": {},
   "outputs": [],
   "source": []
  },
  {
   "cell_type": "code",
   "execution_count": null,
   "id": "abe025f1-7ceb-42eb-8091-f8ab54bd869f",
   "metadata": {},
   "outputs": [],
   "source": []
  },
  {
   "cell_type": "code",
   "execution_count": null,
   "id": "5e023f19-8032-4e87-9df9-a9b4d7208b81",
   "metadata": {},
   "outputs": [],
   "source": []
  }
 ],
 "metadata": {
  "kernelspec": {
   "display_name": "Python 3 (ipykernel)",
   "language": "python",
   "name": "python3"
  },
  "language_info": {
   "codemirror_mode": {
    "name": "ipython",
    "version": 3
   },
   "file_extension": ".py",
   "mimetype": "text/x-python",
   "name": "python",
   "nbconvert_exporter": "python",
   "pygments_lexer": "ipython3",
   "version": "3.11.6"
  }
 },
 "nbformat": 4,
 "nbformat_minor": 5
}
