{
 "cells": [
  {
   "cell_type": "code",
   "execution_count": 1,
   "id": "80634b27",
   "metadata": {},
   "outputs": [],
   "source": [
    "import petrovisor as pv"
   ]
  },
  {
   "cell_type": "markdown",
   "id": "b8c50659",
   "metadata": {},
   "source": [
    "# Authorization"
   ]
  },
  {
   "cell_type": "code",
   "execution_count": null,
   "id": "34da33fa",
   "metadata": {},
   "outputs": [],
   "source": [
    "# url\n",
    "# discovery_url = r'https://identity.eu1.petrovisor.com'\n",
    "discovery_url = r'https://identity.us1.petrovisor.com'\n",
    "\n",
    "# workspace\n",
    "workspace = 'Workspace Name'\n",
    "\n",
    "# generate access key (only for the first time, comment the line afterwards)\n",
    "key = pv.PetroVisor.generate_credentials_key()\n",
    "# print(f\"key : '{key}'\")\n",
    "# save key for later to reuse\n",
    "# key = ''\n",
    "\n",
    "api = pv.PetroVisor(workspace = workspace, discovery_url = discovery_url, key = key)\n",
    "print(api.Api)"
   ]
  },
  {
   "cell_type": "markdown",
   "id": "f887680e",
   "metadata": {},
   "source": [
    "# PetroVisor API Swagger"
   ]
  },
  {
   "cell_type": "markdown",
   "id": "8702860e",
   "metadata": {},
   "source": [
    "https://api.eu1.petrovisor.com/index.html"
   ]
  },
  {
   "cell_type": "markdown",
   "id": "68f78ac0",
   "metadata": {},
   "source": [
    "https://api.us1.petrovisor.com/index.html"
   ]
  },
  {
   "cell_type": "markdown",
   "id": "db5d0f94",
   "metadata": {},
   "source": [
    "# Examples: 'Get', 'Post', 'Put', 'Delete' requests"
   ]
  },
  {
   "cell_type": "markdown",
   "id": "796277f4",
   "metadata": {},
   "source": [
    "#### Put request"
   ]
  },
  {
   "cell_type": "code",
   "execution_count": 3,
   "id": "952f65be",
   "metadata": {},
   "outputs": [
    {
     "data": {
      "text/plain": [
       "{'EntityTypeName': 'Well', 'Alias': '', 'Name': 'Python Test Well'}"
      ]
     },
     "execution_count": 3,
     "metadata": {},
     "output_type": "execute_result"
    }
   ],
   "source": [
    "# put request\n",
    "name = 'Python Test Well'\n",
    "api.put(f'Entities/{name}',data = {\n",
    "  'Name': name,\n",
    "  'EntityTypeName': 'Well',\n",
    "  'Alias': '',\n",
    "  'IsOpportunity': False,\n",
    "})"
   ]
  },
  {
   "cell_type": "markdown",
   "id": "287a20f7",
   "metadata": {},
   "source": [
    "#### Post request"
   ]
  },
  {
   "cell_type": "code",
   "execution_count": 4,
   "id": "12627059",
   "metadata": {},
   "outputs": [
    {
     "data": {
      "text/plain": [
       "<Response [200]>"
      ]
     },
     "execution_count": 4,
     "metadata": {},
     "output_type": "execute_result"
    }
   ],
   "source": [
    "# post request\n",
    "old_name = 'Python Test Well'\n",
    "new_name = 'Python New Test Well'\n",
    "api.post(f'Entities/Rename',query = {\n",
    "    'OldName':old_name,\n",
    "    'NewName':new_name,\n",
    "})"
   ]
  },
  {
   "cell_type": "markdown",
   "id": "efc30e6b",
   "metadata": {},
   "source": [
    "#### Get request"
   ]
  },
  {
   "cell_type": "code",
   "execution_count": 5,
   "id": "cf70c03a",
   "metadata": {},
   "outputs": [
    {
     "data": {
      "text/plain": [
       "{'EntityTypeName': 'Well', 'Name': 'Python New Test Well'}"
      ]
     },
     "execution_count": 5,
     "metadata": {},
     "output_type": "execute_result"
    }
   ],
   "source": [
    "# get request\n",
    "name = 'Python New Test Well'\n",
    "api.get(f'Entities/{name}')"
   ]
  },
  {
   "cell_type": "markdown",
   "id": "f95025ea",
   "metadata": {},
   "source": [
    "#### Delete request"
   ]
  },
  {
   "cell_type": "code",
   "execution_count": 6,
   "id": "732fcdb1",
   "metadata": {},
   "outputs": [
    {
     "data": {
      "text/plain": [
       "<Response [200]>"
      ]
     },
     "execution_count": 6,
     "metadata": {},
     "output_type": "execute_result"
    }
   ],
   "source": [
    "# delete request\n",
    "name = 'Python New Test Well'\n",
    "api.delete(f'Entities/{name}')"
   ]
  },
  {
   "cell_type": "markdown",
   "id": "b26f2ef0",
   "metadata": {},
   "source": [
    "# Examples: Logs"
   ]
  },
  {
   "cell_type": "code",
   "execution_count": 7,
   "id": "4d639298",
   "metadata": {},
   "outputs": [
    {
     "data": {
      "text/plain": [
       "<Response [200]>"
      ]
     },
     "execution_count": 7,
     "metadata": {},
     "output_type": "execute_result"
    }
   ],
   "source": [
    "api.add_log_entry('Hello PetroVisor!',\n",
    "                     username='PetroVisor User')"
   ]
  }
 ],
 "metadata": {
  "kernelspec": {
   "display_name": "Python 3 (ipykernel)",
   "language": "python",
   "name": "python3"
  },
  "language_info": {
   "codemirror_mode": {
    "name": "ipython",
    "version": 3
   },
   "file_extension": ".py",
   "mimetype": "text/x-python",
   "name": "python",
   "nbconvert_exporter": "python",
   "pygments_lexer": "ipython3",
   "version": "3.11.6"
  }
 },
 "nbformat": 4,
 "nbformat_minor": 5
}
